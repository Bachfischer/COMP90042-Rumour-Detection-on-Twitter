{
 "cells": [
  {
   "cell_type": "code",
   "execution_count": 9,
   "id": "relevant-incidence",
   "metadata": {},
   "outputs": [],
   "source": [
    "# NOTE: Some modifications to multimodal-transformer source code have been performed but are not tracked by version control."
   ]
  },
  {
   "cell_type": "code",
   "execution_count": 5,
   "id": "referenced-thread",
   "metadata": {},
   "outputs": [
    {
     "name": "stdout",
     "output_type": "stream",
     "text": [
      "Requirement already satisfied: multimodal-transformers in /opt/conda/lib/python3.7/site-packages (0.1.4a0)\n",
      "Requirement already satisfied: pandas in /opt/conda/lib/python3.7/site-packages (from multimodal-transformers) (1.2.3)\n",
      "Collecting transformers==3.1\n",
      "  Using cached transformers-3.1.0-py3-none-any.whl (884 kB)\n",
      "Requirement already satisfied: networkx in /opt/conda/lib/python3.7/site-packages (from multimodal-transformers) (2.5)\n",
      "Requirement already satisfied: torch in /opt/conda/lib/python3.7/site-packages (from multimodal-transformers) (1.8.1)\n",
      "Requirement already satisfied: scipy in /opt/conda/lib/python3.7/site-packages (from multimodal-transformers) (1.6.2)\n",
      "Requirement already satisfied: scikit-learn in /opt/conda/lib/python3.7/site-packages (from multimodal-transformers) (0.24.1)\n",
      "Requirement already satisfied: tqdm in /opt/conda/lib/python3.7/site-packages (from multimodal-transformers) (4.59.0)\n",
      "Requirement already satisfied: numpy in /opt/conda/lib/python3.7/site-packages (from multimodal-transformers) (1.19.5)\n",
      "Requirement already satisfied: filelock in /opt/conda/lib/python3.7/site-packages (from transformers==3.1->multimodal-transformers) (3.0.12)\n",
      "Requirement already satisfied: packaging in /opt/conda/lib/python3.7/site-packages (from transformers==3.1->multimodal-transformers) (20.9)\n",
      "Requirement already satisfied: sentencepiece!=0.1.92 in /opt/conda/lib/python3.7/site-packages (from transformers==3.1->multimodal-transformers) (0.1.95)\n",
      "Requirement already satisfied: sacremoses in /opt/conda/lib/python3.7/site-packages (from transformers==3.1->multimodal-transformers) (0.0.44)\n",
      "Requirement already satisfied: requests in /opt/conda/lib/python3.7/site-packages (from transformers==3.1->multimodal-transformers) (2.25.1)\n",
      "Collecting tokenizers==0.8.1.rc2\n",
      "  Using cached tokenizers-0.8.1rc2-cp37-cp37m-manylinux1_x86_64.whl (3.0 MB)\n",
      "Requirement already satisfied: regex!=2019.12.17 in /opt/conda/lib/python3.7/site-packages (from transformers==3.1->multimodal-transformers) (2021.3.17)\n",
      "Requirement already satisfied: decorator>=4.3.0 in /opt/conda/lib/python3.7/site-packages (from networkx->multimodal-transformers) (4.4.2)\n",
      "Requirement already satisfied: pyparsing>=2.0.2 in /opt/conda/lib/python3.7/site-packages (from packaging->transformers==3.1->multimodal-transformers) (2.4.7)\n",
      "Requirement already satisfied: python-dateutil>=2.7.3 in /opt/conda/lib/python3.7/site-packages (from pandas->multimodal-transformers) (2.8.1)\n",
      "Requirement already satisfied: pytz>=2017.3 in /opt/conda/lib/python3.7/site-packages (from pandas->multimodal-transformers) (2021.1)\n",
      "Requirement already satisfied: six>=1.5 in /opt/conda/lib/python3.7/site-packages (from python-dateutil>=2.7.3->pandas->multimodal-transformers) (1.15.0)\n",
      "Requirement already satisfied: chardet<5,>=3.0.2 in /opt/conda/lib/python3.7/site-packages (from requests->transformers==3.1->multimodal-transformers) (4.0.0)\n",
      "Requirement already satisfied: urllib3<1.27,>=1.21.1 in /opt/conda/lib/python3.7/site-packages (from requests->transformers==3.1->multimodal-transformers) (1.26.4)\n",
      "Requirement already satisfied: idna<3,>=2.5 in /opt/conda/lib/python3.7/site-packages (from requests->transformers==3.1->multimodal-transformers) (2.10)\n",
      "Requirement already satisfied: certifi>=2017.4.17 in /opt/conda/lib/python3.7/site-packages (from requests->transformers==3.1->multimodal-transformers) (2020.12.5)\n",
      "Requirement already satisfied: joblib in /opt/conda/lib/python3.7/site-packages (from sacremoses->transformers==3.1->multimodal-transformers) (1.0.1)\n",
      "Requirement already satisfied: click in /opt/conda/lib/python3.7/site-packages (from sacremoses->transformers==3.1->multimodal-transformers) (7.1.2)\n",
      "Requirement already satisfied: threadpoolctl>=2.0.0 in /opt/conda/lib/python3.7/site-packages (from scikit-learn->multimodal-transformers) (2.1.0)\n",
      "Requirement already satisfied: typing-extensions in /opt/conda/lib/python3.7/site-packages (from torch->multimodal-transformers) (3.7.4.3)\n",
      "Installing collected packages: tokenizers, transformers\n",
      "  Attempting uninstall: tokenizers\n",
      "    Found existing installation: tokenizers 0.10.2\n",
      "    Uninstalling tokenizers-0.10.2:\n",
      "      Successfully uninstalled tokenizers-0.10.2\n",
      "  Attempting uninstall: transformers\n",
      "    Found existing installation: transformers 4.6.0.dev0\n",
      "    Uninstalling transformers-4.6.0.dev0:\n",
      "      Successfully uninstalled transformers-4.6.0.dev0\n",
      "Successfully installed tokenizers-0.8.1rc2 transformers-3.1.0\n"
     ]
    }
   ],
   "source": [
    "! pip install multimodal-transformers"
   ]
  },
  {
   "cell_type": "code",
   "execution_count": 15,
   "id": "mechanical-agent",
   "metadata": {},
   "outputs": [],
   "source": [
    "import json\n",
    "import re\n",
    "import sys\n",
    "import pandas as pd\n",
    "import numpy as np"
   ]
  },
  {
   "cell_type": "markdown",
   "id": "dedicated-shelf",
   "metadata": {},
   "source": [
    "## Preprocessing"
   ]
  },
  {
   "cell_type": "code",
   "execution_count": 1,
   "id": "coated-alberta",
   "metadata": {},
   "outputs": [],
   "source": [
    "import dataloader"
   ]
  },
  {
   "cell_type": "code",
   "execution_count": 2,
   "id": "reserved-decrease",
   "metadata": {},
   "outputs": [],
   "source": [
    "train_df = dataloader.load_data(data_file = '../data/train.data.jsonl', label_file = '../data/train.label.json', perform_stemming = False)\n",
    "dev_df = dataloader.load_data(data_file = '../data/dev.data.jsonl', label_file = '../data/dev.label.json', perform_stemming = False)\n",
    "test_df = dataloader.load_data(data_file = '../data/test.data.jsonl', label_file = None, perform_stemming = False)"
   ]
  },
  {
   "cell_type": "code",
   "execution_count": 7,
   "id": "loaded-accounting",
   "metadata": {},
   "outputs": [
    {
     "data": {
      "text/plain": [
       "'5 people have been able to get out of sydney cafe during hostage situation: fucking terrorists ...   ,      ,     ,    .  5 people have been able to get out of sydney cafe during hostage situation: her fingers look broken. 5 otages libres 5 people have been able to get out of sydney cafe : definitely adding that tweet to my 5 people have been able to get out of sydney cafe during hostage situation:   cuba usa stop showing their faces, they are going to have enough trouble without forever being linked with this event i sure hope the hostage taker gets out. feet first and room temp. 5 people have been able to get out of sydney cafe during hostage situation: dear mr. swat team guy, you may want to choose a long rifle for a more precise shot. this is not csi or miami vice. radical islam again spreading terror.  muslims are fanatical zealots p2 isis syndeysiege anyone see the connection yet? how long r free and democratic nations going to allow terrorists and state sponsors of terror dictate?'"
      ]
     },
     "execution_count": 7,
     "metadata": {},
     "output_type": "execute_result"
    }
   ],
   "source": [
    "test_df['text'][0]"
   ]
  },
  {
   "cell_type": "markdown",
   "id": "cheap-fault",
   "metadata": {},
   "source": [
    "## Multimodal BERT"
   ]
  },
  {
   "cell_type": "code",
   "execution_count": 8,
   "id": "closing-actor",
   "metadata": {},
   "outputs": [],
   "source": [
    "from dataclasses import dataclass, field\n",
    "import json\n",
    "import logging\n",
    "import os\n",
    "from typing import Optional\n",
    "\n",
    "from transformers import (\n",
    "    AutoTokenizer,\n",
    "    AutoConfig,\n",
    "    Trainer,\n",
    "    EvalPrediction,\n",
    "    set_seed\n",
    ")\n",
    "from transformers.training_args import TrainingArguments\n",
    "\n",
    "from multimodal_transformers.data import load_data_from_folder\n",
    "from multimodal_transformers.model import TabularConfig\n",
    "from multimodal_transformers.model import AutoModelWithTabular\n",
    "\n",
    "logging.basicConfig(level=logging.INFO)\n",
    "os.environ['COMET_MODE'] = 'DISABLED'"
   ]
  },
  {
   "cell_type": "code",
   "execution_count": 9,
   "id": "entertaining-category",
   "metadata": {},
   "outputs": [],
   "source": [
    "@dataclass\n",
    "class ModelArguments:\n",
    "    \"\"\"\n",
    "    Arguments pertaining to which model/config/tokenizer we are going to fine-tune from.\n",
    "    \"\"\"\n",
    "    model_name_or_path: str = field(\n",
    "      metadata={\"help\": \"Path to pretrained model or model identifier from huggingface.co/models\"}\n",
    "    )\n",
    "    config_name: Optional[str] = field(\n",
    "      default=None, metadata={\"help\": \"Pretrained config name or path if not the same as model_name\"}\n",
    "    )\n",
    "    tokenizer_name: Optional[str] = field(\n",
    "      default=None, metadata={\"help\": \"Pretrained tokenizer name or path if not the same as model_name\"}\n",
    "    )\n",
    "    cache_dir: Optional[str] = field(\n",
    "      default=None, metadata={\"help\": \"Where do you want to store the pretrained models downloaded from s3\"}\n",
    "    )\n",
    "\n",
    "\n",
    "@dataclass\n",
    "class MultimodalDataTrainingArguments:\n",
    "    \"\"\"\n",
    "    Arguments pertaining to how we combine tabular features\n",
    "    Using `HfArgumentParser` we can turn this class\n",
    "    into argparse arguments to be able to specify them on\n",
    "    the command line.\n",
    "    \"\"\"\n",
    "\n",
    "    data_path: str = field(metadata={\n",
    "                            'help': 'the path to the csv file containing the dataset'\n",
    "                        })\n",
    "    column_info_path: str = field(\n",
    "      default=None,\n",
    "      metadata={\n",
    "          'help': 'the path to the json file detailing which columns are text, categorical, numerical, and the label'\n",
    "    })\n",
    "\n",
    "    column_info: dict = field(\n",
    "      default=None,\n",
    "      metadata={\n",
    "          'help': 'a dict referencing the text, categorical, numerical, and label columns'\n",
    "                  'its keys are text_cols, num_cols, cat_cols, and label_col'\n",
    "    })\n",
    "\n",
    "    categorical_encode_type: str = field(default='ohe',\n",
    "                                        metadata={\n",
    "                                            'help': 'sklearn encoder to use for categorical data',\n",
    "                                            'choices': ['ohe', 'binary', 'label', 'none']\n",
    "                                        })\n",
    "    numerical_transformer_method: str = field(default='yeo_johnson',\n",
    "                                            metadata={\n",
    "                                                'help': 'sklearn numerical transformer to preprocess numerical data',\n",
    "                                                'choices': ['yeo_johnson', 'box_cox', 'quantile_normal', 'none']\n",
    "                                            })\n",
    "    task: str = field(default=\"classification\",\n",
    "                    metadata={\n",
    "                        \"help\": \"The downstream training task\",\n",
    "                        \"choices\": [\"classification\", \"regression\"]\n",
    "                    })\n",
    "\n",
    "    mlp_division: int = field(default=4,\n",
    "                            metadata={\n",
    "                                'help': 'the ratio of the number of '\n",
    "                                        'hidden dims in a current layer to the next MLP layer'\n",
    "                            })\n",
    "    combine_feat_method: str = field(default='individual_mlps_on_cat_and_numerical_feats_then_concat',\n",
    "                                    metadata={\n",
    "                                        'help': 'method to combine categorical and numerical features, '\n",
    "                                                'see README for all the method'\n",
    "                                    })\n",
    "    mlp_dropout: float = field(default=0.1,\n",
    "                              metadata={\n",
    "                                'help': 'dropout ratio used for MLP layers'\n",
    "                              })\n",
    "    numerical_bn: bool = field(default=True,\n",
    "                              metadata={\n",
    "                                  'help': 'whether to use batchnorm on numerical features'\n",
    "                              })\n",
    "    use_simple_classifier: str = field(default=True,\n",
    "                                      metadata={\n",
    "                                          'help': 'whether to use single layer or MLP as final classifier'\n",
    "                                      })\n",
    "    mlp_act: str = field(default='relu',\n",
    "                        metadata={\n",
    "                            'help': 'the activation function to use for finetuning layers',\n",
    "                            'choices': ['relu', 'prelu', 'sigmoid', 'tanh', 'linear']\n",
    "                        })\n",
    "    gating_beta: float = field(default=0.2,\n",
    "                              metadata={\n",
    "                                  'help': \"the beta hyperparameters used for gating tabular data \"\n",
    "                                          \"see https://www.aclweb.org/anthology/2020.acl-main.214.pdf\"\n",
    "                              })\n",
    "\n",
    "    def __post_init__(self):\n",
    "        assert self.column_info != self.column_info_path\n",
    "        if self.column_info is None and self.column_info_path:\n",
    "            with open(self.column_info_path, 'r') as f:\n",
    "                self.column_info = json.load(f)"
   ]
  },
  {
   "cell_type": "code",
   "execution_count": 26,
   "id": "martial-compact",
   "metadata": {},
   "outputs": [],
   "source": [
    "text_cols = ['text']\n",
    "cat_cols = ['question_mark', 'contains_url', 'contains_media', 'contains_profile_background_image', 'verified', 'geo_enabled', 'has_description']\n",
    "numerical_cols = ['retweet_count', 'favorite_count', 'number_urls','statuses_count', 'listed_count', 'reputation_score_1', 'reputation_score_2', 'favourites_count','length_description','follow_tweets']\n",
    "\n",
    "column_info_dict = {\n",
    "    'text_cols': text_cols,\n",
    "    'num_cols': numerical_cols,\n",
    "    'cat_cols': cat_cols,\n",
    "    'label_col': 'label',\n",
    "    'label_list': [0, 1]\n",
    "}\n",
    "\n",
    "\n",
    "model_args = ModelArguments(\n",
    "    model_name_or_path='bert-base-uncased'\n",
    ")\n",
    "\n",
    "data_args = MultimodalDataTrainingArguments(\n",
    "    data_path='.',\n",
    "    combine_feat_method='gating_on_cat_and_num_feats_then_sum',\n",
    "    column_info=column_info_dict,\n",
    "    task='classification'\n",
    ")\n",
    "\n",
    "training_args = TrainingArguments(\n",
    "    output_dir=\"./logs/model_name\",\n",
    "    logging_dir=\"./logs/runs\",\n",
    "    overwrite_output_dir=True,\n",
    "    do_train=True,\n",
    "    do_eval=True,\n",
    "    per_device_train_batch_size=4,\n",
    "    num_train_epochs=3,\n",
    "    evaluate_during_training=True,\n",
    "    logging_steps=25,\n",
    "    eval_steps=250,\n",
    "    dataloader_drop_last=True\n",
    ")\n",
    "\n",
    "set_seed(training_args.seed)"
   ]
  },
  {
   "cell_type": "code",
   "execution_count": 27,
   "id": "peaceful-wallpaper",
   "metadata": {},
   "outputs": [
    {
     "name": "stdout",
     "output_type": "stream",
     "text": [
      "Specified tokenizer:  bert-base-uncased\n"
     ]
    }
   ],
   "source": [
    "tokenizer_path_or_name = model_args.tokenizer_name if model_args.tokenizer_name else model_args.model_name_or_path\n",
    "print('Specified tokenizer: ', tokenizer_path_or_name)\n",
    "\n",
    "# Tokens automatically converted to lower_case\n",
    "tokenizer = AutoTokenizer.from_pretrained(\n",
    "    tokenizer_path_or_name,\n",
    "    cache_dir=model_args.cache_dir\n",
    ")"
   ]
  },
  {
   "cell_type": "code",
   "execution_count": 28,
   "id": "increased-antique",
   "metadata": {},
   "outputs": [
    {
     "name": "stderr",
     "output_type": "stream",
     "text": [
      "INFO:multimodal_transformers.data.data_utils:9 numerical columns\n",
      "/opt/conda/lib/python3.7/site-packages/pandas/core/frame.py:3191: SettingWithCopyWarning: \n",
      "A value is trying to be set on a copy of a slice from a DataFrame.\n",
      "Try using .loc[row_indexer,col_indexer] = value instead\n",
      "\n",
      "See the caveats in the documentation: https://pandas.pydata.org/pandas-docs/stable/user_guide/indexing.html#returning-a-view-versus-a-copy\n",
      "  self[k1] = value[k2]\n",
      "INFO:multimodal_transformers.data.data_utils:20 categorical columns\n",
      "INFO:multimodal_transformers.data.data_utils:9 numerical columns\n",
      "/opt/conda/lib/python3.7/site-packages/pandas/core/frame.py:3191: SettingWithCopyWarning: \n",
      "A value is trying to be set on a copy of a slice from a DataFrame.\n",
      "Try using .loc[row_indexer,col_indexer] = value instead\n",
      "\n",
      "See the caveats in the documentation: https://pandas.pydata.org/pandas-docs/stable/user_guide/indexing.html#returning-a-view-versus-a-copy\n",
      "  self[k1] = value[k2]\n",
      "INFO:multimodal_transformers.data.load_data:Text columns: ['text']\n",
      "INFO:multimodal_transformers.data.load_data:Raw text example: how to respond to the murderous attack on charlie hebdo? every newspaper in the free world should print this. jews label anyone they do not like as anti-semite and campaign until that person/company is finished. no one does. imcharliehebdo ditto what innocent muslims ought to find insulting is an atrocity committed in their name, not a sodding cartoon. yes, until it becomes yours. why insult people who have nothing to do with this? people are genuinely offended by such drawings. and neither am i! i think this has little to do with actual muslims. ah, you do not like jews. bye bye. also they kid you along with benign stuff then ... wham it is like a river of shite! it is a good point how about this? organised jewry, i mean, not the actual people. otherwise i would be hating on my own ancestors. ...and this: explored. and if that is the case, that is your problem. no point insulting billions of innocent muslims just to thumb our noses at a bunch of lunatics.they are not worth it oh dear... just saw those tweets... blocked him. because they have to learn to not be offended, that is why. but by that token jews, blacks and irish people would have to 'learn' not to be offended either i get that ... i defend the right to free speech however there is a much broader context to this which is not just for the record. i am not in any way, shape or form defending this atrocity. yes, remind me when was the last time jews bombed the guardian. i know!  gives me the creeps. there is a lot of very dodgy twitter accounts who seem benign then you see the real side :( if people insult something that is important to you, you feel that your identity is under attack. it is remarkable how quickly they come out the woodwork. why is the correct response to brutality to offend lots of people who *do not* support that brutality?\n",
      "INFO:multimodal_transformers.data.data_utils:20 categorical columns\n",
      "INFO:multimodal_transformers.data.data_utils:9 numerical columns\n",
      "/opt/conda/lib/python3.7/site-packages/pandas/core/frame.py:3191: SettingWithCopyWarning: \n",
      "A value is trying to be set on a copy of a slice from a DataFrame.\n",
      "Try using .loc[row_indexer,col_indexer] = value instead\n",
      "\n",
      "See the caveats in the documentation: https://pandas.pydata.org/pandas-docs/stable/user_guide/indexing.html#returning-a-view-versus-a-copy\n",
      "  self[k1] = value[k2]\n",
      "INFO:multimodal_transformers.data.load_data:Text columns: ['text']\n",
      "INFO:multimodal_transformers.data.load_data:Raw text example: 5 people have been able to get out of sydney cafe during hostage situation: fucking terrorists ...   ,      ,     ,    .  5 people have been able to get out of sydney cafe during hostage situation: her fingers look broken. 5 otages libres 5 people have been able to get out of sydney cafe : definitely adding that tweet to my 5 people have been able to get out of sydney cafe during hostage situation:   cuba usa stop showing their faces, they are going to have enough trouble without forever being linked with this event i sure hope the hostage taker gets out. feet first and room temp. 5 people have been able to get out of sydney cafe during hostage situation: dear mr. swat team guy, you may want to choose a long rifle for a more precise shot. this is not csi or miami vice. radical islam again spreading terror.  muslims are fanatical zealots p2 isis syndeysiege anyone see the connection yet? how long r free and democratic nations going to allow terrorists and state sponsors of terror dictate?\n",
      "INFO:multimodal_transformers.data.data_utils:20 categorical columns\n",
      "INFO:multimodal_transformers.data.data_utils:9 numerical columns\n",
      "/opt/conda/lib/python3.7/site-packages/pandas/core/frame.py:3191: SettingWithCopyWarning: \n",
      "A value is trying to be set on a copy of a slice from a DataFrame.\n",
      "Try using .loc[row_indexer,col_indexer] = value instead\n",
      "\n",
      "See the caveats in the documentation: https://pandas.pydata.org/pandas-docs/stable/user_guide/indexing.html#returning-a-view-versus-a-copy\n",
      "  self[k1] = value[k2]\n",
      "INFO:multimodal_transformers.data.load_data:Text columns: ['text']\n",
      "INFO:multimodal_transformers.data.load_data:Raw text example: breaking reports: 2 brothers suspected of charlie hebdo attack are dead :it is unfortunate that they got what they wanted, to die as martyrs, but i am glad for the french people that this part is over. that sucks. think bigger picture. we need to know what they know and who they worked for. breaking reports: 2 brothers suspected of charlie hebdo attack are dead  and gone to hell got to kill the ones that were ordered to kill the journalists right? just a guess... two less to go... breaking reports: 2 brothers suspected of charlie hebdo attack are dead  jesuischarlie breaking reports: 2 brothers suspected of charlie hebdo attack are dead  good breaking reports: 2 brothers suspected of charlie hebdo attack are dead breaking reports: 2 brothers suspected of charlie hebdo attack are dead i gave in...heard from my favorite radio station here in dc area...thank u for writing ...&lt;3\n"
     ]
    }
   ],
   "source": [
    "# Get Datasets\n",
    "train_dataset, dev_dataset, test_dataset = load_data_from_folder(train_df, dev_df, test_df,\n",
    "    data_args.column_info['text_cols'],\n",
    "    tokenizer,\n",
    "    label_col=data_args.column_info['label_col'],\n",
    "    label_list=data_args.column_info['label_list'],\n",
    "    categorical_cols=data_args.column_info['cat_cols'],\n",
    "    numerical_cols=data_args.column_info['num_cols'],\n",
    "    sep_text_token_str=tokenizer.sep_token\n",
    ")"
   ]
  },
  {
   "cell_type": "code",
   "execution_count": 29,
   "id": "abroad-education",
   "metadata": {},
   "outputs": [
    {
     "data": {
      "text/plain": [
       "2"
      ]
     },
     "execution_count": 29,
     "metadata": {},
     "output_type": "execute_result"
    }
   ],
   "source": [
    "num_labels = len(np.unique(train_dataset.labels))\n",
    "num_labels"
   ]
  },
  {
   "cell_type": "code",
   "execution_count": 30,
   "id": "beneficial-large",
   "metadata": {},
   "outputs": [],
   "source": [
    "config = AutoConfig.from_pretrained(\n",
    "        model_args.config_name if model_args.config_name else model_args.model_name_or_path,\n",
    "        cache_dir=model_args.cache_dir,\n",
    "    )\n",
    "tabular_config = TabularConfig(num_labels=num_labels,\n",
    "                               cat_feat_dim=train_dataset.cat_feats.shape[1],\n",
    "                               numerical_feat_dim=train_dataset.numerical_feats.shape[1],\n",
    "                               **vars(data_args))\n",
    "config.tabular_config = tabular_config"
   ]
  },
  {
   "cell_type": "code",
   "execution_count": 31,
   "id": "charged-above",
   "metadata": {},
   "outputs": [
    {
     "name": "stderr",
     "output_type": "stream",
     "text": [
      "Some weights of the model checkpoint at bert-base-uncased were not used when initializing BertWithTabular: ['cls.predictions.bias', 'cls.predictions.transform.dense.weight', 'cls.predictions.transform.dense.bias', 'cls.predictions.decoder.weight', 'cls.seq_relationship.weight', 'cls.seq_relationship.bias', 'cls.predictions.transform.LayerNorm.weight', 'cls.predictions.transform.LayerNorm.bias']\n",
      "- This IS expected if you are initializing BertWithTabular from the checkpoint of a model trained on another task or with another architecture (e.g. initializing a BertForSequenceClassification model from a BertForPretraining model).\n",
      "- This IS NOT expected if you are initializing BertWithTabular from the checkpoint of a model that you expect to be exactly identical (initializing a BertForSequenceClassification model from a BertForSequenceClassification model).\n",
      "Some weights of BertWithTabular were not initialized from the model checkpoint at bert-base-uncased and are newly initialized: ['classifier.weight', 'classifier.bias', 'tabular_combiner.h_bias', 'tabular_combiner.num_bn.weight', 'tabular_combiner.num_bn.bias', 'tabular_combiner.num_bn.running_mean', 'tabular_combiner.num_bn.running_var', 'tabular_combiner.g_cat_layer.weight', 'tabular_combiner.g_cat_layer.bias', 'tabular_combiner.h_cat_layer.weight', 'tabular_combiner.g_num_layer.weight', 'tabular_combiner.g_num_layer.bias', 'tabular_combiner.h_num_layer.weight', 'tabular_combiner.layer_norm.weight', 'tabular_combiner.layer_norm.bias', 'tabular_classifier.weight', 'tabular_classifier.bias']\n",
      "You should probably TRAIN this model on a down-stream task to be able to use it for predictions and inference.\n"
     ]
    }
   ],
   "source": [
    "model = AutoModelWithTabular.from_pretrained(\n",
    "        model_args.config_name if model_args.config_name else model_args.model_name_or_path,\n",
    "        config=config,\n",
    "        cache_dir=model_args.cache_dir\n",
    "    )"
   ]
  },
  {
   "cell_type": "code",
   "execution_count": 32,
   "id": "greatest-nowhere",
   "metadata": {},
   "outputs": [],
   "source": [
    "import numpy as np\n",
    "from scipy.special import softmax\n",
    "from sklearn.metrics import (\n",
    "    auc,\n",
    "    precision_recall_curve,\n",
    "    roc_auc_score,\n",
    "    f1_score,\n",
    "    confusion_matrix,\n",
    "    matthews_corrcoef,\n",
    ")\n",
    "\n",
    "def calc_classification_metrics(p: EvalPrediction):\n",
    "    pred_labels = np.argmax(p.predictions, axis=1)\n",
    "    pred_scores = softmax(p.predictions, axis=1)[:, 1]\n",
    "    labels = p.label_ids\n",
    "    if len(np.unique(labels)) == 2:  # binary classification\n",
    "        roc_auc_pred_score = roc_auc_score(labels, pred_scores)\n",
    "        precisions, recalls, thresholds = precision_recall_curve(labels,\n",
    "                                                                pred_scores)\n",
    "        fscore = (2 * precisions * recalls) / (precisions + recalls)\n",
    "        fscore[np.isnan(fscore)] = 0\n",
    "        ix = np.argmax(fscore)\n",
    "        threshold = thresholds[ix].item()\n",
    "        pr_auc = auc(recalls, precisions)\n",
    "        tn, fp, fn, tp = confusion_matrix(labels, pred_labels, labels=[0, 1]).ravel()\n",
    "        result = {'roc_auc': roc_auc_pred_score,\n",
    "                'threshold': threshold,\n",
    "                'pr_auc': pr_auc,\n",
    "                'recall': recalls[ix].item(),\n",
    "                'precision': precisions[ix].item(), 'f1': fscore[ix].item(),\n",
    "                'tn': tn.item(), 'fp': fp.item(), 'fn': fn.item(), 'tp': tp.item()\n",
    "                }\n",
    "    else:\n",
    "        acc = (pred_labels == labels).mean()\n",
    "        f1 = f1_score(y_true=labels, y_pred=pred_labels)\n",
    "        result = {\n",
    "          \"acc\": acc,\n",
    "          \"f1\": f1,\n",
    "          \"acc_and_f1\": (acc + f1) / 2,\n",
    "          \"mcc\": matthews_corrcoef(labels, pred_labels)\n",
    "        }\n",
    "\n",
    "    return result"
   ]
  },
  {
   "cell_type": "code",
   "execution_count": 20,
   "id": "combined-newfoundland",
   "metadata": {},
   "outputs": [],
   "source": [
    "trainer = Trainer(\n",
    "    model=model,\n",
    "    args=training_args,\n",
    "    train_dataset=train_dataset,\n",
    "    eval_dataset=dev_dataset,\n",
    "    compute_metrics=calc_classification_metrics\n",
    ")"
   ]
  },
  {
   "cell_type": "code",
   "execution_count": 33,
   "id": "religious-broad",
   "metadata": {},
   "outputs": [
    {
     "data": {
      "application/vnd.jupyter.widget-view+json": {
       "model_id": "b0d4d239f13f4df8ab93239c043fbf61",
       "version_major": 2,
       "version_minor": 0
      },
      "text/plain": [
       "Epoch:   0%|          | 0/6 [00:00<?, ?it/s]"
      ]
     },
     "metadata": {},
     "output_type": "display_data"
    },
    {
     "data": {
      "application/vnd.jupyter.widget-view+json": {
       "model_id": "cd5e1526d6084e83b87fbf91d9183f92",
       "version_major": 2,
       "version_minor": 0
      },
      "text/plain": [
       "Iteration:   0%|          | 0/1160 [00:00<?, ?it/s]"
      ]
     },
     "metadata": {},
     "output_type": "display_data"
    },
    {
     "name": "stdout",
     "output_type": "stream",
     "text": [
      "{'loss': 0.4349016571044922, 'learning_rate': 3.472413793103448e-05, 'epoch': 0.021551724137931036, 'step': 25}\n",
      "{'loss': 0.3521604156494141, 'learning_rate': 3.450862068965517e-05, 'epoch': 0.04310344827586207, 'step': 50}\n",
      "{'loss': 0.49650787353515624, 'learning_rate': 3.4293103448275864e-05, 'epoch': 0.06465517241379311, 'step': 75}\n",
      "{'loss': 0.4685893249511719, 'learning_rate': 3.4077586206896555e-05, 'epoch': 0.08620689655172414, 'step': 100}\n",
      "{'loss': 0.26140182495117187, 'learning_rate': 3.386206896551724e-05, 'epoch': 0.10775862068965517, 'step': 125}\n",
      "{'loss': 0.6234982299804688, 'learning_rate': 3.364655172413793e-05, 'epoch': 0.12931034482758622, 'step': 150}\n",
      "{'loss': 0.41747283935546875, 'learning_rate': 3.343103448275862e-05, 'epoch': 0.15086206896551724, 'step': 175}\n",
      "{'loss': 0.50378662109375, 'learning_rate': 3.321551724137931e-05, 'epoch': 0.1724137931034483, 'step': 200}\n",
      "{'loss': 0.710081787109375, 'learning_rate': 3.3e-05, 'epoch': 0.1939655172413793, 'step': 225}\n",
      "{'loss': 0.3549234008789062, 'learning_rate': 3.2784482758620693e-05, 'epoch': 0.21551724137931033, 'step': 250}\n"
     ]
    },
    {
     "data": {
      "application/vnd.jupyter.widget-view+json": {
       "model_id": "3cbf80edb2de407f898b492f7575a992",
       "version_major": 2,
       "version_minor": 0
      },
      "text/plain": [
       "Evaluation:   0%|          | 0/72 [00:00<?, ?it/s]"
      ]
     },
     "metadata": {},
     "output_type": "display_data"
    },
    {
     "name": "stdout",
     "output_type": "stream",
     "text": [
      "{'eval_loss': 0.5579873754953345, 'eval_roc_auc': 0.9078163771712159, 'eval_threshold': 0.013931883499026299, 'eval_pr_auc': 0.7808453934714581, 'eval_recall': 0.8548387096774194, 'eval_precision': 0.7464788732394366, 'eval_f1': 0.7969924812030075, 'eval_tn': 355, 'eval_fp': 35, 'eval_fn': 48, 'eval_tp': 138, 'epoch': 0.21551724137931033, 'step': 250}\n",
      "{'loss': 0.5334515380859375, 'learning_rate': 3.256896551724138e-05, 'epoch': 0.23706896551724138, 'step': 275}\n",
      "{'loss': 0.5242626953125, 'learning_rate': 3.235344827586207e-05, 'epoch': 0.25862068965517243, 'step': 300}\n",
      "{'loss': 0.562830810546875, 'learning_rate': 3.213793103448276e-05, 'epoch': 0.2801724137931034, 'step': 325}\n",
      "{'loss': 0.423704833984375, 'learning_rate': 3.192241379310345e-05, 'epoch': 0.3017241379310345, 'step': 350}\n",
      "{'loss': 0.4186285400390625, 'learning_rate': 3.170689655172414e-05, 'epoch': 0.3232758620689655, 'step': 375}\n",
      "{'loss': 0.477371826171875, 'learning_rate': 3.149137931034483e-05, 'epoch': 0.3448275862068966, 'step': 400}\n",
      "{'loss': 0.531624755859375, 'learning_rate': 3.127586206896552e-05, 'epoch': 0.36637931034482757, 'step': 425}\n",
      "{'loss': 0.37684326171875, 'learning_rate': 3.106034482758621e-05, 'epoch': 0.3879310344827586, 'step': 450}\n",
      "{'loss': 0.5878485107421875, 'learning_rate': 3.08448275862069e-05, 'epoch': 0.40948275862068967, 'step': 475}\n",
      "{'loss': 0.3343255615234375, 'learning_rate': 3.062931034482759e-05, 'epoch': 0.43103448275862066, 'step': 500}\n"
     ]
    },
    {
     "data": {
      "application/vnd.jupyter.widget-view+json": {
       "model_id": "642daa1a0f034373a55e0ff00a928cd3",
       "version_major": 2,
       "version_minor": 0
      },
      "text/plain": [
       "Evaluation:   0%|          | 0/72 [00:00<?, ?it/s]"
      ]
     },
     "metadata": {},
     "output_type": "display_data"
    },
    {
     "name": "stdout",
     "output_type": "stream",
     "text": [
      "{'eval_loss': 0.6527061170717288, 'eval_roc_auc': 0.904618141714916, 'eval_threshold': 0.016183823347091675, 'eval_pr_auc': 0.812868634686498, 'eval_recall': 0.7526881720430108, 'eval_precision': 0.813953488372093, 'eval_f1': 0.782122905027933, 'eval_tn': 363, 'eval_fp': 27, 'eval_fn': 58, 'eval_tp': 128, 'epoch': 0.43103448275862066, 'step': 500}\n",
      "{'loss': 0.6098358154296875, 'learning_rate': 3.041379310344828e-05, 'epoch': 0.4525862068965517, 'step': 525}\n",
      "{'loss': 0.5145611572265625, 'learning_rate': 3.0198275862068965e-05, 'epoch': 0.47413793103448276, 'step': 550}\n",
      "{'loss': 0.5330712890625, 'learning_rate': 2.9982758620689656e-05, 'epoch': 0.4956896551724138, 'step': 575}\n",
      "{'loss': 0.56660888671875, 'learning_rate': 2.9767241379310347e-05, 'epoch': 0.5172413793103449, 'step': 600}\n",
      "{'loss': 0.432568359375, 'learning_rate': 2.9551724137931038e-05, 'epoch': 0.5387931034482759, 'step': 625}\n",
      "{'loss': 0.954951171875, 'learning_rate': 2.9336206896551725e-05, 'epoch': 0.5603448275862069, 'step': 650}\n",
      "{'loss': 0.36517578125, 'learning_rate': 2.9120689655172416e-05, 'epoch': 0.5818965517241379, 'step': 675}\n",
      "{'loss': 0.54090576171875, 'learning_rate': 2.8905172413793104e-05, 'epoch': 0.603448275862069, 'step': 700}\n",
      "{'loss': 0.563516845703125, 'learning_rate': 2.8689655172413795e-05, 'epoch': 0.625, 'step': 725}\n",
      "{'loss': 0.341727294921875, 'learning_rate': 2.8474137931034482e-05, 'epoch': 0.646551724137931, 'step': 750}\n"
     ]
    },
    {
     "data": {
      "application/vnd.jupyter.widget-view+json": {
       "model_id": "c4af9d95716e4c31ba47907d0d300890",
       "version_major": 2,
       "version_minor": 0
      },
      "text/plain": [
       "Evaluation:   0%|          | 0/72 [00:00<?, ?it/s]"
      ]
     },
     "metadata": {},
     "output_type": "display_data"
    },
    {
     "name": "stdout",
     "output_type": "stream",
     "text": [
      "{'eval_loss': 0.5144457803237148, 'eval_roc_auc': 0.9287979046043563, 'eval_threshold': 0.04807457700371742, 'eval_pr_auc': 0.8058351410936725, 'eval_recall': 0.8763440860215054, 'eval_precision': 0.7442922374429224, 'eval_f1': 0.8049382716049382, 'eval_tn': 344, 'eval_fp': 46, 'eval_fn': 32, 'eval_tp': 154, 'epoch': 0.646551724137931, 'step': 750}\n",
      "{'loss': 0.442808837890625, 'learning_rate': 2.8258620689655173e-05, 'epoch': 0.6681034482758621, 'step': 775}\n",
      "{'loss': 0.663048095703125, 'learning_rate': 2.8043103448275864e-05, 'epoch': 0.6896551724137931, 'step': 800}\n",
      "{'loss': 0.370579833984375, 'learning_rate': 2.7827586206896555e-05, 'epoch': 0.7112068965517241, 'step': 825}\n",
      "{'loss': 0.596197509765625, 'learning_rate': 2.761206896551724e-05, 'epoch': 0.7327586206896551, 'step': 850}\n",
      "{'loss': 0.330992431640625, 'learning_rate': 2.739655172413793e-05, 'epoch': 0.7543103448275862, 'step': 875}\n",
      "{'loss': 0.474881591796875, 'learning_rate': 2.718103448275862e-05, 'epoch': 0.7758620689655172, 'step': 900}\n",
      "{'loss': 0.543609619140625, 'learning_rate': 2.6965517241379312e-05, 'epoch': 0.7974137931034483, 'step': 925}\n",
      "{'loss': 0.380291748046875, 'learning_rate': 2.6750000000000003e-05, 'epoch': 0.8189655172413793, 'step': 950}\n",
      "{'loss': 0.5742529296875, 'learning_rate': 2.6534482758620694e-05, 'epoch': 0.8405172413793104, 'step': 975}\n",
      "{'loss': 0.518236083984375, 'learning_rate': 2.6318965517241378e-05, 'epoch': 0.8620689655172413, 'step': 1000}\n"
     ]
    },
    {
     "data": {
      "application/vnd.jupyter.widget-view+json": {
       "model_id": "0fc1cae1db5b4a0d9a26ec466896b83c",
       "version_major": 2,
       "version_minor": 0
      },
      "text/plain": [
       "Evaluation:   0%|          | 0/72 [00:00<?, ?it/s]"
      ]
     },
     "metadata": {},
     "output_type": "display_data"
    },
    {
     "name": "stdout",
     "output_type": "stream",
     "text": [
      "{'eval_loss': 0.48635242219703895, 'eval_roc_auc': 0.9232837055417701, 'eval_threshold': 0.07372444123029709, 'eval_pr_auc': 0.8051426925044557, 'eval_recall': 0.8602150537634409, 'eval_precision': 0.7920792079207921, 'eval_f1': 0.8247422680412373, 'eval_tn': 350, 'eval_fp': 40, 'eval_fn': 32, 'eval_tp': 154, 'epoch': 0.8620689655172413, 'step': 1000}\n",
      "{'loss': 0.57782958984375, 'learning_rate': 2.610344827586207e-05, 'epoch': 0.8836206896551724, 'step': 1025}\n",
      "{'loss': 0.692193603515625, 'learning_rate': 2.588793103448276e-05, 'epoch': 0.9051724137931034, 'step': 1050}\n",
      "{'loss': 0.36170654296875, 'learning_rate': 2.567241379310345e-05, 'epoch': 0.9267241379310345, 'step': 1075}\n",
      "{'loss': 0.3060400390625, 'learning_rate': 2.5456896551724142e-05, 'epoch': 0.9482758620689655, 'step': 1100}\n",
      "{'loss': 0.4232568359375, 'learning_rate': 2.5241379310344833e-05, 'epoch': 0.9698275862068966, 'step': 1125}\n",
      "{'loss': 0.4652880859375, 'learning_rate': 2.5025862068965517e-05, 'epoch': 0.9913793103448276, 'step': 1150}\n"
     ]
    },
    {
     "data": {
      "application/vnd.jupyter.widget-view+json": {
       "model_id": "209e274bbb494e96b6d94dc979c2794c",
       "version_major": 2,
       "version_minor": 0
      },
      "text/plain": [
       "Iteration:   0%|          | 0/1160 [00:00<?, ?it/s]"
      ]
     },
     "metadata": {},
     "output_type": "display_data"
    },
    {
     "name": "stdout",
     "output_type": "stream",
     "text": [
      "{'loss': 0.4086474609375, 'learning_rate': 2.4810344827586208e-05, 'epoch': 1.0129310344827587, 'step': 1175}\n",
      "{'loss': 0.456787109375, 'learning_rate': 2.45948275862069e-05, 'epoch': 1.0344827586206897, 'step': 1200}\n",
      "{'loss': 0.5631103515625, 'learning_rate': 2.4379310344827587e-05, 'epoch': 1.0560344827586208, 'step': 1225}\n",
      "{'loss': 0.3422412109375, 'learning_rate': 2.4163793103448278e-05, 'epoch': 1.0775862068965518, 'step': 1250}\n"
     ]
    },
    {
     "data": {
      "application/vnd.jupyter.widget-view+json": {
       "model_id": "507060f19e8d45a8ab38f74abdff5be6",
       "version_major": 2,
       "version_minor": 0
      },
      "text/plain": [
       "Evaluation:   0%|          | 0/72 [00:00<?, ?it/s]"
      ]
     },
     "metadata": {},
     "output_type": "display_data"
    },
    {
     "name": "stdout",
     "output_type": "stream",
     "text": [
      "{'eval_loss': 0.45161445427220315, 'eval_roc_auc': 0.9343948166528812, 'eval_threshold': 0.2393077313899994, 'eval_pr_auc': 0.8120607551461987, 'eval_recall': 0.8709677419354839, 'eval_precision': 0.8059701492537313, 'eval_f1': 0.8372093023255813, 'eval_tn': 352, 'eval_fp': 38, 'eval_fn': 26, 'eval_tp': 160, 'epoch': 1.0775862068965518, 'step': 1250}\n",
      "{'loss': 0.389072265625, 'learning_rate': 2.3948275862068965e-05, 'epoch': 1.0991379310344827, 'step': 1275}\n",
      "{'loss': 0.34833740234375, 'learning_rate': 2.3732758620689656e-05, 'epoch': 1.1206896551724137, 'step': 1300}\n",
      "{'loss': 0.5803759765625, 'learning_rate': 2.3517241379310344e-05, 'epoch': 1.1422413793103448, 'step': 1325}\n",
      "{'loss': 0.35283935546875, 'learning_rate': 2.3301724137931035e-05, 'epoch': 1.1637931034482758, 'step': 1350}\n",
      "{'loss': 0.26526123046875, 'learning_rate': 2.3086206896551726e-05, 'epoch': 1.1853448275862069, 'step': 1375}\n",
      "{'loss': 0.40535400390625, 'learning_rate': 2.2870689655172413e-05, 'epoch': 1.206896551724138, 'step': 1400}\n",
      "{'loss': 0.419716796875, 'learning_rate': 2.2655172413793104e-05, 'epoch': 1.228448275862069, 'step': 1425}\n",
      "{'loss': 0.21560546875, 'learning_rate': 2.2439655172413795e-05, 'epoch': 1.25, 'step': 1450}\n",
      "{'loss': 0.414140625, 'learning_rate': 2.2224137931034483e-05, 'epoch': 1.271551724137931, 'step': 1475}\n",
      "{'loss': 0.43489990234375, 'learning_rate': 2.2008620689655174e-05, 'epoch': 1.293103448275862, 'step': 1500}\n"
     ]
    },
    {
     "data": {
      "application/vnd.jupyter.widget-view+json": {
       "model_id": "6f9859a4857e4fee8f836adf2b6c1000",
       "version_major": 2,
       "version_minor": 0
      },
      "text/plain": [
       "Evaluation:   0%|          | 0/72 [00:00<?, ?it/s]"
      ]
     },
     "metadata": {},
     "output_type": "display_data"
    },
    {
     "name": "stderr",
     "output_type": "stream",
     "text": [
      "/opt/conda/lib/python3.7/site-packages/ipykernel_launcher.py:20: RuntimeWarning: invalid value encountered in true_divide\n"
     ]
    },
    {
     "name": "stdout",
     "output_type": "stream",
     "text": [
      "{'eval_loss': 0.5291692831572922, 'eval_roc_auc': 0.9332230493520817, 'eval_threshold': 0.026159482076764107, 'eval_pr_auc': 0.8201575150901894, 'eval_recall': 0.8279569892473119, 'eval_precision': 0.806282722513089, 'eval_f1': 0.8169761273209549, 'eval_tn': 361, 'eval_fp': 29, 'eval_fn': 41, 'eval_tp': 145, 'epoch': 1.293103448275862, 'step': 1500}\n",
      "{'loss': 0.47438232421875, 'learning_rate': 2.1793103448275865e-05, 'epoch': 1.3146551724137931, 'step': 1525}\n",
      "{'loss': 0.491162109375, 'learning_rate': 2.1577586206896552e-05, 'epoch': 1.3362068965517242, 'step': 1550}\n",
      "{'loss': 0.1805615234375, 'learning_rate': 2.1362068965517243e-05, 'epoch': 1.3577586206896552, 'step': 1575}\n",
      "{'loss': 0.1772265625, 'learning_rate': 2.114655172413793e-05, 'epoch': 1.3793103448275863, 'step': 1600}\n",
      "{'loss': 0.43464111328125, 'learning_rate': 2.0931034482758622e-05, 'epoch': 1.4008620689655173, 'step': 1625}\n",
      "{'loss': 0.40931884765625, 'learning_rate': 2.0715517241379313e-05, 'epoch': 1.4224137931034484, 'step': 1650}\n",
      "{'loss': 0.34897216796875, 'learning_rate': 2.05e-05, 'epoch': 1.4439655172413794, 'step': 1675}\n",
      "{'loss': 0.49226318359375, 'learning_rate': 2.028448275862069e-05, 'epoch': 1.4655172413793103, 'step': 1700}\n",
      "{'loss': 0.29749755859375, 'learning_rate': 2.0068965517241382e-05, 'epoch': 1.4870689655172413, 'step': 1725}\n",
      "{'loss': 0.36072998046875, 'learning_rate': 1.985344827586207e-05, 'epoch': 1.5086206896551724, 'step': 1750}\n"
     ]
    },
    {
     "data": {
      "application/vnd.jupyter.widget-view+json": {
       "model_id": "d439e3a57b7240e285a3c2faa4087412",
       "version_major": 2,
       "version_minor": 0
      },
      "text/plain": [
       "Evaluation:   0%|          | 0/72 [00:00<?, ?it/s]"
      ]
     },
     "metadata": {},
     "output_type": "display_data"
    },
    {
     "name": "stdout",
     "output_type": "stream",
     "text": [
      "{'eval_loss': 0.504755151613305, 'eval_roc_auc': 0.9370829886958919, 'eval_threshold': 0.02284669503569603, 'eval_pr_auc': 0.832242815201769, 'eval_recall': 0.8440860215053764, 'eval_precision': 0.8177083333333334, 'eval_f1': 0.8306878306878307, 'eval_tn': 360, 'eval_fp': 30, 'eval_fn': 37, 'eval_tp': 149, 'epoch': 1.5086206896551724, 'step': 1750}\n",
      "{'loss': 0.5189111328125, 'learning_rate': 1.963793103448276e-05, 'epoch': 1.5301724137931034, 'step': 1775}\n",
      "{'loss': 0.23588623046875, 'learning_rate': 1.942241379310345e-05, 'epoch': 1.5517241379310345, 'step': 1800}\n",
      "{'loss': 0.3969677734375, 'learning_rate': 1.920689655172414e-05, 'epoch': 1.5732758620689655, 'step': 1825}\n",
      "{'loss': 0.3555859375, 'learning_rate': 1.8991379310344827e-05, 'epoch': 1.5948275862068966, 'step': 1850}\n",
      "{'loss': 0.5004150390625, 'learning_rate': 1.8775862068965518e-05, 'epoch': 1.6163793103448276, 'step': 1875}\n",
      "{'loss': 0.38471923828125, 'learning_rate': 1.8560344827586205e-05, 'epoch': 1.6379310344827587, 'step': 1900}\n",
      "{'loss': 0.16763916015625, 'learning_rate': 1.8344827586206896e-05, 'epoch': 1.6594827586206895, 'step': 1925}\n",
      "{'loss': 0.181630859375, 'learning_rate': 1.8129310344827587e-05, 'epoch': 1.6810344827586206, 'step': 1950}\n",
      "{'loss': 0.42898193359375, 'learning_rate': 1.7913793103448275e-05, 'epoch': 1.7025862068965516, 'step': 1975}\n",
      "{'loss': 0.3894482421875, 'learning_rate': 1.7698275862068966e-05, 'epoch': 1.7241379310344827, 'step': 2000}\n"
     ]
    },
    {
     "data": {
      "application/vnd.jupyter.widget-view+json": {
       "model_id": "801f158fb58f4b2d99d469a22c8943f0",
       "version_major": 2,
       "version_minor": 0
      },
      "text/plain": [
       "Evaluation:   0%|          | 0/72 [00:00<?, ?it/s]"
      ]
     },
     "metadata": {},
     "output_type": "display_data"
    },
    {
     "name": "stdout",
     "output_type": "stream",
     "text": [
      "{'eval_loss': 0.4795048693453686, 'eval_roc_auc': 0.9363937138130686, 'eval_threshold': 0.6312541365623474, 'eval_pr_auc': 0.824366321198478, 'eval_recall': 0.8817204301075269, 'eval_precision': 0.8118811881188119, 'eval_f1': 0.845360824742268, 'eval_tn': 350, 'eval_fp': 40, 'eval_fn': 22, 'eval_tp': 164, 'epoch': 1.7241379310344827, 'step': 2000}\n",
      "{'loss': 0.38375244140625, 'learning_rate': 1.7482758620689657e-05, 'epoch': 1.7456896551724137, 'step': 2025}\n",
      "{'loss': 0.237978515625, 'learning_rate': 1.7267241379310344e-05, 'epoch': 1.7672413793103448, 'step': 2050}\n",
      "{'loss': 0.20902587890625, 'learning_rate': 1.7051724137931035e-05, 'epoch': 1.7887931034482758, 'step': 2075}\n",
      "{'loss': 0.4835546875, 'learning_rate': 1.6836206896551726e-05, 'epoch': 1.8103448275862069, 'step': 2100}\n",
      "{'loss': 0.277939453125, 'learning_rate': 1.6620689655172414e-05, 'epoch': 1.831896551724138, 'step': 2125}\n",
      "{'loss': 0.27896728515625, 'learning_rate': 1.6405172413793105e-05, 'epoch': 1.853448275862069, 'step': 2150}\n",
      "{'loss': 0.29833251953125, 'learning_rate': 1.6189655172413796e-05, 'epoch': 1.875, 'step': 2175}\n",
      "{'loss': 0.4488037109375, 'learning_rate': 1.5974137931034483e-05, 'epoch': 1.896551724137931, 'step': 2200}\n",
      "{'loss': 0.1071826171875, 'learning_rate': 1.5758620689655174e-05, 'epoch': 1.918103448275862, 'step': 2225}\n",
      "{'loss': 0.41462890625, 'learning_rate': 1.5543103448275865e-05, 'epoch': 1.9396551724137931, 'step': 2250}\n"
     ]
    },
    {
     "data": {
      "application/vnd.jupyter.widget-view+json": {
       "model_id": "8d94d6fa75074f3e9c0a0b85d266dc11",
       "version_major": 2,
       "version_minor": 0
      },
      "text/plain": [
       "Evaluation:   0%|          | 0/72 [00:00<?, ?it/s]"
      ]
     },
     "metadata": {},
     "output_type": "display_data"
    },
    {
     "name": "stdout",
     "output_type": "stream",
     "text": [
      "{'eval_loss': 0.5306890398238061, 'eval_roc_auc': 0.9374000551419907, 'eval_threshold': 0.9805845618247986, 'eval_pr_auc': 0.8255278508746254, 'eval_recall': 0.8709677419354839, 'eval_precision': 0.8140703517587939, 'eval_f1': 0.8415584415584416, 'eval_tn': 335, 'eval_fp': 55, 'eval_fn': 17, 'eval_tp': 169, 'epoch': 1.9396551724137931, 'step': 2250}\n",
      "{'loss': 0.28814208984375, 'learning_rate': 1.5327586206896553e-05, 'epoch': 1.9612068965517242, 'step': 2275}\n",
      "{'loss': 0.365625, 'learning_rate': 1.5112068965517242e-05, 'epoch': 1.9827586206896552, 'step': 2300}\n"
     ]
    },
    {
     "data": {
      "application/vnd.jupyter.widget-view+json": {
       "model_id": "f5624309ad794b3cbf0d7819d552a7ea",
       "version_major": 2,
       "version_minor": 0
      },
      "text/plain": [
       "Iteration:   0%|          | 0/1160 [00:00<?, ?it/s]"
      ]
     },
     "metadata": {},
     "output_type": "display_data"
    },
    {
     "name": "stdout",
     "output_type": "stream",
     "text": [
      "{'loss': 0.28384033203125, 'learning_rate': 1.489655172413793e-05, 'epoch': 2.0043103448275863, 'step': 2325}\n",
      "{'loss': 0.15362548828125, 'learning_rate': 1.468103448275862e-05, 'epoch': 2.0258620689655173, 'step': 2350}\n",
      "{'loss': 0.0581884765625, 'learning_rate': 1.4465517241379312e-05, 'epoch': 2.0474137931034484, 'step': 2375}\n",
      "{'loss': 0.30900146484375, 'learning_rate': 1.4249999999999999e-05, 'epoch': 2.0689655172413794, 'step': 2400}\n",
      "{'loss': 0.26433837890625, 'learning_rate': 1.403448275862069e-05, 'epoch': 2.0905172413793105, 'step': 2425}\n",
      "{'loss': 0.2073779296875, 'learning_rate': 1.3818965517241381e-05, 'epoch': 2.1120689655172415, 'step': 2450}\n",
      "{'loss': 0.29172119140625, 'learning_rate': 1.3603448275862069e-05, 'epoch': 2.1336206896551726, 'step': 2475}\n",
      "{'loss': 0.28594482421875, 'learning_rate': 1.338793103448276e-05, 'epoch': 2.1551724137931036, 'step': 2500}\n"
     ]
    },
    {
     "data": {
      "application/vnd.jupyter.widget-view+json": {
       "model_id": "33f91bf9c04f471f8c80a4ee0facce89",
       "version_major": 2,
       "version_minor": 0
      },
      "text/plain": [
       "Evaluation:   0%|          | 0/72 [00:00<?, ?it/s]"
      ]
     },
     "metadata": {},
     "output_type": "display_data"
    },
    {
     "name": "stdout",
     "output_type": "stream",
     "text": [
      "{'eval_loss': 0.5039967370507333, 'eval_roc_auc': 0.9463606286186931, 'eval_threshold': 0.011066182516515255, 'eval_pr_auc': 0.854077613897508, 'eval_recall': 0.9032258064516129, 'eval_precision': 0.7924528301886793, 'eval_f1': 0.8442211055276382, 'eval_tn': 362, 'eval_fp': 28, 'eval_fn': 38, 'eval_tp': 148, 'epoch': 2.1551724137931036, 'step': 2500}\n",
      "{'loss': 0.3893701171875, 'learning_rate': 1.317241379310345e-05, 'epoch': 2.1767241379310347, 'step': 2525}\n",
      "{'loss': 0.396142578125, 'learning_rate': 1.2956896551724138e-05, 'epoch': 2.1982758620689653, 'step': 2550}\n",
      "{'loss': 0.1151904296875, 'learning_rate': 1.2741379310344827e-05, 'epoch': 2.2198275862068964, 'step': 2575}\n",
      "{'loss': 0.149921875, 'learning_rate': 1.2525862068965518e-05, 'epoch': 2.2413793103448274, 'step': 2600}\n",
      "{'loss': 0.367587890625, 'learning_rate': 1.2310344827586208e-05, 'epoch': 2.2629310344827585, 'step': 2625}\n",
      "{'loss': 0.35111328125, 'learning_rate': 1.2094827586206897e-05, 'epoch': 2.2844827586206895, 'step': 2650}\n",
      "{'loss': 0.2357958984375, 'learning_rate': 1.1879310344827586e-05, 'epoch': 2.3060344827586206, 'step': 2675}\n",
      "{'loss': 0.468779296875, 'learning_rate': 1.1663793103448277e-05, 'epoch': 2.3275862068965516, 'step': 2700}\n",
      "{'loss': 0.1993603515625, 'learning_rate': 1.1448275862068966e-05, 'epoch': 2.3491379310344827, 'step': 2725}\n",
      "{'loss': 0.3332470703125, 'learning_rate': 1.1232758620689656e-05, 'epoch': 2.3706896551724137, 'step': 2750}\n"
     ]
    },
    {
     "data": {
      "application/vnd.jupyter.widget-view+json": {
       "model_id": "e3ba1522e33c4ad2a722345fc1cbdbe5",
       "version_major": 2,
       "version_minor": 0
      },
      "text/plain": [
       "Evaluation:   0%|          | 0/72 [00:00<?, ?it/s]"
      ]
     },
     "metadata": {},
     "output_type": "display_data"
    },
    {
     "name": "stdout",
     "output_type": "stream",
     "text": [
      "{'eval_loss': 0.5306517001558354, 'eval_roc_auc': 0.9427626137303556, 'eval_threshold': 0.031779978424310684, 'eval_pr_auc': 0.8460264699835617, 'eval_recall': 0.8494623655913979, 'eval_precision': 0.8272251308900523, 'eval_f1': 0.8381962864721485, 'eval_tn': 360, 'eval_fp': 30, 'eval_fn': 35, 'eval_tp': 151, 'epoch': 2.3706896551724137, 'step': 2750}\n",
      "{'loss': 0.0982080078125, 'learning_rate': 1.1017241379310347e-05, 'epoch': 2.3922413793103448, 'step': 2775}\n",
      "{'loss': 0.189638671875, 'learning_rate': 1.0801724137931036e-05, 'epoch': 2.413793103448276, 'step': 2800}\n",
      "{'loss': 0.436884765625, 'learning_rate': 1.0586206896551725e-05, 'epoch': 2.435344827586207, 'step': 2825}\n",
      "{'loss': 0.1744775390625, 'learning_rate': 1.0370689655172414e-05, 'epoch': 2.456896551724138, 'step': 2850}\n",
      "{'loss': 0.3594677734375, 'learning_rate': 1.0155172413793104e-05, 'epoch': 2.478448275862069, 'step': 2875}\n",
      "{'loss': 0.19728515625, 'learning_rate': 9.939655172413793e-06, 'epoch': 2.5, 'step': 2900}\n",
      "{'loss': 0.1277978515625, 'learning_rate': 9.724137931034482e-06, 'epoch': 2.521551724137931, 'step': 2925}\n",
      "{'loss': 0.3226611328125, 'learning_rate': 9.508620689655173e-06, 'epoch': 2.543103448275862, 'step': 2950}\n",
      "{'loss': 0.1168212890625, 'learning_rate': 9.293103448275862e-06, 'epoch': 2.564655172413793, 'step': 2975}\n",
      "{'loss': 0.3911865234375, 'learning_rate': 9.077586206896552e-06, 'epoch': 2.586206896551724, 'step': 3000}\n"
     ]
    },
    {
     "data": {
      "application/vnd.jupyter.widget-view+json": {
       "model_id": "ad6307a25f664c8397af5bfb330d0297",
       "version_major": 2,
       "version_minor": 0
      },
      "text/plain": [
       "Evaluation:   0%|          | 0/72 [00:00<?, ?it/s]"
      ]
     },
     "metadata": {},
     "output_type": "display_data"
    },
    {
     "name": "stdout",
     "output_type": "stream",
     "text": [
      "{'eval_loss': 0.4998810120741837, 'eval_roc_auc': 0.9412875654811139, 'eval_threshold': 0.023344211280345917, 'eval_pr_auc': 0.8401101348919473, 'eval_recall': 0.8763440860215054, 'eval_precision': 0.815, 'eval_f1': 0.8445595854922279, 'eval_tn': 358, 'eval_fp': 32, 'eval_fn': 30, 'eval_tp': 156, 'epoch': 2.586206896551724, 'step': 3000}\n",
      "{'loss': 0.4512890625, 'learning_rate': 8.862068965517243e-06, 'epoch': 2.6077586206896552, 'step': 3025}\n",
      "{'loss': 0.2943701171875, 'learning_rate': 8.646551724137932e-06, 'epoch': 2.6293103448275863, 'step': 3050}\n",
      "{'loss': 0.2205517578125, 'learning_rate': 8.431034482758621e-06, 'epoch': 2.6508620689655173, 'step': 3075}\n",
      "{'loss': 0.332314453125, 'learning_rate': 8.215517241379312e-06, 'epoch': 2.6724137931034484, 'step': 3100}\n",
      "{'loss': 0.40576171875, 'learning_rate': 8.000000000000001e-06, 'epoch': 2.6939655172413794, 'step': 3125}\n",
      "{'loss': 0.1208642578125, 'learning_rate': 7.78448275862069e-06, 'epoch': 2.7155172413793105, 'step': 3150}\n",
      "{'loss': 0.1676171875, 'learning_rate': 7.568965517241381e-06, 'epoch': 2.737068965517241, 'step': 3175}\n",
      "{'loss': 0.250244140625, 'learning_rate': 7.35344827586207e-06, 'epoch': 2.7586206896551726, 'step': 3200}\n",
      "{'loss': 0.3485498046875, 'learning_rate': 7.137931034482758e-06, 'epoch': 2.780172413793103, 'step': 3225}\n",
      "{'loss': 0.2337548828125, 'learning_rate': 6.922413793103448e-06, 'epoch': 2.8017241379310347, 'step': 3250}\n"
     ]
    },
    {
     "data": {
      "application/vnd.jupyter.widget-view+json": {
       "model_id": "4a2e1589a68241e7bedde1930d40e85f",
       "version_major": 2,
       "version_minor": 0
      },
      "text/plain": [
       "Evaluation:   0%|          | 0/72 [00:00<?, ?it/s]"
      ]
     },
     "metadata": {},
     "output_type": "display_data"
    },
    {
     "name": "stderr",
     "output_type": "stream",
     "text": [
      "/opt/conda/lib/python3.7/site-packages/ipykernel_launcher.py:20: RuntimeWarning: invalid value encountered in true_divide\n"
     ]
    },
    {
     "name": "stdout",
     "output_type": "stream",
     "text": [
      "{'eval_loss': 0.5393092060694471, 'eval_roc_auc': 0.9479183898538737, 'eval_threshold': 0.02693619206547737, 'eval_pr_auc': 0.8642727418185782, 'eval_recall': 0.8333333333333334, 'eval_precision': 0.842391304347826, 'eval_f1': 0.8378378378378378, 'eval_tn': 362, 'eval_fp': 28, 'eval_fn': 39, 'eval_tp': 147, 'epoch': 2.8017241379310347, 'step': 3250}\n",
      "{'loss': 0.3656591796875, 'learning_rate': 6.706896551724139e-06, 'epoch': 2.8232758620689653, 'step': 3275}\n",
      "{'loss': 0.26818359375, 'learning_rate': 6.491379310344828e-06, 'epoch': 2.844827586206897, 'step': 3300}\n",
      "{'loss': 0.328828125, 'learning_rate': 6.275862068965517e-06, 'epoch': 2.8663793103448274, 'step': 3325}\n",
      "{'loss': 0.1263232421875, 'learning_rate': 6.060344827586207e-06, 'epoch': 2.887931034482759, 'step': 3350}\n",
      "{'loss': 0.2273095703125, 'learning_rate': 5.8448275862068965e-06, 'epoch': 2.9094827586206895, 'step': 3375}\n",
      "{'loss': 0.2521923828125, 'learning_rate': 5.629310344827587e-06, 'epoch': 2.9310344827586206, 'step': 3400}\n",
      "{'loss': 0.2215673828125, 'learning_rate': 5.413793103448276e-06, 'epoch': 2.9525862068965516, 'step': 3425}\n",
      "{'loss': 0.2659228515625, 'learning_rate': 5.198275862068966e-06, 'epoch': 2.9741379310344827, 'step': 3450}\n",
      "{'loss': 0.215439453125, 'learning_rate': 4.982758620689655e-06, 'epoch': 2.9956896551724137, 'step': 3475}\n"
     ]
    },
    {
     "data": {
      "application/vnd.jupyter.widget-view+json": {
       "model_id": "92cd33004d614a5aa6a474c53c68d782",
       "version_major": 2,
       "version_minor": 0
      },
      "text/plain": [
       "Iteration:   0%|          | 0/1160 [00:00<?, ?it/s]"
      ]
     },
     "metadata": {},
     "output_type": "display_data"
    },
    {
     "name": "stdout",
     "output_type": "stream",
     "text": [
      "{'loss': 0.130126953125, 'learning_rate': 4.767241379310345e-06, 'epoch': 3.0172413793103448, 'step': 3500}\n"
     ]
    },
    {
     "data": {
      "application/vnd.jupyter.widget-view+json": {
       "model_id": "66e1f271da054db3b49baf533e55afd1",
       "version_major": 2,
       "version_minor": 0
      },
      "text/plain": [
       "Evaluation:   0%|          | 0/72 [00:00<?, ?it/s]"
      ]
     },
     "metadata": {},
     "output_type": "display_data"
    },
    {
     "name": "stdout",
     "output_type": "stream",
     "text": [
      "{'eval_loss': 0.48710770395377445, 'eval_roc_auc': 0.9514750482492418, 'eval_threshold': 0.04505738243460655, 'eval_pr_auc': 0.8612163646980553, 'eval_recall': 0.8817204301075269, 'eval_precision': 0.82, 'eval_f1': 0.849740932642487, 'eval_tn': 355, 'eval_fp': 35, 'eval_fn': 27, 'eval_tp': 159, 'epoch': 3.0172413793103448, 'step': 3500}\n",
      "{'loss': 0.2289013671875, 'learning_rate': 4.551724137931035e-06, 'epoch': 3.038793103448276, 'step': 3525}\n",
      "{'loss': 0.2280419921875, 'learning_rate': 4.336206896551724e-06, 'epoch': 3.060344827586207, 'step': 3550}\n",
      "{'loss': 0.1532470703125, 'learning_rate': 4.120689655172414e-06, 'epoch': 3.081896551724138, 'step': 3575}\n",
      "{'loss': 0.089111328125, 'learning_rate': 3.905172413793104e-06, 'epoch': 3.103448275862069, 'step': 3600}\n",
      "{'loss': 0.1015576171875, 'learning_rate': 3.689655172413793e-06, 'epoch': 3.125, 'step': 3625}\n",
      "{'loss': 0.1599072265625, 'learning_rate': 3.474137931034483e-06, 'epoch': 3.146551724137931, 'step': 3650}\n",
      "{'loss': 0.19798828125, 'learning_rate': 3.2586206896551724e-06, 'epoch': 3.168103448275862, 'step': 3675}\n",
      "{'loss': 0.1891552734375, 'learning_rate': 3.043103448275862e-06, 'epoch': 3.189655172413793, 'step': 3700}\n",
      "{'loss': 0.1307666015625, 'learning_rate': 2.8275862068965517e-06, 'epoch': 3.211206896551724, 'step': 3725}\n",
      "{'loss': 0.173955078125, 'learning_rate': 2.612068965517242e-06, 'epoch': 3.2327586206896552, 'step': 3750}\n"
     ]
    },
    {
     "data": {
      "application/vnd.jupyter.widget-view+json": {
       "model_id": "08a64aaf344744c3929839e8138b7742",
       "version_major": 2,
       "version_minor": 0
      },
      "text/plain": [
       "Evaluation:   0%|          | 0/72 [00:00<?, ?it/s]"
      ]
     },
     "metadata": {},
     "output_type": "display_data"
    },
    {
     "name": "stdout",
     "output_type": "stream",
     "text": [
      "{'eval_loss': 0.48731243582410066, 'eval_roc_auc': 0.9531017369727047, 'eval_threshold': 0.08701246976852417, 'eval_pr_auc': 0.8657234465180382, 'eval_recall': 0.9032258064516129, 'eval_precision': 0.8115942028985508, 'eval_f1': 0.8549618320610687, 'eval_tn': 352, 'eval_fp': 38, 'eval_fn': 20, 'eval_tp': 166, 'epoch': 3.2327586206896552, 'step': 3750}\n",
      "{'loss': 0.21380859375, 'learning_rate': 2.396551724137931e-06, 'epoch': 3.2543103448275863, 'step': 3775}\n",
      "{'loss': 0.1598779296875, 'learning_rate': 2.181034482758621e-06, 'epoch': 3.2758620689655173, 'step': 3800}\n",
      "{'loss': 0.334951171875, 'learning_rate': 1.9655172413793105e-06, 'epoch': 3.2974137931034484, 'step': 3825}\n",
      "{'loss': 0.23546875, 'learning_rate': 1.7500000000000002e-06, 'epoch': 3.3189655172413794, 'step': 3850}\n",
      "{'loss': 0.2044775390625, 'learning_rate': 1.5344827586206899e-06, 'epoch': 3.3405172413793105, 'step': 3875}\n",
      "{'loss': 0.249189453125, 'learning_rate': 1.3189655172413794e-06, 'epoch': 3.3620689655172415, 'step': 3900}\n",
      "{'loss': 0.302861328125, 'learning_rate': 1.1034482758620688e-06, 'epoch': 3.3836206896551726, 'step': 3925}\n",
      "{'loss': 0.1344140625, 'learning_rate': 8.879310344827586e-07, 'epoch': 3.405172413793103, 'step': 3950}\n",
      "{'loss': 0.1871142578125, 'learning_rate': 6.724137931034483e-07, 'epoch': 3.4267241379310347, 'step': 3975}\n",
      "{'loss': 0.2152099609375, 'learning_rate': 4.5689655172413795e-07, 'epoch': 3.4482758620689653, 'step': 4000}\n"
     ]
    },
    {
     "data": {
      "application/vnd.jupyter.widget-view+json": {
       "model_id": "e10aa1ef78f6479a81854e3aafff8c65",
       "version_major": 2,
       "version_minor": 0
      },
      "text/plain": [
       "Evaluation:   0%|          | 0/72 [00:00<?, ?it/s]"
      ]
     },
     "metadata": {},
     "output_type": "display_data"
    },
    {
     "name": "stderr",
     "output_type": "stream",
     "text": [
      "/opt/conda/lib/python3.7/site-packages/ipykernel_launcher.py:20: RuntimeWarning: invalid value encountered in true_divide\n"
     ]
    },
    {
     "name": "stdout",
     "output_type": "stream",
     "text": [
      "{'eval_loss': 0.4822951387549337, 'eval_roc_auc': 0.9515026192445546, 'eval_threshold': 0.03403972461819649, 'eval_pr_auc': 0.8544667160516239, 'eval_recall': 0.8924731182795699, 'eval_precision': 0.8217821782178217, 'eval_f1': 0.8556701030927835, 'eval_tn': 356, 'eval_fp': 34, 'eval_fn': 23, 'eval_tp': 163, 'epoch': 3.4482758620689653, 'step': 4000}\n",
      "{'loss': 0.18541015625, 'learning_rate': 2.4137931034482764e-07, 'epoch': 3.469827586206897, 'step': 4025}\n",
      "{'loss': 0.0494970703125, 'learning_rate': 2.5862068965517245e-08, 'epoch': 3.4913793103448274, 'step': 4050}\n",
      "{'loss': 0.2114208984375, 'learning_rate': 0.0, 'epoch': 3.512931034482759, 'step': 4075}\n",
      "{'loss': 0.1764697265625, 'learning_rate': 0.0, 'epoch': 3.5344827586206895, 'step': 4100}\n",
      "{'loss': 0.102919921875, 'learning_rate': 0.0, 'epoch': 3.5560344827586206, 'step': 4125}\n",
      "{'loss': 0.2780322265625, 'learning_rate': 0.0, 'epoch': 3.5775862068965516, 'step': 4150}\n",
      "{'loss': 0.2889453125, 'learning_rate': 0.0, 'epoch': 3.5991379310344827, 'step': 4175}\n",
      "{'loss': 0.3828662109375, 'learning_rate': 0.0, 'epoch': 3.6206896551724137, 'step': 4200}\n",
      "{'loss': 0.3287890625, 'learning_rate': 0.0, 'epoch': 3.6422413793103448, 'step': 4225}\n",
      "{'loss': 0.51720703125, 'learning_rate': 0.0, 'epoch': 3.663793103448276, 'step': 4250}\n"
     ]
    },
    {
     "data": {
      "application/vnd.jupyter.widget-view+json": {
       "model_id": "4b124c5b56ea4f1cb5bf4f12c63ae03f",
       "version_major": 2,
       "version_minor": 0
      },
      "text/plain": [
       "Evaluation:   0%|          | 0/72 [00:00<?, ?it/s]"
      ]
     },
     "metadata": {},
     "output_type": "display_data"
    },
    {
     "name": "stderr",
     "output_type": "stream",
     "text": [
      "/opt/conda/lib/python3.7/site-packages/ipykernel_launcher.py:20: RuntimeWarning: invalid value encountered in true_divide\n"
     ]
    },
    {
     "name": "stdout",
     "output_type": "stream",
     "text": [
      "{'eval_loss': 0.48646868881446104, 'eval_roc_auc': 0.9512544802867383, 'eval_threshold': 0.9637233018875122, 'eval_pr_auc': 0.8528667856842004, 'eval_recall': 0.8709677419354839, 'eval_precision': 0.8393782383419689, 'eval_f1': 0.8548812664907651, 'eval_tn': 355, 'eval_fp': 35, 'eval_fn': 23, 'eval_tp': 163, 'epoch': 3.663793103448276, 'step': 4250}\n",
      "{'loss': 0.14865234375, 'learning_rate': 0.0, 'epoch': 3.685344827586207, 'step': 4275}\n",
      "{'loss': 0.124541015625, 'learning_rate': 0.0, 'epoch': 3.706896551724138, 'step': 4300}\n",
      "{'loss': 0.2051953125, 'learning_rate': 0.0, 'epoch': 3.728448275862069, 'step': 4325}\n",
      "{'loss': 0.1883349609375, 'learning_rate': 0.0, 'epoch': 3.75, 'step': 4350}\n",
      "{'loss': 0.3046337890625, 'learning_rate': 0.0, 'epoch': 3.771551724137931, 'step': 4375}\n",
      "{'loss': 0.143017578125, 'learning_rate': 0.0, 'epoch': 3.793103448275862, 'step': 4400}\n",
      "{'loss': 0.100966796875, 'learning_rate': 0.0, 'epoch': 3.814655172413793, 'step': 4425}\n",
      "{'loss': 0.1111865234375, 'learning_rate': 0.0, 'epoch': 3.836206896551724, 'step': 4450}\n",
      "{'loss': 0.2105517578125, 'learning_rate': 0.0, 'epoch': 3.8577586206896552, 'step': 4475}\n",
      "{'loss': 0.0036279296875, 'learning_rate': 0.0, 'epoch': 3.8793103448275863, 'step': 4500}\n"
     ]
    },
    {
     "data": {
      "application/vnd.jupyter.widget-view+json": {
       "model_id": "6ffc0e4b9b27448bb821abf894cefee6",
       "version_major": 2,
       "version_minor": 0
      },
      "text/plain": [
       "Evaluation:   0%|          | 0/72 [00:00<?, ?it/s]"
      ]
     },
     "metadata": {},
     "output_type": "display_data"
    },
    {
     "name": "stdout",
     "output_type": "stream",
     "text": [
      "{'eval_loss': 0.4858557675438028, 'eval_roc_auc': 0.9511028398125172, 'eval_threshold': 0.9628520011901855, 'eval_pr_auc': 0.8572300653752538, 'eval_recall': 0.8709677419354839, 'eval_precision': 0.8393782383419689, 'eval_f1': 0.8548812664907651, 'eval_tn': 355, 'eval_fp': 35, 'eval_fn': 23, 'eval_tp': 163, 'epoch': 3.8793103448275863, 'step': 4500}\n",
      "{'loss': 0.035517578125, 'learning_rate': 0.0, 'epoch': 3.9008620689655173, 'step': 4525}\n",
      "{'loss': 0.155380859375, 'learning_rate': 0.0, 'epoch': 3.9224137931034484, 'step': 4550}\n",
      "{'loss': 0.4227685546875, 'learning_rate': 0.0, 'epoch': 3.9439655172413794, 'step': 4575}\n",
      "{'loss': 0.1843359375, 'learning_rate': 0.0, 'epoch': 3.9655172413793105, 'step': 4600}\n",
      "{'loss': 0.1357177734375, 'learning_rate': 0.0, 'epoch': 3.987068965517241, 'step': 4625}\n"
     ]
    },
    {
     "data": {
      "application/vnd.jupyter.widget-view+json": {
       "model_id": "4d84df9775a446e7833396e629e60822",
       "version_major": 2,
       "version_minor": 0
      },
      "text/plain": [
       "Iteration:   0%|          | 0/1160 [00:00<?, ?it/s]"
      ]
     },
     "metadata": {},
     "output_type": "display_data"
    },
    {
     "name": "stdout",
     "output_type": "stream",
     "text": [
      "{'loss': 0.07671875, 'learning_rate': 0.0, 'epoch': 4.008620689655173, 'step': 4650}\n",
      "{'loss': 0.138974609375, 'learning_rate': 0.0, 'epoch': 4.030172413793103, 'step': 4675}\n",
      "{'loss': 0.08009765625, 'learning_rate': 0.0, 'epoch': 4.051724137931035, 'step': 4700}\n",
      "{'loss': 0.15888671875, 'learning_rate': 0.0, 'epoch': 4.073275862068965, 'step': 4725}\n",
      "{'loss': 0.2207958984375, 'learning_rate': 0.0, 'epoch': 4.094827586206897, 'step': 4750}\n"
     ]
    },
    {
     "data": {
      "application/vnd.jupyter.widget-view+json": {
       "model_id": "f3ca11c299944195994ac650c255e300",
       "version_major": 2,
       "version_minor": 0
      },
      "text/plain": [
       "Evaluation:   0%|          | 0/72 [00:00<?, ?it/s]"
      ]
     },
     "metadata": {},
     "output_type": "display_data"
    },
    {
     "name": "stderr",
     "output_type": "stream",
     "text": [
      "/opt/conda/lib/python3.7/site-packages/ipykernel_launcher.py:20: RuntimeWarning: invalid value encountered in true_divide\n"
     ]
    },
    {
     "name": "stdout",
     "output_type": "stream",
     "text": [
      "{'eval_loss': 0.4840331194411394, 'eval_roc_auc': 0.9509649848359526, 'eval_threshold': 0.9612193703651428, 'eval_pr_auc': 0.8520877281199644, 'eval_recall': 0.8709677419354839, 'eval_precision': 0.8393782383419689, 'eval_f1': 0.8548812664907651, 'eval_tn': 355, 'eval_fp': 35, 'eval_fn': 23, 'eval_tp': 163, 'epoch': 4.094827586206897, 'step': 4750}\n",
      "{'loss': 0.3485888671875, 'learning_rate': 0.0, 'epoch': 4.116379310344827, 'step': 4775}\n",
      "{'loss': 0.1459619140625, 'learning_rate': 0.0, 'epoch': 4.137931034482759, 'step': 4800}\n",
      "{'loss': 0.377587890625, 'learning_rate': 0.0, 'epoch': 4.1594827586206895, 'step': 4825}\n",
      "{'loss': 0.1661376953125, 'learning_rate': 0.0, 'epoch': 4.181034482758621, 'step': 4850}\n",
      "{'loss': 0.078037109375, 'learning_rate': 0.0, 'epoch': 4.202586206896552, 'step': 4875}\n",
      "{'loss': 0.221357421875, 'learning_rate': 0.0, 'epoch': 4.224137931034483, 'step': 4900}\n",
      "{'loss': 0.0836474609375, 'learning_rate': 0.0, 'epoch': 4.245689655172414, 'step': 4925}\n",
      "{'loss': 0.3264404296875, 'learning_rate': 0.0, 'epoch': 4.267241379310345, 'step': 4950}\n",
      "{'loss': 0.2275341796875, 'learning_rate': 0.0, 'epoch': 4.288793103448276, 'step': 4975}\n",
      "{'loss': 0.1584619140625, 'learning_rate': 0.0, 'epoch': 4.310344827586207, 'step': 5000}\n"
     ]
    },
    {
     "data": {
      "application/vnd.jupyter.widget-view+json": {
       "model_id": "c52d375eaec74ddebd195ce04f5ca4fb",
       "version_major": 2,
       "version_minor": 0
      },
      "text/plain": [
       "Evaluation:   0%|          | 0/72 [00:00<?, ?it/s]"
      ]
     },
     "metadata": {},
     "output_type": "display_data"
    },
    {
     "name": "stderr",
     "output_type": "stream",
     "text": [
      "/opt/conda/lib/python3.7/site-packages/ipykernel_launcher.py:20: RuntimeWarning: invalid value encountered in true_divide\n"
     ]
    },
    {
     "name": "stdout",
     "output_type": "stream",
     "text": [
      "{'eval_loss': 0.48668964382765506, 'eval_roc_auc': 0.9511717673007996, 'eval_threshold': 0.9598184823989868, 'eval_pr_auc': 0.8539930875755289, 'eval_recall': 0.8709677419354839, 'eval_precision': 0.8393782383419689, 'eval_f1': 0.8548812664907651, 'eval_tn': 355, 'eval_fp': 35, 'eval_fn': 23, 'eval_tp': 163, 'epoch': 4.310344827586207, 'step': 5000}\n",
      "{'loss': 0.1801220703125, 'learning_rate': 0.0, 'epoch': 4.331896551724138, 'step': 5025}\n",
      "{'loss': 0.29666015625, 'learning_rate': 0.0, 'epoch': 4.353448275862069, 'step': 5050}\n",
      "{'loss': 0.0996044921875, 'learning_rate': 0.0, 'epoch': 4.375, 'step': 5075}\n",
      "{'loss': 0.1072021484375, 'learning_rate': 0.0, 'epoch': 4.396551724137931, 'step': 5100}\n",
      "{'loss': 0.1482421875, 'learning_rate': 0.0, 'epoch': 4.418103448275862, 'step': 5125}\n",
      "{'loss': 0.2877197265625, 'learning_rate': 0.0, 'epoch': 4.439655172413793, 'step': 5150}\n",
      "{'loss': 0.269189453125, 'learning_rate': 0.0, 'epoch': 4.461206896551724, 'step': 5175}\n",
      "{'loss': 0.052705078125, 'learning_rate': 0.0, 'epoch': 4.482758620689655, 'step': 5200}\n",
      "{'loss': 0.1314697265625, 'learning_rate': 0.0, 'epoch': 4.504310344827586, 'step': 5225}\n",
      "{'loss': 0.1412744140625, 'learning_rate': 0.0, 'epoch': 4.525862068965517, 'step': 5250}\n"
     ]
    },
    {
     "data": {
      "application/vnd.jupyter.widget-view+json": {
       "model_id": "084a51c2e65f44cdb07f65899734c0cd",
       "version_major": 2,
       "version_minor": 0
      },
      "text/plain": [
       "Evaluation:   0%|          | 0/72 [00:00<?, ?it/s]"
      ]
     },
     "metadata": {},
     "output_type": "display_data"
    },
    {
     "name": "stdout",
     "output_type": "stream",
     "text": [
      "{'eval_loss': 0.48333052382804453, 'eval_roc_auc': 0.951392335263303, 'eval_threshold': 0.9614226222038269, 'eval_pr_auc': 0.8608799882444906, 'eval_recall': 0.8709677419354839, 'eval_precision': 0.8393782383419689, 'eval_f1': 0.8548812664907651, 'eval_tn': 355, 'eval_fp': 35, 'eval_fn': 23, 'eval_tp': 163, 'epoch': 4.525862068965517, 'step': 5250}\n",
      "{'loss': 0.2689306640625, 'learning_rate': 0.0, 'epoch': 4.547413793103448, 'step': 5275}\n",
      "{'loss': 0.1110498046875, 'learning_rate': 0.0, 'epoch': 4.568965517241379, 'step': 5300}\n",
      "{'loss': 0.191845703125, 'learning_rate': 0.0, 'epoch': 4.5905172413793105, 'step': 5325}\n",
      "{'loss': 0.15060546875, 'learning_rate': 0.0, 'epoch': 4.612068965517241, 'step': 5350}\n",
      "{'loss': 0.14306640625, 'learning_rate': 0.0, 'epoch': 4.633620689655173, 'step': 5375}\n",
      "{'loss': 0.055322265625, 'learning_rate': 0.0, 'epoch': 4.655172413793103, 'step': 5400}\n",
      "{'loss': 0.2903662109375, 'learning_rate': 0.0, 'epoch': 4.676724137931035, 'step': 5425}\n",
      "{'loss': 0.09947265625, 'learning_rate': 0.0, 'epoch': 4.698275862068965, 'step': 5450}\n",
      "{'loss': 0.237978515625, 'learning_rate': 0.0, 'epoch': 4.719827586206897, 'step': 5475}\n",
      "{'loss': 0.1137060546875, 'learning_rate': 0.0, 'epoch': 4.741379310344827, 'step': 5500}\n"
     ]
    },
    {
     "data": {
      "application/vnd.jupyter.widget-view+json": {
       "model_id": "79144c7bcbef4464ab49df057bfcf6fd",
       "version_major": 2,
       "version_minor": 0
      },
      "text/plain": [
       "Evaluation:   0%|          | 0/72 [00:00<?, ?it/s]"
      ]
     },
     "metadata": {},
     "output_type": "display_data"
    },
    {
     "name": "stdout",
     "output_type": "stream",
     "text": [
      "{'eval_loss': 0.4838169237870413, 'eval_roc_auc': 0.9511579818031431, 'eval_threshold': 0.9618346095085144, 'eval_pr_auc': 0.8592406871803954, 'eval_recall': 0.8709677419354839, 'eval_precision': 0.8393782383419689, 'eval_f1': 0.8548812664907651, 'eval_tn': 355, 'eval_fp': 35, 'eval_fn': 23, 'eval_tp': 163, 'epoch': 4.741379310344827, 'step': 5500}\n",
      "{'loss': 0.0588916015625, 'learning_rate': 0.0, 'epoch': 4.762931034482759, 'step': 5525}\n",
      "{'loss': 0.328466796875, 'learning_rate': 0.0, 'epoch': 4.7844827586206895, 'step': 5550}\n",
      "{'loss': 0.2914208984375, 'learning_rate': 0.0, 'epoch': 4.806034482758621, 'step': 5575}\n",
      "{'loss': 0.2051708984375, 'learning_rate': 0.0, 'epoch': 4.827586206896552, 'step': 5600}\n",
      "{'loss': 0.116826171875, 'learning_rate': 0.0, 'epoch': 4.849137931034483, 'step': 5625}\n",
      "{'loss': 0.14458984375, 'learning_rate': 0.0, 'epoch': 4.870689655172414, 'step': 5650}\n",
      "{'loss': 0.2078515625, 'learning_rate': 0.0, 'epoch': 4.892241379310345, 'step': 5675}\n",
      "{'loss': 0.1364453125, 'learning_rate': 0.0, 'epoch': 4.913793103448276, 'step': 5700}\n",
      "{'loss': 0.2181103515625, 'learning_rate': 0.0, 'epoch': 4.935344827586206, 'step': 5725}\n",
      "{'loss': 0.1389111328125, 'learning_rate': 0.0, 'epoch': 4.956896551724138, 'step': 5750}\n"
     ]
    },
    {
     "data": {
      "application/vnd.jupyter.widget-view+json": {
       "model_id": "9d924d07ee524a90b10d3660431e897c",
       "version_major": 2,
       "version_minor": 0
      },
      "text/plain": [
       "Evaluation:   0%|          | 0/72 [00:00<?, ?it/s]"
      ]
     },
     "metadata": {},
     "output_type": "display_data"
    },
    {
     "name": "stderr",
     "output_type": "stream",
     "text": [
      "/opt/conda/lib/python3.7/site-packages/ipykernel_launcher.py:20: RuntimeWarning: invalid value encountered in true_divide\n"
     ]
    },
    {
     "name": "stdout",
     "output_type": "stream",
     "text": [
      "{'eval_loss': 0.48394241781271474, 'eval_roc_auc': 0.9511993382961125, 'eval_threshold': 0.9596925377845764, 'eval_pr_auc': 0.8552557144186422, 'eval_recall': 0.8709677419354839, 'eval_precision': 0.8393782383419689, 'eval_f1': 0.8548812664907651, 'eval_tn': 355, 'eval_fp': 35, 'eval_fn': 23, 'eval_tp': 163, 'epoch': 4.956896551724138, 'step': 5750}\n",
      "{'loss': 0.12205078125, 'learning_rate': 0.0, 'epoch': 4.978448275862069, 'step': 5775}\n",
      "{'loss': 0.297763671875, 'learning_rate': 0.0, 'epoch': 5.0, 'step': 5800}\n",
      "CPU times: user 1h 7min 22s, sys: 21min 55s, total: 1h 29min 17s\n",
      "Wall time: 1h 29min 44s\n"
     ]
    },
    {
     "data": {
      "text/plain": [
       "TrainOutput(global_step=5800, training_loss=0.29739531418372844)"
      ]
     },
     "execution_count": 33,
     "metadata": {},
     "output_type": "execute_result"
    }
   ],
   "source": [
    "%%time\n",
    "trainer.train()"
   ]
  },
  {
   "cell_type": "code",
   "execution_count": 21,
   "id": "speaking-ghana",
   "metadata": {},
   "outputs": [],
   "source": [
    "# Load TensorBoard notebook extension\n",
    "%load_ext tensorboard"
   ]
  },
  {
   "cell_type": "code",
   "execution_count": 22,
   "id": "forward-colleague",
   "metadata": {},
   "outputs": [
    {
     "data": {
      "text/html": [
       "\n",
       "      <iframe id=\"tensorboard-frame-1c80317fa3b1799d\" width=\"100%\" height=\"800\" frameborder=\"0\">\n",
       "      </iframe>\n",
       "      <script>\n",
       "        (function() {\n",
       "          const frame = document.getElementById(\"tensorboard-frame-1c80317fa3b1799d\");\n",
       "          const url = new URL(\"/\", window.location);\n",
       "          const port = 6006;\n",
       "          if (port) {\n",
       "            url.port = port;\n",
       "          }\n",
       "          frame.src = url;\n",
       "        })();\n",
       "      </script>\n",
       "    "
      ],
      "text/plain": [
       "<IPython.core.display.HTML object>"
      ]
     },
     "metadata": {},
     "output_type": "display_data"
    }
   ],
   "source": [
    "%tensorboard --logdir ./logs/runs"
   ]
  },
  {
   "cell_type": "code",
   "execution_count": 34,
   "id": "standard-earth",
   "metadata": {},
   "outputs": [],
   "source": [
    "trainer.save_model(\"./multimodal_bert/multimodal_bert_v34\")"
   ]
  },
  {
   "cell_type": "markdown",
   "id": "cheap-supervision",
   "metadata": {},
   "source": [
    "### Inference"
   ]
  },
  {
   "cell_type": "code",
   "execution_count": 35,
   "id": "viral-atmosphere",
   "metadata": {},
   "outputs": [],
   "source": [
    "# Need to reload trainer because drop_last = True was set during training.\n",
    "pred_trained = Trainer(\n",
    "    model=model\n",
    ")"
   ]
  },
  {
   "cell_type": "code",
   "execution_count": 36,
   "id": "exterior-sweden",
   "metadata": {},
   "outputs": [
    {
     "data": {
      "application/vnd.jupyter.widget-view+json": {
       "model_id": "a50809442d844ab08c613dfc1dc8fa30",
       "version_major": 2,
       "version_minor": 0
      },
      "text/plain": [
       "Prediction:   0%|          | 0/73 [00:00<?, ?it/s]"
      ]
     },
     "metadata": {},
     "output_type": "display_data"
    }
   ],
   "source": [
    "result = pred_trained.predict(test_dataset=test_dataset).predictions"
   ]
  },
  {
   "cell_type": "code",
   "execution_count": 37,
   "id": "commercial-delta",
   "metadata": {},
   "outputs": [],
   "source": [
    "from scipy.special import softmax\n",
    "\n",
    "pred_labels = np.argmax(result, axis=1)\n",
    "pred_scores = softmax(result, axis=1)[:, 1]"
   ]
  },
  {
   "cell_type": "code",
   "execution_count": 38,
   "id": "velvet-workshop",
   "metadata": {},
   "outputs": [],
   "source": [
    "predicted_labels = [dataloader.convert_prediction(pred) for pred in pred_labels]"
   ]
  },
  {
   "cell_type": "code",
   "execution_count": 39,
   "id": "controlling-assurance",
   "metadata": {},
   "outputs": [
    {
     "data": {
      "text/html": [
       "<div>\n",
       "<style scoped>\n",
       "    .dataframe tbody tr th:only-of-type {\n",
       "        vertical-align: middle;\n",
       "    }\n",
       "\n",
       "    .dataframe tbody tr th {\n",
       "        vertical-align: top;\n",
       "    }\n",
       "\n",
       "    .dataframe thead th {\n",
       "        text-align: right;\n",
       "    }\n",
       "</style>\n",
       "<table border=\"1\" class=\"dataframe\">\n",
       "  <thead>\n",
       "    <tr style=\"text-align: right;\">\n",
       "      <th></th>\n",
       "      <th>id</th>\n",
       "      <th>target</th>\n",
       "    </tr>\n",
       "  </thead>\n",
       "  <tbody>\n",
       "    <tr>\n",
       "      <th>0</th>\n",
       "      <td>544382249178001408</td>\n",
       "      <td>rumour</td>\n",
       "    </tr>\n",
       "    <tr>\n",
       "      <th>1</th>\n",
       "      <td>525027317551079424</td>\n",
       "      <td>rumour</td>\n",
       "    </tr>\n",
       "    <tr>\n",
       "      <th>2</th>\n",
       "      <td>544273220128739329</td>\n",
       "      <td>rumour</td>\n",
       "    </tr>\n",
       "    <tr>\n",
       "      <th>3</th>\n",
       "      <td>499571799764770816</td>\n",
       "      <td>rumour</td>\n",
       "    </tr>\n",
       "    <tr>\n",
       "      <th>4</th>\n",
       "      <td>552844104418091008</td>\n",
       "      <td>rumour</td>\n",
       "    </tr>\n",
       "    <tr>\n",
       "      <th>...</th>\n",
       "      <td>...</td>\n",
       "      <td>...</td>\n",
       "    </tr>\n",
       "    <tr>\n",
       "      <th>576</th>\n",
       "      <td>553581227165642752</td>\n",
       "      <td>rumour</td>\n",
       "    </tr>\n",
       "    <tr>\n",
       "      <th>577</th>\n",
       "      <td>552816302780579840</td>\n",
       "      <td>rumour</td>\n",
       "    </tr>\n",
       "    <tr>\n",
       "      <th>578</th>\n",
       "      <td>580350000074457088</td>\n",
       "      <td>rumour</td>\n",
       "    </tr>\n",
       "    <tr>\n",
       "      <th>579</th>\n",
       "      <td>498584409055174656</td>\n",
       "      <td>rumour</td>\n",
       "    </tr>\n",
       "    <tr>\n",
       "      <th>580</th>\n",
       "      <td>524961070465945600</td>\n",
       "      <td>rumour</td>\n",
       "    </tr>\n",
       "  </tbody>\n",
       "</table>\n",
       "<p>581 rows × 2 columns</p>\n",
       "</div>"
      ],
      "text/plain": [
       "                     id  target\n",
       "0    544382249178001408  rumour\n",
       "1    525027317551079424  rumour\n",
       "2    544273220128739329  rumour\n",
       "3    499571799764770816  rumour\n",
       "4    552844104418091008  rumour\n",
       "..                  ...     ...\n",
       "576  553581227165642752  rumour\n",
       "577  552816302780579840  rumour\n",
       "578  580350000074457088  rumour\n",
       "579  498584409055174656  rumour\n",
       "580  524961070465945600  rumour\n",
       "\n",
       "[581 rows x 2 columns]"
      ]
     },
     "execution_count": 39,
     "metadata": {},
     "output_type": "execute_result"
    }
   ],
   "source": [
    "output = pd.DataFrame({'id':test_df.id,'target':predicted_labels})\n",
    "output"
   ]
  },
  {
   "cell_type": "code",
   "execution_count": 40,
   "id": "through-equation",
   "metadata": {},
   "outputs": [],
   "source": [
    "submission = pd.Series(output.target.values,index=output.id).to_dict()\n",
    "with open('test-output.json', 'w') as f:\n",
    "    json.dump(submission, f)"
   ]
  },
  {
   "cell_type": "code",
   "execution_count": null,
   "id": "athletic-millennium",
   "metadata": {},
   "outputs": [],
   "source": []
  }
 ],
 "metadata": {
  "environment": {
   "name": "tf2-gpu.2-3.m65",
   "type": "gcloud",
   "uri": "gcr.io/deeplearning-platform-release/tf2-gpu.2-3:m65"
  },
  "kernelspec": {
   "display_name": "Python 3",
   "language": "python",
   "name": "python3"
  },
  "language_info": {
   "codemirror_mode": {
    "name": "ipython",
    "version": 3
   },
   "file_extension": ".py",
   "mimetype": "text/x-python",
   "name": "python",
   "nbconvert_exporter": "python",
   "pygments_lexer": "ipython3",
   "version": "3.8.5"
  }
 },
 "nbformat": 4,
 "nbformat_minor": 5
}
