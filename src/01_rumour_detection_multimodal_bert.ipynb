{
 "cells": [
  {
   "cell_type": "markdown",
   "id": "severe-title",
   "metadata": {},
   "source": [
    "**NOTE:** \n",
    "\n",
    "Some additional modifications to the Multimodal-Toolkit source code ([Repository-Link](https://github.com/georgian-io/Multimodal-Toolkit)) with respect to loading the data have been performed (in particular the `load_data_from_folder` method). These changes were not tracked by version control!"
   ]
  },
  {
   "cell_type": "code",
   "execution_count": 1,
   "id": "institutional-template",
   "metadata": {},
   "outputs": [
    {
     "name": "stdout",
     "output_type": "stream",
     "text": [
      "Requirement already satisfied: multimodal-transformers in /opt/conda/lib/python3.7/site-packages (0.1.4a0)\n",
      "Requirement already satisfied: transformers==3.1 in /opt/conda/lib/python3.7/site-packages (from multimodal-transformers) (3.1.0)\n",
      "Requirement already satisfied: numpy in /opt/conda/lib/python3.7/site-packages (from multimodal-transformers) (1.19.5)\n",
      "Requirement already satisfied: tqdm in /opt/conda/lib/python3.7/site-packages (from multimodal-transformers) (4.59.0)\n",
      "Requirement already satisfied: pandas in /opt/conda/lib/python3.7/site-packages (from multimodal-transformers) (1.2.3)\n",
      "Requirement already satisfied: scikit-learn in /opt/conda/lib/python3.7/site-packages (from multimodal-transformers) (0.24.1)\n",
      "Requirement already satisfied: scipy in /opt/conda/lib/python3.7/site-packages (from multimodal-transformers) (1.6.2)\n",
      "Requirement already satisfied: networkx in /opt/conda/lib/python3.7/site-packages (from multimodal-transformers) (2.5)\n",
      "Requirement already satisfied: torch in /opt/conda/lib/python3.7/site-packages (from multimodal-transformers) (1.8.1)\n",
      "Requirement already satisfied: filelock in /opt/conda/lib/python3.7/site-packages (from transformers==3.1->multimodal-transformers) (3.0.12)\n",
      "Requirement already satisfied: requests in /opt/conda/lib/python3.7/site-packages (from transformers==3.1->multimodal-transformers) (2.25.1)\n",
      "Requirement already satisfied: sacremoses in /opt/conda/lib/python3.7/site-packages (from transformers==3.1->multimodal-transformers) (0.0.44)\n",
      "Requirement already satisfied: tokenizers==0.8.1.rc2 in /opt/conda/lib/python3.7/site-packages (from transformers==3.1->multimodal-transformers) (0.8.1rc2)\n",
      "Requirement already satisfied: packaging in /opt/conda/lib/python3.7/site-packages (from transformers==3.1->multimodal-transformers) (20.9)\n",
      "Requirement already satisfied: regex!=2019.12.17 in /opt/conda/lib/python3.7/site-packages (from transformers==3.1->multimodal-transformers) (2021.3.17)\n",
      "Requirement already satisfied: sentencepiece!=0.1.92 in /opt/conda/lib/python3.7/site-packages (from transformers==3.1->multimodal-transformers) (0.1.95)\n",
      "Requirement already satisfied: decorator>=4.3.0 in /opt/conda/lib/python3.7/site-packages (from networkx->multimodal-transformers) (4.4.2)\n",
      "Requirement already satisfied: pyparsing>=2.0.2 in /opt/conda/lib/python3.7/site-packages (from packaging->transformers==3.1->multimodal-transformers) (2.4.7)\n",
      "Requirement already satisfied: python-dateutil>=2.7.3 in /opt/conda/lib/python3.7/site-packages (from pandas->multimodal-transformers) (2.8.1)\n",
      "Requirement already satisfied: pytz>=2017.3 in /opt/conda/lib/python3.7/site-packages (from pandas->multimodal-transformers) (2021.1)\n",
      "Requirement already satisfied: six>=1.5 in /opt/conda/lib/python3.7/site-packages (from python-dateutil>=2.7.3->pandas->multimodal-transformers) (1.15.0)\n",
      "Requirement already satisfied: idna<3,>=2.5 in /opt/conda/lib/python3.7/site-packages (from requests->transformers==3.1->multimodal-transformers) (2.10)\n",
      "Requirement already satisfied: chardet<5,>=3.0.2 in /opt/conda/lib/python3.7/site-packages (from requests->transformers==3.1->multimodal-transformers) (4.0.0)\n",
      "Requirement already satisfied: certifi>=2017.4.17 in /opt/conda/lib/python3.7/site-packages (from requests->transformers==3.1->multimodal-transformers) (2020.12.5)\n",
      "Requirement already satisfied: urllib3<1.27,>=1.21.1 in /opt/conda/lib/python3.7/site-packages (from requests->transformers==3.1->multimodal-transformers) (1.26.4)\n",
      "Requirement already satisfied: click in /opt/conda/lib/python3.7/site-packages (from sacremoses->transformers==3.1->multimodal-transformers) (7.1.2)\n",
      "Requirement already satisfied: joblib in /opt/conda/lib/python3.7/site-packages (from sacremoses->transformers==3.1->multimodal-transformers) (1.0.1)\n",
      "Requirement already satisfied: threadpoolctl>=2.0.0 in /opt/conda/lib/python3.7/site-packages (from scikit-learn->multimodal-transformers) (2.1.0)\n",
      "Requirement already satisfied: typing-extensions in /opt/conda/lib/python3.7/site-packages (from torch->multimodal-transformers) (3.7.4.3)\n"
     ]
    }
   ],
   "source": [
    "! pip install multimodal-transformers"
   ]
  },
  {
   "cell_type": "code",
   "execution_count": 2,
   "id": "genuine-career",
   "metadata": {},
   "outputs": [],
   "source": [
    "import json\n",
    "import re\n",
    "import sys\n",
    "import pandas as pd\n",
    "import numpy as np"
   ]
  },
  {
   "cell_type": "markdown",
   "id": "enclosed-parish",
   "metadata": {},
   "source": [
    "## Preprocessing"
   ]
  },
  {
   "cell_type": "code",
   "execution_count": 3,
   "id": "presidential-experience",
   "metadata": {},
   "outputs": [],
   "source": [
    "import dataloader"
   ]
  },
  {
   "cell_type": "code",
   "execution_count": 4,
   "id": "apart-scholar",
   "metadata": {},
   "outputs": [],
   "source": [
    "train_df = dataloader.load_data(data_file = '../data/train.data.jsonl', label_file = '../data/train.label.json', perform_stemming = False)\n",
    "dev_df = dataloader.load_data(data_file = '../data/dev.data.jsonl', label_file = '../data/dev.label.json', perform_stemming = False)\n",
    "test_df = dataloader.load_data(data_file = '../data/test.data.jsonl', label_file = None, perform_stemming = False)"
   ]
  },
  {
   "cell_type": "code",
   "execution_count": 5,
   "id": "assisted-mistake",
   "metadata": {},
   "outputs": [
    {
     "data": {
      "text/plain": [
       "'people have been able to get out of sydney cafe during hostage situation fucking terrorists   people have been able to get out of sydney cafe during hostage situation her fingers look broken otages libres   people have been able to get out of sydney cafe definitely adding that tweet to my people have been able to get out of sydney cafe during hostage situation     cuba usa stop showing their faces  they are going to have enough trouble without forever being linked with this event i sure hope the hostage taker gets out  feet first and room temp people have been able to get out of sydney cafe during hostage situation dear mr  swat team guy  you may want to choose a long rifle for a more precise shot  this is not csi or miami vice radical islam again spreading terror  muslims are fanatical zealots p  isis syndeysiege anyone see the connection yet  how long r free and democratic nations going to allow terrorists and state sponsors of terror dictate'"
      ]
     },
     "execution_count": 5,
     "metadata": {},
     "output_type": "execute_result"
    }
   ],
   "source": [
    "test_df['text'][0]"
   ]
  },
  {
   "cell_type": "markdown",
   "id": "literary-python",
   "metadata": {},
   "source": [
    "## Multimodal BERT"
   ]
  },
  {
   "cell_type": "code",
   "execution_count": 6,
   "id": "pursuant-multimedia",
   "metadata": {},
   "outputs": [],
   "source": [
    "from dataclasses import dataclass, field\n",
    "import json\n",
    "import logging\n",
    "import os\n",
    "from typing import Optional\n",
    "\n",
    "from transformers import (\n",
    "    AutoTokenizer,\n",
    "    AutoConfig,\n",
    "    Trainer,\n",
    "    EvalPrediction,\n",
    "    set_seed\n",
    ")\n",
    "from transformers.training_args import TrainingArguments\n",
    "\n",
    "from multimodal_transformers.data import load_data_from_folder\n",
    "from multimodal_transformers.model import TabularConfig\n",
    "from multimodal_transformers.model import AutoModelWithTabular\n",
    "\n",
    "logging.basicConfig(level=logging.INFO)\n",
    "os.environ['COMET_MODE'] = 'DISABLED'"
   ]
  },
  {
   "cell_type": "code",
   "execution_count": 7,
   "id": "sonic-database",
   "metadata": {},
   "outputs": [],
   "source": [
    "@dataclass\n",
    "class ModelArguments:\n",
    "    \"\"\"\n",
    "    Arguments pertaining to which model/config/tokenizer we are going to fine-tune from.\n",
    "    \"\"\"\n",
    "    model_name_or_path: str = field(\n",
    "      metadata={\"help\": \"Path to pretrained model or model identifier from huggingface.co/models\"}\n",
    "    )\n",
    "    config_name: Optional[str] = field(\n",
    "      default=None, metadata={\"help\": \"Pretrained config name or path if not the same as model_name\"}\n",
    "    )\n",
    "    tokenizer_name: Optional[str] = field(\n",
    "      default=None, metadata={\"help\": \"Pretrained tokenizer name or path if not the same as model_name\"}\n",
    "    )\n",
    "    cache_dir: Optional[str] = field(\n",
    "      default=None, metadata={\"help\": \"Where do you want to store the pretrained models downloaded from s3\"}\n",
    "    )\n",
    "\n",
    "\n",
    "@dataclass\n",
    "class MultimodalDataTrainingArguments:\n",
    "    \"\"\"\n",
    "    Arguments pertaining to how we combine tabular features\n",
    "    Using `HfArgumentParser` we can turn this class\n",
    "    into argparse arguments to be able to specify them on\n",
    "    the command line.\n",
    "    \"\"\"\n",
    "\n",
    "    data_path: str = field(metadata={\n",
    "                            'help': 'the path to the csv file containing the dataset'\n",
    "                        })\n",
    "    column_info_path: str = field(\n",
    "      default=None,\n",
    "      metadata={\n",
    "          'help': 'the path to the json file detailing which columns are text, categorical, numerical, and the label'\n",
    "    })\n",
    "\n",
    "    column_info: dict = field(\n",
    "      default=None,\n",
    "      metadata={\n",
    "          'help': 'a dict referencing the text, categorical, numerical, and label columns'\n",
    "                  'its keys are text_cols, num_cols, cat_cols, and label_col'\n",
    "    })\n",
    "\n",
    "    categorical_encode_type: str = field(default='ohe',\n",
    "                                        metadata={\n",
    "                                            'help': 'sklearn encoder to use for categorical data',\n",
    "                                            'choices': ['ohe', 'binary', 'label', 'none']\n",
    "                                        })\n",
    "    numerical_transformer_method: str = field(default='yeo_johnson',\n",
    "                                            metadata={\n",
    "                                                'help': 'sklearn numerical transformer to preprocess numerical data',\n",
    "                                                'choices': ['yeo_johnson', 'box_cox', 'quantile_normal', 'none']\n",
    "                                            })\n",
    "    task: str = field(default=\"classification\",\n",
    "                    metadata={\n",
    "                        \"help\": \"The downstream training task\",\n",
    "                        \"choices\": [\"classification\", \"regression\"]\n",
    "                    })\n",
    "\n",
    "    mlp_division: int = field(default=4,\n",
    "                            metadata={\n",
    "                                'help': 'the ratio of the number of '\n",
    "                                        'hidden dims in a current layer to the next MLP layer'\n",
    "                            })\n",
    "    combine_feat_method: str = field(default='individual_mlps_on_cat_and_numerical_feats_then_concat',\n",
    "                                    metadata={\n",
    "                                        'help': 'method to combine categorical and numerical features, '\n",
    "                                                'see README for all the method'\n",
    "                                    })\n",
    "    mlp_dropout: float = field(default=0.1,\n",
    "                              metadata={\n",
    "                                'help': 'dropout ratio used for MLP layers'\n",
    "                              })\n",
    "    numerical_bn: bool = field(default=True,\n",
    "                              metadata={\n",
    "                                  'help': 'whether to use batchnorm on numerical features'\n",
    "                              })\n",
    "    use_simple_classifier: str = field(default=True,\n",
    "                                      metadata={\n",
    "                                          'help': 'whether to use single layer or MLP as final classifier'\n",
    "                                      })\n",
    "    mlp_act: str = field(default='relu',\n",
    "                        metadata={\n",
    "                            'help': 'the activation function to use for finetuning layers',\n",
    "                            'choices': ['relu', 'prelu', 'sigmoid', 'tanh', 'linear']\n",
    "                        })\n",
    "    gating_beta: float = field(default=0.2,\n",
    "                              metadata={\n",
    "                                  'help': \"the beta hyperparameters used for gating tabular data \"\n",
    "                                          \"see https://www.aclweb.org/anthology/2020.acl-main.214.pdf\"\n",
    "                              })\n",
    "\n",
    "    def __post_init__(self):\n",
    "        assert self.column_info != self.column_info_path\n",
    "        if self.column_info is None and self.column_info_path:\n",
    "            with open(self.column_info_path, 'r') as f:\n",
    "                self.column_info = json.load(f)"
   ]
  },
  {
   "cell_type": "code",
   "execution_count": 8,
   "id": "established-council",
   "metadata": {},
   "outputs": [],
   "source": [
    "text_cols = ['text']\n",
    "cat_cols = ['question_mark', 'contains_url', 'contains_media', 'contains_profile_background_image', 'verified', 'geo_enabled', 'has_description']\n",
    "numerical_cols = ['retweet_count', 'favorite_count', 'number_urls','statuses_count', 'listed_count', 'reputation_score_1', 'reputation_score_2', 'favourites_count','length_description','follow_tweets']\n",
    "\n",
    "column_info_dict = {\n",
    "    'text_cols': text_cols,\n",
    "    'num_cols': numerical_cols,\n",
    "    'cat_cols': cat_cols,\n",
    "    'label_col': 'label',\n",
    "    'label_list': [0, 1]\n",
    "}\n",
    "\n",
    "\n",
    "model_args = ModelArguments(\n",
    "    model_name_or_path='bert-base-uncased'\n",
    ")\n",
    "\n",
    "data_args = MultimodalDataTrainingArguments(\n",
    "    data_path='.',\n",
    "    combine_feat_method='gating_on_cat_and_num_feats_then_sum',\n",
    "    column_info=column_info_dict,\n",
    "    task='classification'\n",
    ")\n",
    "\n",
    "training_args = TrainingArguments(\n",
    "    output_dir=\"./logs/model_name\",\n",
    "    logging_dir=\"./logs/runs\",\n",
    "    overwrite_output_dir=True,\n",
    "    do_train=True,\n",
    "    do_eval=True,\n",
    "    per_device_train_batch_size=4,\n",
    "    num_train_epochs=7,\n",
    "    evaluate_during_training=True,\n",
    "    logging_steps=25,\n",
    "    eval_steps=250,\n",
    "    dataloader_drop_last=True\n",
    ")\n",
    "\n",
    "set_seed(training_args.seed)"
   ]
  },
  {
   "cell_type": "code",
   "execution_count": 9,
   "id": "floral-township",
   "metadata": {},
   "outputs": [
    {
     "name": "stdout",
     "output_type": "stream",
     "text": [
      "Specified tokenizer:  bert-base-uncased\n"
     ]
    }
   ],
   "source": [
    "tokenizer_path_or_name = model_args.tokenizer_name if model_args.tokenizer_name else model_args.model_name_or_path\n",
    "print('Specified tokenizer: ', tokenizer_path_or_name)\n",
    "\n",
    "# Tokens automatically converted to lower_case\n",
    "tokenizer = AutoTokenizer.from_pretrained(\n",
    "    tokenizer_path_or_name,\n",
    "    cache_dir=model_args.cache_dir\n",
    ")"
   ]
  },
  {
   "cell_type": "code",
   "execution_count": 10,
   "id": "quarterly-bidder",
   "metadata": {},
   "outputs": [
    {
     "name": "stderr",
     "output_type": "stream",
     "text": [
      "INFO:multimodal_transformers.data.data_utils:9 numerical columns\n",
      "/opt/conda/lib/python3.7/site-packages/pandas/core/frame.py:3191: SettingWithCopyWarning: \n",
      "A value is trying to be set on a copy of a slice from a DataFrame.\n",
      "Try using .loc[row_indexer,col_indexer] = value instead\n",
      "\n",
      "See the caveats in the documentation: https://pandas.pydata.org/pandas-docs/stable/user_guide/indexing.html#returning-a-view-versus-a-copy\n",
      "  self[k1] = value[k2]\n",
      "INFO:multimodal_transformers.data.data_utils:20 categorical columns\n",
      "INFO:multimodal_transformers.data.data_utils:9 numerical columns\n",
      "/opt/conda/lib/python3.7/site-packages/pandas/core/frame.py:3191: SettingWithCopyWarning: \n",
      "A value is trying to be set on a copy of a slice from a DataFrame.\n",
      "Try using .loc[row_indexer,col_indexer] = value instead\n",
      "\n",
      "See the caveats in the documentation: https://pandas.pydata.org/pandas-docs/stable/user_guide/indexing.html#returning-a-view-versus-a-copy\n",
      "  self[k1] = value[k2]\n",
      "INFO:multimodal_transformers.data.load_data:Text columns: ['text']\n",
      "INFO:multimodal_transformers.data.load_data:Raw text example: how to respond to the murderous attack on charlie hebdo  every newspaper in the free world should print this jews label anyone they do not like as anti semite and campaign until that person company is finished no one does imcharliehebdo ditto what innocent muslims ought to find insulting is an atrocity committed in their name  not a sodding cartoon yes  until it becomes yours why insult people who have nothing to do with this  people are genuinely offended by such drawings and neither am i  i think this has little to do with actual muslims ah  you do not like jews  bye bye also they kid you along with benign stuff then     wham it is like a river of shite it is a good point how about this organised jewry  i mean  not the actual people  otherwise i would be hating on my own ancestors and this explored and if that is the case  that is your problem no point insulting billions of innocent muslims just to thumb our noses at a bunch of lunatics they are not worth it oh dear    just saw those tweets    blocked him because they have to learn to not be offended  that is why but by that token jews  blacks and irish people would have to  learn  not to be offended either i get that     i defend the right to free speech however there is a much broader context to this which is not just for the record  i am not in any way  shape or form defending this atrocity yes  remind me when was the last time jews bombed the guardian i know   gives me the creeps there is a lot of very dodgy twitter accounts who seem benign then you see the real side if people insult something that is important to you  you feel that your identity is under attack it is remarkable how quickly they come out the woodwork why is the correct response to brutality to offend lots of people who  do not  support that brutality\n",
      "INFO:multimodal_transformers.data.data_utils:20 categorical columns\n",
      "INFO:multimodal_transformers.data.data_utils:9 numerical columns\n",
      "/opt/conda/lib/python3.7/site-packages/pandas/core/frame.py:3191: SettingWithCopyWarning: \n",
      "A value is trying to be set on a copy of a slice from a DataFrame.\n",
      "Try using .loc[row_indexer,col_indexer] = value instead\n",
      "\n",
      "See the caveats in the documentation: https://pandas.pydata.org/pandas-docs/stable/user_guide/indexing.html#returning-a-view-versus-a-copy\n",
      "  self[k1] = value[k2]\n",
      "INFO:multimodal_transformers.data.load_data:Text columns: ['text']\n",
      "INFO:multimodal_transformers.data.load_data:Raw text example: people have been able to get out of sydney cafe during hostage situation fucking terrorists   people have been able to get out of sydney cafe during hostage situation her fingers look broken otages libres   people have been able to get out of sydney cafe definitely adding that tweet to my people have been able to get out of sydney cafe during hostage situation     cuba usa stop showing their faces  they are going to have enough trouble without forever being linked with this event i sure hope the hostage taker gets out  feet first and room temp people have been able to get out of sydney cafe during hostage situation dear mr  swat team guy  you may want to choose a long rifle for a more precise shot  this is not csi or miami vice radical islam again spreading terror  muslims are fanatical zealots p  isis syndeysiege anyone see the connection yet  how long r free and democratic nations going to allow terrorists and state sponsors of terror dictate\n",
      "INFO:multimodal_transformers.data.data_utils:20 categorical columns\n",
      "INFO:multimodal_transformers.data.data_utils:9 numerical columns\n",
      "/opt/conda/lib/python3.7/site-packages/pandas/core/frame.py:3191: SettingWithCopyWarning: \n",
      "A value is trying to be set on a copy of a slice from a DataFrame.\n",
      "Try using .loc[row_indexer,col_indexer] = value instead\n",
      "\n",
      "See the caveats in the documentation: https://pandas.pydata.org/pandas-docs/stable/user_guide/indexing.html#returning-a-view-versus-a-copy\n",
      "  self[k1] = value[k2]\n",
      "INFO:multimodal_transformers.data.load_data:Text columns: ['text']\n",
      "INFO:multimodal_transformers.data.load_data:Raw text example: breaking reports    brothers suspected of charlie hebdo attack are dead it is unfortunate that they got what they wanted  to die as martyrs  but i am glad for the french people that this part is over that sucks  think bigger picture  we need to know what they know and who they worked for breaking reports    brothers suspected of charlie hebdo attack are dead   and gone to hell got to kill the ones that were ordered to kill the journalists right  just a guess two less to go breaking reports    brothers suspected of charlie hebdo attack are dead   jesuischarlie breaking reports    brothers suspected of charlie hebdo attack are dead   good breaking reports    brothers suspected of charlie hebdo attack are dead breaking reports    brothers suspected of charlie hebdo attack are dead i gave in   heard from my favorite radio station here in dc area   thank u for writing     lt\n"
     ]
    }
   ],
   "source": [
    "# Get Datasets\n",
    "train_dataset, dev_dataset, test_dataset = load_data_from_folder(train_df, dev_df, test_df,\n",
    "    data_args.column_info['text_cols'],\n",
    "    tokenizer,\n",
    "    label_col=data_args.column_info['label_col'],\n",
    "    label_list=data_args.column_info['label_list'],\n",
    "    categorical_cols=data_args.column_info['cat_cols'],\n",
    "    numerical_cols=data_args.column_info['num_cols'],\n",
    "    sep_text_token_str=tokenizer.sep_token\n",
    ")"
   ]
  },
  {
   "cell_type": "code",
   "execution_count": 11,
   "id": "efficient-gossip",
   "metadata": {},
   "outputs": [
    {
     "data": {
      "text/plain": [
       "2"
      ]
     },
     "execution_count": 11,
     "metadata": {},
     "output_type": "execute_result"
    }
   ],
   "source": [
    "num_labels = len(np.unique(train_dataset.labels))\n",
    "num_labels"
   ]
  },
  {
   "cell_type": "code",
   "execution_count": 12,
   "id": "after-toyota",
   "metadata": {},
   "outputs": [],
   "source": [
    "config = AutoConfig.from_pretrained(\n",
    "        model_args.config_name if model_args.config_name else model_args.model_name_or_path,\n",
    "        cache_dir=model_args.cache_dir,\n",
    "    )\n",
    "tabular_config = TabularConfig(num_labels=num_labels,\n",
    "                               cat_feat_dim=train_dataset.cat_feats.shape[1],\n",
    "                               numerical_feat_dim=train_dataset.numerical_feats.shape[1],\n",
    "                               **vars(data_args))\n",
    "config.tabular_config = tabular_config"
   ]
  },
  {
   "cell_type": "code",
   "execution_count": 13,
   "id": "lined-sector",
   "metadata": {},
   "outputs": [
    {
     "name": "stderr",
     "output_type": "stream",
     "text": [
      "Some weights of the model checkpoint at bert-base-uncased were not used when initializing BertWithTabular: ['cls.predictions.bias', 'cls.predictions.transform.dense.weight', 'cls.predictions.transform.dense.bias', 'cls.predictions.decoder.weight', 'cls.seq_relationship.weight', 'cls.seq_relationship.bias', 'cls.predictions.transform.LayerNorm.weight', 'cls.predictions.transform.LayerNorm.bias']\n",
      "- This IS expected if you are initializing BertWithTabular from the checkpoint of a model trained on another task or with another architecture (e.g. initializing a BertForSequenceClassification model from a BertForPretraining model).\n",
      "- This IS NOT expected if you are initializing BertWithTabular from the checkpoint of a model that you expect to be exactly identical (initializing a BertForSequenceClassification model from a BertForSequenceClassification model).\n",
      "Some weights of BertWithTabular were not initialized from the model checkpoint at bert-base-uncased and are newly initialized: ['classifier.weight', 'classifier.bias', 'tabular_combiner.h_bias', 'tabular_combiner.num_bn.weight', 'tabular_combiner.num_bn.bias', 'tabular_combiner.num_bn.running_mean', 'tabular_combiner.num_bn.running_var', 'tabular_combiner.g_cat_layer.weight', 'tabular_combiner.g_cat_layer.bias', 'tabular_combiner.h_cat_layer.weight', 'tabular_combiner.g_num_layer.weight', 'tabular_combiner.g_num_layer.bias', 'tabular_combiner.h_num_layer.weight', 'tabular_combiner.layer_norm.weight', 'tabular_combiner.layer_norm.bias', 'tabular_classifier.weight', 'tabular_classifier.bias']\n",
      "You should probably TRAIN this model on a down-stream task to be able to use it for predictions and inference.\n"
     ]
    }
   ],
   "source": [
    "model = AutoModelWithTabular.from_pretrained(\n",
    "        model_args.config_name if model_args.config_name else model_args.model_name_or_path,\n",
    "        config=config,\n",
    "        cache_dir=model_args.cache_dir\n",
    "    )"
   ]
  },
  {
   "cell_type": "code",
   "execution_count": 14,
   "id": "available-dictionary",
   "metadata": {},
   "outputs": [],
   "source": [
    "import numpy as np\n",
    "from scipy.special import softmax\n",
    "from sklearn.metrics import (\n",
    "    auc,\n",
    "    precision_recall_curve,\n",
    "    roc_auc_score,\n",
    "    f1_score,\n",
    "    confusion_matrix,\n",
    "    matthews_corrcoef,\n",
    ")\n",
    "\n",
    "def calc_classification_metrics(p: EvalPrediction):\n",
    "    pred_labels = np.argmax(p.predictions, axis=1)\n",
    "    pred_scores = softmax(p.predictions, axis=1)[:, 1]\n",
    "    labels = p.label_ids\n",
    "    if len(np.unique(labels)) == 2:  # binary classification\n",
    "        roc_auc_pred_score = roc_auc_score(labels, pred_scores)\n",
    "        precisions, recalls, thresholds = precision_recall_curve(labels,\n",
    "                                                                pred_scores)\n",
    "        fscore = (2 * precisions * recalls) / (precisions + recalls)\n",
    "        fscore[np.isnan(fscore)] = 0\n",
    "        ix = np.argmax(fscore)\n",
    "        threshold = thresholds[ix].item()\n",
    "        pr_auc = auc(recalls, precisions)\n",
    "        tn, fp, fn, tp = confusion_matrix(labels, pred_labels, labels=[0, 1]).ravel()\n",
    "        result = {'roc_auc': roc_auc_pred_score,\n",
    "                'threshold': threshold,\n",
    "                'pr_auc': pr_auc,\n",
    "                'recall': recalls[ix].item(),\n",
    "                'precision': precisions[ix].item(), 'f1': fscore[ix].item(),\n",
    "                'tn': tn.item(), 'fp': fp.item(), 'fn': fn.item(), 'tp': tp.item()\n",
    "                }\n",
    "    else:\n",
    "        acc = (pred_labels == labels).mean()\n",
    "        f1 = f1_score(y_true=labels, y_pred=pred_labels)\n",
    "        result = {\n",
    "          \"acc\": acc,\n",
    "          \"f1\": f1,\n",
    "          \"acc_and_f1\": (acc + f1) / 2,\n",
    "          \"mcc\": matthews_corrcoef(labels, pred_labels)\n",
    "        }\n",
    "\n",
    "    return result"
   ]
  },
  {
   "cell_type": "code",
   "execution_count": 15,
   "id": "designing-banner",
   "metadata": {},
   "outputs": [],
   "source": [
    "trainer = Trainer(\n",
    "    model=model,\n",
    "    args=training_args,\n",
    "    train_dataset=train_dataset,\n",
    "    eval_dataset=dev_dataset,\n",
    "    compute_metrics=calc_classification_metrics\n",
    ")"
   ]
  },
  {
   "cell_type": "code",
   "execution_count": 16,
   "id": "killing-dominant",
   "metadata": {},
   "outputs": [
    {
     "data": {
      "application/vnd.jupyter.widget-view+json": {
       "model_id": "9d66f52c10c246c7830bf7d8314e080b",
       "version_major": 2,
       "version_minor": 0
      },
      "text/plain": [
       "Epoch:   0%|          | 0/7 [00:00<?, ?it/s]"
      ]
     },
     "metadata": {},
     "output_type": "display_data"
    },
    {
     "data": {
      "application/vnd.jupyter.widget-view+json": {
       "model_id": "556f738af7e4424e838c57aeb8e1a38f",
       "version_major": 2,
       "version_minor": 0
      },
      "text/plain": [
       "Iteration:   0%|          | 0/1160 [00:00<?, ?it/s]"
      ]
     },
     "metadata": {},
     "output_type": "display_data"
    },
    {
     "name": "stdout",
     "output_type": "stream",
     "text": [
      "{'loss': 0.7431385040283203, 'learning_rate': 4.9846059113300494e-05, 'epoch': 0.021551724137931036, 'step': 25}\n",
      "{'loss': 0.598366470336914, 'learning_rate': 4.9692118226600986e-05, 'epoch': 0.04310344827586207, 'step': 50}\n",
      "{'loss': 0.6772987365722656, 'learning_rate': 4.9538177339901484e-05, 'epoch': 0.06465517241379311, 'step': 75}\n",
      "{'loss': 0.6353677368164062, 'learning_rate': 4.938423645320197e-05, 'epoch': 0.08620689655172414, 'step': 100}\n",
      "{'loss': 0.6358514404296876, 'learning_rate': 4.923029556650247e-05, 'epoch': 0.10775862068965517, 'step': 125}\n",
      "{'loss': 0.6349850463867187, 'learning_rate': 4.907635467980296e-05, 'epoch': 0.12931034482758622, 'step': 150}\n",
      "{'loss': 0.6305630493164063, 'learning_rate': 4.892241379310345e-05, 'epoch': 0.15086206896551724, 'step': 175}\n",
      "{'loss': 0.5048910522460938, 'learning_rate': 4.876847290640394e-05, 'epoch': 0.1724137931034483, 'step': 200}\n",
      "{'loss': 0.5755682373046875, 'learning_rate': 4.8614532019704434e-05, 'epoch': 0.1939655172413793, 'step': 225}\n",
      "{'loss': 0.5313592529296876, 'learning_rate': 4.846059113300493e-05, 'epoch': 0.21551724137931033, 'step': 250}\n"
     ]
    },
    {
     "data": {
      "application/vnd.jupyter.widget-view+json": {
       "model_id": "8ebd379ca941404b88d639c2ba6014d8",
       "version_major": 2,
       "version_minor": 0
      },
      "text/plain": [
       "Evaluation:   0%|          | 0/72 [00:00<?, ?it/s]"
      ]
     },
     "metadata": {},
     "output_type": "display_data"
    },
    {
     "name": "stderr",
     "output_type": "stream",
     "text": [
      "/opt/conda/lib/python3.7/site-packages/ipykernel_launcher.py:20: RuntimeWarning: invalid value encountered in true_divide\n"
     ]
    },
    {
     "name": "stdout",
     "output_type": "stream",
     "text": [
      "{'eval_loss': 0.5801599841150973, 'eval_roc_auc': 0.6970361180038599, 'eval_threshold': 0.2638416886329651, 'eval_pr_auc': 0.546207613836113, 'eval_recall': 0.7096774193548387, 'eval_precision': 0.4697508896797153, 'eval_f1': 0.5653104925053533, 'eval_tn': 384, 'eval_fp': 6, 'eval_fn': 166, 'eval_tp': 20, 'epoch': 0.21551724137931033, 'step': 250}\n",
      "{'loss': 0.6587677001953125, 'learning_rate': 4.8306650246305424e-05, 'epoch': 0.23706896551724138, 'step': 275}\n",
      "{'loss': 0.5853216552734375, 'learning_rate': 4.8152709359605915e-05, 'epoch': 0.25862068965517243, 'step': 300}\n",
      "{'loss': 0.69006103515625, 'learning_rate': 4.799876847290641e-05, 'epoch': 0.2801724137931034, 'step': 325}\n",
      "{'loss': 0.629112548828125, 'learning_rate': 4.78448275862069e-05, 'epoch': 0.3017241379310345, 'step': 350}\n",
      "{'loss': 0.6356671142578125, 'learning_rate': 4.769088669950739e-05, 'epoch': 0.3232758620689655, 'step': 375}\n",
      "{'loss': 0.5566705322265625, 'learning_rate': 4.753694581280788e-05, 'epoch': 0.3448275862068966, 'step': 400}\n",
      "{'loss': 0.4747259521484375, 'learning_rate': 4.738300492610837e-05, 'epoch': 0.36637931034482757, 'step': 425}\n",
      "{'loss': 0.615460205078125, 'learning_rate': 4.722906403940887e-05, 'epoch': 0.3879310344827586, 'step': 450}\n",
      "{'loss': 0.476385498046875, 'learning_rate': 4.707512315270936e-05, 'epoch': 0.40948275862068967, 'step': 475}\n",
      "{'loss': 0.5577880859375, 'learning_rate': 4.6921182266009855e-05, 'epoch': 0.43103448275862066, 'step': 500}\n"
     ]
    },
    {
     "data": {
      "application/vnd.jupyter.widget-view+json": {
       "model_id": "de31bd656c4e4763a8c524666ed9d8f3",
       "version_major": 2,
       "version_minor": 0
      },
      "text/plain": [
       "Evaluation:   0%|          | 0/72 [00:00<?, ?it/s]"
      ]
     },
     "metadata": {},
     "output_type": "display_data"
    },
    {
     "name": "stderr",
     "output_type": "stream",
     "text": [
      "/opt/conda/lib/python3.7/site-packages/ipykernel_launcher.py:20: RuntimeWarning: invalid value encountered in true_divide\n"
     ]
    },
    {
     "name": "stdout",
     "output_type": "stream",
     "text": [
      "{'eval_loss': 0.7201832710868783, 'eval_roc_auc': 0.7805348773090709, 'eval_threshold': 0.04888703301548958, 'eval_pr_auc': 0.643067574554814, 'eval_recall': 0.7258064516129032, 'eval_precision': 0.5625, 'eval_f1': 0.6338028169014084, 'eval_tn': 380, 'eval_fp': 10, 'eval_fn': 131, 'eval_tp': 55, 'epoch': 0.43103448275862066, 'step': 500}\n",
      "{'loss': 0.59272216796875, 'learning_rate': 4.6767241379310346e-05, 'epoch': 0.4525862068965517, 'step': 525}\n",
      "{'loss': 0.469764404296875, 'learning_rate': 4.661330049261084e-05, 'epoch': 0.47413793103448276, 'step': 550}\n",
      "{'loss': 0.611531982421875, 'learning_rate': 4.6459359605911336e-05, 'epoch': 0.4956896551724138, 'step': 575}\n",
      "{'loss': 0.566463623046875, 'learning_rate': 4.630541871921182e-05, 'epoch': 0.5172413793103449, 'step': 600}\n",
      "{'loss': 0.718939208984375, 'learning_rate': 4.615147783251232e-05, 'epoch': 0.5387931034482759, 'step': 625}\n",
      "{'loss': 0.6609716796875, 'learning_rate': 4.599753694581281e-05, 'epoch': 0.5603448275862069, 'step': 650}\n",
      "{'loss': 0.548590087890625, 'learning_rate': 4.58435960591133e-05, 'epoch': 0.5818965517241379, 'step': 675}\n",
      "{'loss': 0.596640625, 'learning_rate': 4.5689655172413794e-05, 'epoch': 0.603448275862069, 'step': 700}\n",
      "{'loss': 0.453084716796875, 'learning_rate': 4.5535714285714286e-05, 'epoch': 0.625, 'step': 725}\n",
      "{'loss': 0.63637939453125, 'learning_rate': 4.5381773399014784e-05, 'epoch': 0.646551724137931, 'step': 750}\n"
     ]
    },
    {
     "data": {
      "application/vnd.jupyter.widget-view+json": {
       "model_id": "303e37d1794c41b291d0003a93f2623c",
       "version_major": 2,
       "version_minor": 0
      },
      "text/plain": [
       "Evaluation:   0%|          | 0/72 [00:00<?, ?it/s]"
      ]
     },
     "metadata": {},
     "output_type": "display_data"
    },
    {
     "name": "stdout",
     "output_type": "stream",
     "text": [
      "{'eval_loss': 0.4863107382423348, 'eval_roc_auc': 0.8271436448855803, 'eval_threshold': 0.4326234757900238, 'eval_pr_auc': 0.7039372004297799, 'eval_recall': 0.6774193548387096, 'eval_precision': 0.711864406779661, 'eval_f1': 0.6942148760330579, 'eval_tn': 351, 'eval_fp': 39, 'eval_fn': 74, 'eval_tp': 112, 'epoch': 0.646551724137931, 'step': 750}\n",
      "{'loss': 0.528765869140625, 'learning_rate': 4.522783251231527e-05, 'epoch': 0.6681034482758621, 'step': 775}\n",
      "{'loss': 0.491522216796875, 'learning_rate': 4.507389162561577e-05, 'epoch': 0.6896551724137931, 'step': 800}\n",
      "{'loss': 0.50287353515625, 'learning_rate': 4.491995073891626e-05, 'epoch': 0.7112068965517241, 'step': 825}\n",
      "{'loss': 0.661307373046875, 'learning_rate': 4.476600985221675e-05, 'epoch': 0.7327586206896551, 'step': 850}\n",
      "{'loss': 0.786220703125, 'learning_rate': 4.461206896551724e-05, 'epoch': 0.7543103448275862, 'step': 875}\n",
      "{'loss': 0.54729248046875, 'learning_rate': 4.4458128078817734e-05, 'epoch': 0.7758620689655172, 'step': 900}\n",
      "{'loss': 0.47951416015625, 'learning_rate': 4.430418719211823e-05, 'epoch': 0.7974137931034483, 'step': 925}\n",
      "{'loss': 0.5603662109375, 'learning_rate': 4.415024630541872e-05, 'epoch': 0.8189655172413793, 'step': 950}\n",
      "{'loss': 0.6677880859375, 'learning_rate': 4.3996305418719216e-05, 'epoch': 0.8405172413793104, 'step': 975}\n",
      "{'loss': 0.6105078125, 'learning_rate': 4.384236453201971e-05, 'epoch': 0.8620689655172413, 'step': 1000}\n"
     ]
    },
    {
     "data": {
      "application/vnd.jupyter.widget-view+json": {
       "model_id": "009f14b98c084764afc71ac921446ee3",
       "version_major": 2,
       "version_minor": 0
      },
      "text/plain": [
       "Evaluation:   0%|          | 0/72 [00:00<?, ?it/s]"
      ]
     },
     "metadata": {},
     "output_type": "display_data"
    },
    {
     "name": "stdout",
     "output_type": "stream",
     "text": [
      "{'eval_loss': 0.522536869885193, 'eval_roc_auc': 0.7777915632754342, 'eval_threshold': 0.2811976969242096, 'eval_pr_auc': 0.6582510957162593, 'eval_recall': 0.7634408602150538, 'eval_precision': 0.5182481751824818, 'eval_f1': 0.6173913043478261, 'eval_tn': 369, 'eval_fp': 21, 'eval_fn': 110, 'eval_tp': 76, 'epoch': 0.8620689655172413, 'step': 1000}\n",
      "{'loss': 0.58204345703125, 'learning_rate': 4.36884236453202e-05, 'epoch': 0.8836206896551724, 'step': 1025}\n",
      "{'loss': 0.523984375, 'learning_rate': 4.353448275862069e-05, 'epoch': 0.9051724137931034, 'step': 1050}\n",
      "{'loss': 0.60415771484375, 'learning_rate': 4.338054187192118e-05, 'epoch': 0.9267241379310345, 'step': 1075}\n",
      "{'loss': 0.577509765625, 'learning_rate': 4.3226600985221674e-05, 'epoch': 0.9482758620689655, 'step': 1100}\n",
      "{'loss': 0.53253173828125, 'learning_rate': 4.307266009852217e-05, 'epoch': 0.9698275862068966, 'step': 1125}\n",
      "{'loss': 0.43788818359375, 'learning_rate': 4.2918719211822664e-05, 'epoch': 0.9913793103448276, 'step': 1150}\n"
     ]
    },
    {
     "data": {
      "application/vnd.jupyter.widget-view+json": {
       "model_id": "e940ca3be73b4da0a06666654e1a4c28",
       "version_major": 2,
       "version_minor": 0
      },
      "text/plain": [
       "Iteration:   0%|          | 0/1160 [00:00<?, ?it/s]"
      ]
     },
     "metadata": {},
     "output_type": "display_data"
    },
    {
     "name": "stdout",
     "output_type": "stream",
     "text": [
      "{'loss': 0.5106982421875, 'learning_rate': 4.2764778325123155e-05, 'epoch': 1.0129310344827587, 'step': 1175}\n",
      "{'loss': 0.4902001953125, 'learning_rate': 4.261083743842365e-05, 'epoch': 1.0344827586206897, 'step': 1200}\n",
      "{'loss': 0.3700439453125, 'learning_rate': 4.245689655172414e-05, 'epoch': 1.0560344827586208, 'step': 1225}\n",
      "{'loss': 0.67509765625, 'learning_rate': 4.230295566502464e-05, 'epoch': 1.0775862068965518, 'step': 1250}\n"
     ]
    },
    {
     "data": {
      "application/vnd.jupyter.widget-view+json": {
       "model_id": "c3b0ef08b5a94108b9f3e3fb7eb3354e",
       "version_major": 2,
       "version_minor": 0
      },
      "text/plain": [
       "Evaluation:   0%|          | 0/72 [00:00<?, ?it/s]"
      ]
     },
     "metadata": {},
     "output_type": "display_data"
    },
    {
     "name": "stderr",
     "output_type": "stream",
     "text": [
      "/opt/conda/lib/python3.7/site-packages/ipykernel_launcher.py:20: RuntimeWarning: invalid value encountered in true_divide\n"
     ]
    },
    {
     "name": "stdout",
     "output_type": "stream",
     "text": [
      "{'eval_loss': 0.5373643950248758, 'eval_roc_auc': 0.8205128205128206, 'eval_threshold': 0.14392291009426117, 'eval_pr_auc': 0.692382827805128, 'eval_recall': 0.6989247311827957, 'eval_precision': 0.6842105263157895, 'eval_f1': 0.6914893617021276, 'eval_tn': 368, 'eval_fp': 22, 'eval_fn': 98, 'eval_tp': 88, 'epoch': 1.0775862068965518, 'step': 1250}\n",
      "{'loss': 0.59179443359375, 'learning_rate': 4.214901477832512e-05, 'epoch': 1.0991379310344827, 'step': 1275}\n",
      "{'loss': 0.594619140625, 'learning_rate': 4.199507389162562e-05, 'epoch': 1.1206896551724137, 'step': 1300}\n",
      "{'loss': 0.53516357421875, 'learning_rate': 4.184113300492611e-05, 'epoch': 1.1422413793103448, 'step': 1325}\n",
      "{'loss': 0.5799658203125, 'learning_rate': 4.16871921182266e-05, 'epoch': 1.1637931034482758, 'step': 1350}\n",
      "{'loss': 0.51719482421875, 'learning_rate': 4.1533251231527095e-05, 'epoch': 1.1853448275862069, 'step': 1375}\n",
      "{'loss': 0.52018798828125, 'learning_rate': 4.1379310344827587e-05, 'epoch': 1.206896551724138, 'step': 1400}\n",
      "{'loss': 0.44725341796875, 'learning_rate': 4.1225369458128085e-05, 'epoch': 1.228448275862069, 'step': 1425}\n",
      "{'loss': 0.51072998046875, 'learning_rate': 4.107142857142857e-05, 'epoch': 1.25, 'step': 1450}\n",
      "{'loss': 0.6054443359375, 'learning_rate': 4.091748768472907e-05, 'epoch': 1.271551724137931, 'step': 1475}\n",
      "{'loss': 0.5086767578125, 'learning_rate': 4.076354679802955e-05, 'epoch': 1.293103448275862, 'step': 1500}\n"
     ]
    },
    {
     "data": {
      "application/vnd.jupyter.widget-view+json": {
       "model_id": "497dded55de24385ab6374c1ea5d68cc",
       "version_major": 2,
       "version_minor": 0
      },
      "text/plain": [
       "Evaluation:   0%|          | 0/72 [00:00<?, ?it/s]"
      ]
     },
     "metadata": {},
     "output_type": "display_data"
    },
    {
     "name": "stdout",
     "output_type": "stream",
     "text": [
      "{'eval_loss': 0.5615455140877101, 'eval_roc_auc': 0.775475599669148, 'eval_threshold': 0.19506855309009552, 'eval_pr_auc': 0.6368305313124294, 'eval_recall': 0.7258064516129032, 'eval_precision': 0.5510204081632653, 'eval_f1': 0.6264501160092807, 'eval_tn': 383, 'eval_fp': 7, 'eval_fn': 157, 'eval_tp': 29, 'epoch': 1.293103448275862, 'step': 1500}\n",
      "{'loss': 0.67717041015625, 'learning_rate': 4.060960591133005e-05, 'epoch': 1.3146551724137931, 'step': 1525}\n",
      "{'loss': 0.5598193359375, 'learning_rate': 4.045566502463054e-05, 'epoch': 1.3362068965517242, 'step': 1550}\n",
      "{'loss': 0.49600830078125, 'learning_rate': 4.0301724137931035e-05, 'epoch': 1.3577586206896552, 'step': 1575}\n",
      "{'loss': 0.48645751953125, 'learning_rate': 4.014778325123153e-05, 'epoch': 1.3793103448275863, 'step': 1600}\n",
      "{'loss': 0.61676513671875, 'learning_rate': 3.999384236453202e-05, 'epoch': 1.4008620689655173, 'step': 1625}\n",
      "{'loss': 0.58815185546875, 'learning_rate': 3.9839901477832516e-05, 'epoch': 1.4224137931034484, 'step': 1650}\n",
      "{'loss': 0.54765625, 'learning_rate': 3.968596059113301e-05, 'epoch': 1.4439655172413794, 'step': 1675}\n",
      "{'loss': 0.47361572265625, 'learning_rate': 3.95320197044335e-05, 'epoch': 1.4655172413793103, 'step': 1700}\n",
      "{'loss': 0.56032958984375, 'learning_rate': 3.937807881773399e-05, 'epoch': 1.4870689655172413, 'step': 1725}\n",
      "{'loss': 0.5103515625, 'learning_rate': 3.922413793103448e-05, 'epoch': 1.5086206896551724, 'step': 1750}\n"
     ]
    },
    {
     "data": {
      "application/vnd.jupyter.widget-view+json": {
       "model_id": "b3bdce2807ee4751bfb48195ca09f231",
       "version_major": 2,
       "version_minor": 0
      },
      "text/plain": [
       "Evaluation:   0%|          | 0/72 [00:00<?, ?it/s]"
      ]
     },
     "metadata": {},
     "output_type": "display_data"
    },
    {
     "name": "stderr",
     "output_type": "stream",
     "text": [
      "/opt/conda/lib/python3.7/site-packages/ipykernel_launcher.py:20: RuntimeWarning: invalid value encountered in true_divide\n"
     ]
    },
    {
     "name": "stdout",
     "output_type": "stream",
     "text": [
      "{'eval_loss': 0.46576257836487556, 'eval_roc_auc': 0.8349186655638268, 'eval_threshold': 0.19106513261795044, 'eval_pr_auc': 0.7211410822808698, 'eval_recall': 0.7688172043010753, 'eval_precision': 0.6682242990654206, 'eval_f1': 0.715, 'eval_tn': 367, 'eval_fp': 23, 'eval_fn': 88, 'eval_tp': 98, 'epoch': 1.5086206896551724, 'step': 1750}\n",
      "{'loss': 0.6202685546875, 'learning_rate': 3.9070197044334974e-05, 'epoch': 1.5301724137931034, 'step': 1775}\n",
      "{'loss': 0.582861328125, 'learning_rate': 3.891625615763547e-05, 'epoch': 1.5517241379310345, 'step': 1800}\n",
      "{'loss': 0.623876953125, 'learning_rate': 3.8762315270935964e-05, 'epoch': 1.5732758620689655, 'step': 1825}\n",
      "{'loss': 0.5491748046875, 'learning_rate': 3.8608374384236456e-05, 'epoch': 1.5948275862068966, 'step': 1850}\n",
      "{'loss': 0.53080078125, 'learning_rate': 3.845443349753695e-05, 'epoch': 1.6163793103448276, 'step': 1875}\n",
      "{'loss': 0.570478515625, 'learning_rate': 3.830049261083744e-05, 'epoch': 1.6379310344827587, 'step': 1900}\n",
      "{'loss': 0.4922119140625, 'learning_rate': 3.814655172413794e-05, 'epoch': 1.6594827586206895, 'step': 1925}\n",
      "{'loss': 0.4985107421875, 'learning_rate': 3.799261083743842e-05, 'epoch': 1.6810344827586206, 'step': 1950}\n",
      "{'loss': 0.404765625, 'learning_rate': 3.783866995073892e-05, 'epoch': 1.7025862068965516, 'step': 1975}\n",
      "{'loss': 0.718662109375, 'learning_rate': 3.768472906403941e-05, 'epoch': 1.7241379310344827, 'step': 2000}\n"
     ]
    },
    {
     "data": {
      "application/vnd.jupyter.widget-view+json": {
       "model_id": "c3174abbb257496f9e0df620303c8e39",
       "version_major": 2,
       "version_minor": 0
      },
      "text/plain": [
       "Evaluation:   0%|          | 0/72 [00:00<?, ?it/s]"
      ]
     },
     "metadata": {},
     "output_type": "display_data"
    },
    {
     "name": "stdout",
     "output_type": "stream",
     "text": [
      "{'eval_loss': 0.419994552516275, 'eval_roc_auc': 0.8641439205955334, 'eval_threshold': 0.3068794906139374, 'eval_pr_auc': 0.7197261611052437, 'eval_recall': 0.7688172043010753, 'eval_precision': 0.7333333333333333, 'eval_f1': 0.7506561679790027, 'eval_tn': 343, 'eval_fp': 47, 'eval_fn': 53, 'eval_tp': 133, 'epoch': 1.7241379310344827, 'step': 2000}\n",
      "{'loss': 0.5343896484375, 'learning_rate': 3.7530788177339904e-05, 'epoch': 1.7456896551724137, 'step': 2025}\n",
      "{'loss': 0.4818359375, 'learning_rate': 3.7376847290640395e-05, 'epoch': 1.7672413793103448, 'step': 2050}\n",
      "{'loss': 0.4035546875, 'learning_rate': 3.722290640394089e-05, 'epoch': 1.7887931034482758, 'step': 2075}\n",
      "{'loss': 0.5372705078125, 'learning_rate': 3.7068965517241385e-05, 'epoch': 1.8103448275862069, 'step': 2100}\n",
      "{'loss': 0.5917431640625, 'learning_rate': 3.691502463054187e-05, 'epoch': 1.831896551724138, 'step': 2125}\n",
      "{'loss': 0.48666015625, 'learning_rate': 3.676108374384237e-05, 'epoch': 1.853448275862069, 'step': 2150}\n",
      "{'loss': 0.597001953125, 'learning_rate': 3.6607142857142853e-05, 'epoch': 1.875, 'step': 2175}\n",
      "{'loss': 0.430146484375, 'learning_rate': 3.645320197044335e-05, 'epoch': 1.896551724137931, 'step': 2200}\n",
      "{'loss': 0.60072265625, 'learning_rate': 3.6299261083743843e-05, 'epoch': 1.918103448275862, 'step': 2225}\n",
      "{'loss': 0.5565771484375, 'learning_rate': 3.6145320197044335e-05, 'epoch': 1.9396551724137931, 'step': 2250}\n"
     ]
    },
    {
     "data": {
      "application/vnd.jupyter.widget-view+json": {
       "model_id": "4f02d88938e64811b97df8408a8fc99f",
       "version_major": 2,
       "version_minor": 0
      },
      "text/plain": [
       "Evaluation:   0%|          | 0/72 [00:00<?, ?it/s]"
      ]
     },
     "metadata": {},
     "output_type": "display_data"
    },
    {
     "name": "stderr",
     "output_type": "stream",
     "text": [
      "/opt/conda/lib/python3.7/site-packages/ipykernel_launcher.py:20: RuntimeWarning: invalid value encountered in true_divide\n"
     ]
    },
    {
     "name": "stdout",
     "output_type": "stream",
     "text": [
      "{'eval_loss': 0.464904288864798, 'eval_roc_auc': 0.8254618141714916, 'eval_threshold': 0.3514133393764496, 'eval_pr_auc': 0.6337953323465277, 'eval_recall': 0.8440860215053764, 'eval_precision': 0.5880149812734082, 'eval_f1': 0.6931567328918322, 'eval_tn': 330, 'eval_fp': 60, 'eval_fn': 91, 'eval_tp': 95, 'epoch': 1.9396551724137931, 'step': 2250}\n",
      "{'loss': 0.3899951171875, 'learning_rate': 3.5991379310344833e-05, 'epoch': 1.9612068965517242, 'step': 2275}\n",
      "{'loss': 0.3845556640625, 'learning_rate': 3.583743842364532e-05, 'epoch': 1.9827586206896552, 'step': 2300}\n"
     ]
    },
    {
     "data": {
      "application/vnd.jupyter.widget-view+json": {
       "model_id": "6d99292ee47e4c04a4e9c36201af4450",
       "version_major": 2,
       "version_minor": 0
      },
      "text/plain": [
       "Iteration:   0%|          | 0/1160 [00:00<?, ?it/s]"
      ]
     },
     "metadata": {},
     "output_type": "display_data"
    },
    {
     "name": "stdout",
     "output_type": "stream",
     "text": [
      "{'loss': 0.4716748046875, 'learning_rate': 3.568349753694582e-05, 'epoch': 2.0043103448275863, 'step': 2325}\n",
      "{'loss': 0.5469873046875, 'learning_rate': 3.552955665024631e-05, 'epoch': 2.0258620689655173, 'step': 2350}\n",
      "{'loss': 0.6546142578125, 'learning_rate': 3.53756157635468e-05, 'epoch': 2.0474137931034484, 'step': 2375}\n",
      "{'loss': 0.5283984375, 'learning_rate': 3.522167487684729e-05, 'epoch': 2.0689655172413794, 'step': 2400}\n",
      "{'loss': 0.6766015625, 'learning_rate': 3.506773399014778e-05, 'epoch': 2.0905172413793105, 'step': 2425}\n",
      "{'loss': 0.4710400390625, 'learning_rate': 3.4913793103448275e-05, 'epoch': 2.1120689655172415, 'step': 2450}\n",
      "{'loss': 0.511533203125, 'learning_rate': 3.475985221674877e-05, 'epoch': 2.1336206896551726, 'step': 2475}\n",
      "{'loss': 0.779091796875, 'learning_rate': 3.4605911330049265e-05, 'epoch': 2.1551724137931036, 'step': 2500}\n"
     ]
    },
    {
     "data": {
      "application/vnd.jupyter.widget-view+json": {
       "model_id": "9df00f7a91414314932ed4413180b68f",
       "version_major": 2,
       "version_minor": 0
      },
      "text/plain": [
       "Evaluation:   0%|          | 0/72 [00:00<?, ?it/s]"
      ]
     },
     "metadata": {},
     "output_type": "display_data"
    },
    {
     "name": "stdout",
     "output_type": "stream",
     "text": [
      "{'eval_loss': 0.5669361661291785, 'eval_roc_auc': 0.8469120485249517, 'eval_threshold': 0.0724063590168953, 'eval_pr_auc': 0.7148532817456328, 'eval_recall': 0.7258064516129032, 'eval_precision': 0.7219251336898396, 'eval_f1': 0.7238605898123325, 'eval_tn': 350, 'eval_fp': 40, 'eval_fn': 67, 'eval_tp': 119, 'epoch': 2.1551724137931036, 'step': 2500}\n",
      "{'loss': 0.4835888671875, 'learning_rate': 3.4451970443349756e-05, 'epoch': 2.1767241379310347, 'step': 2525}\n",
      "{'loss': 0.693818359375, 'learning_rate': 3.429802955665025e-05, 'epoch': 2.1982758620689653, 'step': 2550}\n",
      "{'loss': 0.5179345703125, 'learning_rate': 3.414408866995074e-05, 'epoch': 2.2198275862068964, 'step': 2575}\n",
      "{'loss': 0.4632421875, 'learning_rate': 3.399014778325123e-05, 'epoch': 2.2413793103448274, 'step': 2600}\n",
      "{'loss': 0.367177734375, 'learning_rate': 3.383620689655172e-05, 'epoch': 2.2629310344827585, 'step': 2625}\n",
      "{'loss': 0.4860595703125, 'learning_rate': 3.368226600985222e-05, 'epoch': 2.2844827586206895, 'step': 2650}\n",
      "{'loss': 0.533447265625, 'learning_rate': 3.352832512315271e-05, 'epoch': 2.3060344827586206, 'step': 2675}\n",
      "{'loss': 0.444619140625, 'learning_rate': 3.3374384236453204e-05, 'epoch': 2.3275862068965516, 'step': 2700}\n",
      "{'loss': 0.56697265625, 'learning_rate': 3.3220443349753696e-05, 'epoch': 2.3491379310344827, 'step': 2725}\n",
      "{'loss': 0.5146142578125, 'learning_rate': 3.306650246305419e-05, 'epoch': 2.3706896551724137, 'step': 2750}\n"
     ]
    },
    {
     "data": {
      "application/vnd.jupyter.widget-view+json": {
       "model_id": "beedbe0ef77946ffa9748e11eed55960",
       "version_major": 2,
       "version_minor": 0
      },
      "text/plain": [
       "Evaluation:   0%|          | 0/72 [00:00<?, ?it/s]"
      ]
     },
     "metadata": {},
     "output_type": "display_data"
    },
    {
     "name": "stderr",
     "output_type": "stream",
     "text": [
      "/opt/conda/lib/python3.7/site-packages/ipykernel_launcher.py:20: RuntimeWarning: invalid value encountered in true_divide\n"
     ]
    },
    {
     "name": "stdout",
     "output_type": "stream",
     "text": [
      "{'eval_loss': 0.4660772791960173, 'eval_roc_auc': 0.8566308243727598, 'eval_threshold': 0.5068467855453491, 'eval_pr_auc': 0.6979330215585184, 'eval_recall': 0.7795698924731183, 'eval_precision': 0.6651376146788991, 'eval_f1': 0.7178217821782178, 'eval_tn': 312, 'eval_fp': 78, 'eval_fn': 40, 'eval_tp': 146, 'epoch': 2.3706896551724137, 'step': 2750}\n",
      "{'loss': 0.46541015625, 'learning_rate': 3.2912561576354686e-05, 'epoch': 2.3922413793103448, 'step': 2775}\n",
      "{'loss': 0.5839404296875, 'learning_rate': 3.275862068965517e-05, 'epoch': 2.413793103448276, 'step': 2800}\n",
      "{'loss': 0.5476025390625, 'learning_rate': 3.260467980295567e-05, 'epoch': 2.435344827586207, 'step': 2825}\n",
      "{'loss': 0.4786376953125, 'learning_rate': 3.2450738916256154e-05, 'epoch': 2.456896551724138, 'step': 2850}\n",
      "{'loss': 0.4753369140625, 'learning_rate': 3.229679802955665e-05, 'epoch': 2.478448275862069, 'step': 2875}\n",
      "{'loss': 0.495283203125, 'learning_rate': 3.2142857142857144e-05, 'epoch': 2.5, 'step': 2900}\n",
      "{'loss': 0.500859375, 'learning_rate': 3.1988916256157636e-05, 'epoch': 2.521551724137931, 'step': 2925}\n",
      "{'loss': 0.47255859375, 'learning_rate': 3.1834975369458134e-05, 'epoch': 2.543103448275862, 'step': 2950}\n",
      "{'loss': 0.423515625, 'learning_rate': 3.168103448275862e-05, 'epoch': 2.564655172413793, 'step': 2975}\n",
      "{'loss': 0.3782958984375, 'learning_rate': 3.152709359605912e-05, 'epoch': 2.586206896551724, 'step': 3000}\n"
     ]
    },
    {
     "data": {
      "application/vnd.jupyter.widget-view+json": {
       "model_id": "2c24212b4a814fc3a30aaa59e4d542c7",
       "version_major": 2,
       "version_minor": 0
      },
      "text/plain": [
       "Evaluation:   0%|          | 0/72 [00:00<?, ?it/s]"
      ]
     },
     "metadata": {},
     "output_type": "display_data"
    },
    {
     "name": "stdout",
     "output_type": "stream",
     "text": [
      "{'eval_loss': 0.4517242595449918, 'eval_roc_auc': 0.8659360352908739, 'eval_threshold': 0.44114598631858826, 'eval_pr_auc': 0.7035882310318083, 'eval_recall': 0.8494623655913979, 'eval_precision': 0.6556016597510373, 'eval_f1': 0.7400468384074941, 'eval_tn': 323, 'eval_fp': 67, 'eval_fn': 40, 'eval_tp': 146, 'epoch': 2.586206896551724, 'step': 3000}\n",
      "{'loss': 0.4416455078125, 'learning_rate': 3.137315270935961e-05, 'epoch': 2.6077586206896552, 'step': 3025}\n",
      "{'loss': 0.4362109375, 'learning_rate': 3.12192118226601e-05, 'epoch': 2.6293103448275863, 'step': 3050}\n",
      "{'loss': 0.4464697265625, 'learning_rate': 3.106527093596059e-05, 'epoch': 2.6508620689655173, 'step': 3075}\n",
      "{'loss': 0.5187158203125, 'learning_rate': 3.0911330049261084e-05, 'epoch': 2.6724137931034484, 'step': 3100}\n",
      "{'loss': 0.5334619140625, 'learning_rate': 3.0757389162561575e-05, 'epoch': 2.6939655172413794, 'step': 3125}\n",
      "{'loss': 0.4197998046875, 'learning_rate': 3.060344827586207e-05, 'epoch': 2.7155172413793105, 'step': 3150}\n",
      "{'loss': 0.48556640625, 'learning_rate': 3.0449507389162562e-05, 'epoch': 2.737068965517241, 'step': 3175}\n",
      "{'loss': 0.4005419921875, 'learning_rate': 3.0295566502463057e-05, 'epoch': 2.7586206896551726, 'step': 3200}\n",
      "{'loss': 0.6297802734375, 'learning_rate': 3.014162561576355e-05, 'epoch': 2.780172413793103, 'step': 3225}\n",
      "{'loss': 0.5674169921875, 'learning_rate': 2.9987684729064043e-05, 'epoch': 2.8017241379310347, 'step': 3250}\n"
     ]
    },
    {
     "data": {
      "application/vnd.jupyter.widget-view+json": {
       "model_id": "30a9b7f9734f44579c5131220f4c6b55",
       "version_major": 2,
       "version_minor": 0
      },
      "text/plain": [
       "Evaluation:   0%|          | 0/72 [00:00<?, ?it/s]"
      ]
     },
     "metadata": {},
     "output_type": "display_data"
    },
    {
     "name": "stdout",
     "output_type": "stream",
     "text": [
      "{'eval_loss': 0.42338745466743904, 'eval_roc_auc': 0.871119382409705, 'eval_threshold': 0.49385929107666016, 'eval_pr_auc': 0.7083166971723365, 'eval_recall': 0.8548387096774194, 'eval_precision': 0.6411290322580645, 'eval_f1': 0.7327188940092165, 'eval_tn': 303, 'eval_fp': 87, 'eval_fn': 30, 'eval_tp': 156, 'epoch': 2.8017241379310347, 'step': 3250}\n",
      "{'loss': 0.405322265625, 'learning_rate': 2.983374384236453e-05, 'epoch': 2.8232758620689653, 'step': 3275}\n",
      "{'loss': 0.5442236328125, 'learning_rate': 2.9679802955665027e-05, 'epoch': 2.844827586206897, 'step': 3300}\n",
      "{'loss': 0.4300927734375, 'learning_rate': 2.952586206896552e-05, 'epoch': 2.8663793103448274, 'step': 3325}\n",
      "{'loss': 0.506669921875, 'learning_rate': 2.937192118226601e-05, 'epoch': 2.887931034482759, 'step': 3350}\n",
      "{'loss': 0.5143017578125, 'learning_rate': 2.9217980295566505e-05, 'epoch': 2.9094827586206895, 'step': 3375}\n",
      "{'loss': 0.425888671875, 'learning_rate': 2.9064039408866993e-05, 'epoch': 2.9310344827586206, 'step': 3400}\n",
      "{'loss': 0.393095703125, 'learning_rate': 2.8910098522167488e-05, 'epoch': 2.9525862068965516, 'step': 3425}\n",
      "{'loss': 0.484736328125, 'learning_rate': 2.8756157635467983e-05, 'epoch': 2.9741379310344827, 'step': 3450}\n",
      "{'loss': 0.3861376953125, 'learning_rate': 2.8602216748768475e-05, 'epoch': 2.9956896551724137, 'step': 3475}\n"
     ]
    },
    {
     "data": {
      "application/vnd.jupyter.widget-view+json": {
       "model_id": "c6d4881083dc44ed86ce0e8ee02e5091",
       "version_major": 2,
       "version_minor": 0
      },
      "text/plain": [
       "Iteration:   0%|          | 0/1160 [00:00<?, ?it/s]"
      ]
     },
     "metadata": {},
     "output_type": "display_data"
    },
    {
     "name": "stdout",
     "output_type": "stream",
     "text": [
      "{'loss': 0.4899462890625, 'learning_rate': 2.844827586206897e-05, 'epoch': 3.0172413793103448, 'step': 3500}\n"
     ]
    },
    {
     "data": {
      "application/vnd.jupyter.widget-view+json": {
       "model_id": "02894ad81e324193bd6541ae9da7e3fd",
       "version_major": 2,
       "version_minor": 0
      },
      "text/plain": [
       "Evaluation:   0%|          | 0/72 [00:00<?, ?it/s]"
      ]
     },
     "metadata": {},
     "output_type": "display_data"
    },
    {
     "name": "stdout",
     "output_type": "stream",
     "text": [
      "{'eval_loss': 0.5649446768220514, 'eval_roc_auc': 0.8665150261924455, 'eval_threshold': 0.03289210423827171, 'eval_pr_auc': 0.7207479559072935, 'eval_recall': 0.7849462365591398, 'eval_precision': 0.6790697674418604, 'eval_f1': 0.7281795511221945, 'eval_tn': 335, 'eval_fp': 55, 'eval_fn': 54, 'eval_tp': 132, 'epoch': 3.0172413793103448, 'step': 3500}\n",
      "{'loss': 0.5022705078125, 'learning_rate': 2.8294334975369458e-05, 'epoch': 3.038793103448276, 'step': 3525}\n",
      "{'loss': 0.4496142578125, 'learning_rate': 2.8140394088669953e-05, 'epoch': 3.060344827586207, 'step': 3550}\n",
      "{'loss': 0.5105322265625, 'learning_rate': 2.7986453201970448e-05, 'epoch': 3.081896551724138, 'step': 3575}\n",
      "{'loss': 0.54244140625, 'learning_rate': 2.7832512315270936e-05, 'epoch': 3.103448275862069, 'step': 3600}\n",
      "{'loss': 0.431201171875, 'learning_rate': 2.767857142857143e-05, 'epoch': 3.125, 'step': 3625}\n",
      "{'loss': 0.4260009765625, 'learning_rate': 2.752463054187192e-05, 'epoch': 3.146551724137931, 'step': 3650}\n",
      "{'loss': 0.4134326171875, 'learning_rate': 2.7370689655172414e-05, 'epoch': 3.168103448275862, 'step': 3675}\n",
      "{'loss': 0.5356787109375, 'learning_rate': 2.7216748768472906e-05, 'epoch': 3.189655172413793, 'step': 3700}\n",
      "{'loss': 0.537236328125, 'learning_rate': 2.70628078817734e-05, 'epoch': 3.211206896551724, 'step': 3725}\n",
      "{'loss': 0.3431103515625, 'learning_rate': 2.6908866995073896e-05, 'epoch': 3.2327586206896552, 'step': 3750}\n"
     ]
    },
    {
     "data": {
      "application/vnd.jupyter.widget-view+json": {
       "model_id": "9ea93cf1b5a3437e82869393dd5eed19",
       "version_major": 2,
       "version_minor": 0
      },
      "text/plain": [
       "Evaluation:   0%|          | 0/72 [00:00<?, ?it/s]"
      ]
     },
     "metadata": {},
     "output_type": "display_data"
    },
    {
     "name": "stdout",
     "output_type": "stream",
     "text": [
      "{'eval_loss': 0.48641926733156043, 'eval_roc_auc': 0.8710780259167356, 'eval_threshold': 0.037127867341041565, 'eval_pr_auc': 0.7089396998945479, 'eval_recall': 0.8655913978494624, 'eval_precision': 0.6363636363636364, 'eval_f1': 0.7334851936218678, 'eval_tn': 308, 'eval_fp': 82, 'eval_fn': 34, 'eval_tp': 152, 'epoch': 3.2327586206896552, 'step': 3750}\n",
      "{'loss': 0.3850390625, 'learning_rate': 2.6754926108374384e-05, 'epoch': 3.2543103448275863, 'step': 3775}\n",
      "{'loss': 0.5754736328125, 'learning_rate': 2.660098522167488e-05, 'epoch': 3.2758620689655173, 'step': 3800}\n",
      "{'loss': 0.529716796875, 'learning_rate': 2.6447044334975367e-05, 'epoch': 3.2974137931034484, 'step': 3825}\n",
      "{'loss': 0.53396484375, 'learning_rate': 2.6293103448275862e-05, 'epoch': 3.3189655172413794, 'step': 3850}\n",
      "{'loss': 0.882734375, 'learning_rate': 2.6139162561576357e-05, 'epoch': 3.3405172413793105, 'step': 3875}\n",
      "{'loss': 0.597919921875, 'learning_rate': 2.598522167487685e-05, 'epoch': 3.3620689655172415, 'step': 3900}\n",
      "{'loss': 0.4925, 'learning_rate': 2.5831280788177344e-05, 'epoch': 3.3836206896551726, 'step': 3925}\n",
      "{'loss': 0.487314453125, 'learning_rate': 2.5677339901477832e-05, 'epoch': 3.405172413793103, 'step': 3950}\n",
      "{'loss': 0.623828125, 'learning_rate': 2.5523399014778327e-05, 'epoch': 3.4267241379310347, 'step': 3975}\n",
      "{'loss': 0.48068359375, 'learning_rate': 2.5369458128078822e-05, 'epoch': 3.4482758620689653, 'step': 4000}\n"
     ]
    },
    {
     "data": {
      "application/vnd.jupyter.widget-view+json": {
       "model_id": "486ed521d89c4f1a8da773fcae275997",
       "version_major": 2,
       "version_minor": 0
      },
      "text/plain": [
       "Evaluation:   0%|          | 0/72 [00:00<?, ?it/s]"
      ]
     },
     "metadata": {},
     "output_type": "display_data"
    },
    {
     "name": "stdout",
     "output_type": "stream",
     "text": [
      "{'eval_loss': 0.6189430632059358, 'eval_roc_auc': 0.8461814171491591, 'eval_threshold': 0.04708851873874664, 'eval_pr_auc': 0.7167240680016373, 'eval_recall': 0.7365591397849462, 'eval_precision': 0.6919191919191919, 'eval_f1': 0.7135416666666667, 'eval_tn': 352, 'eval_fp': 38, 'eval_fn': 79, 'eval_tp': 107, 'epoch': 3.4482758620689653, 'step': 4000}\n",
      "{'loss': 0.646884765625, 'learning_rate': 2.521551724137931e-05, 'epoch': 3.469827586206897, 'step': 4025}\n",
      "{'loss': 0.56064453125, 'learning_rate': 2.5061576354679805e-05, 'epoch': 3.4913793103448274, 'step': 4050}\n",
      "{'loss': 0.292568359375, 'learning_rate': 2.4907635467980297e-05, 'epoch': 3.512931034482759, 'step': 4075}\n",
      "{'loss': 0.558564453125, 'learning_rate': 2.475369458128079e-05, 'epoch': 3.5344827586206895, 'step': 4100}\n",
      "{'loss': 0.474375, 'learning_rate': 2.4599753694581283e-05, 'epoch': 3.5560344827586206, 'step': 4125}\n",
      "{'loss': 0.710673828125, 'learning_rate': 2.4445812807881775e-05, 'epoch': 3.5775862068965516, 'step': 4150}\n",
      "{'loss': 0.726552734375, 'learning_rate': 2.4291871921182267e-05, 'epoch': 3.5991379310344827, 'step': 4175}\n",
      "{'loss': 0.623095703125, 'learning_rate': 2.413793103448276e-05, 'epoch': 3.6206896551724137, 'step': 4200}\n",
      "{'loss': 0.6290234375, 'learning_rate': 2.3983990147783253e-05, 'epoch': 3.6422413793103448, 'step': 4225}\n",
      "{'loss': 0.634326171875, 'learning_rate': 2.3830049261083745e-05, 'epoch': 3.663793103448276, 'step': 4250}\n"
     ]
    },
    {
     "data": {
      "application/vnd.jupyter.widget-view+json": {
       "model_id": "e750d141c7a645209293e3e882c8ed38",
       "version_major": 2,
       "version_minor": 0
      },
      "text/plain": [
       "Evaluation:   0%|          | 0/72 [00:00<?, ?it/s]"
      ]
     },
     "metadata": {},
     "output_type": "display_data"
    },
    {
     "name": "stdout",
     "output_type": "stream",
     "text": [
      "{'eval_loss': 0.5208930997177958, 'eval_roc_auc': 0.850799558864075, 'eval_threshold': 0.11902419477701187, 'eval_pr_auc': 0.7214700884890975, 'eval_recall': 0.7311827956989247, 'eval_precision': 0.6974358974358974, 'eval_f1': 0.7139107611548556, 'eval_tn': 352, 'eval_fp': 38, 'eval_fn': 75, 'eval_tp': 111, 'epoch': 3.663793103448276, 'step': 4250}\n",
      "{'loss': 0.53111328125, 'learning_rate': 2.3676108374384236e-05, 'epoch': 3.685344827586207, 'step': 4275}\n",
      "{'loss': 0.624677734375, 'learning_rate': 2.3522167487684728e-05, 'epoch': 3.706896551724138, 'step': 4300}\n",
      "{'loss': 0.5360546875, 'learning_rate': 2.3368226600985223e-05, 'epoch': 3.728448275862069, 'step': 4325}\n",
      "{'loss': 0.35998046875, 'learning_rate': 2.3214285714285715e-05, 'epoch': 3.75, 'step': 4350}\n",
      "{'loss': 0.714765625, 'learning_rate': 2.306034482758621e-05, 'epoch': 3.771551724137931, 'step': 4375}\n",
      "{'loss': 0.51626953125, 'learning_rate': 2.29064039408867e-05, 'epoch': 3.793103448275862, 'step': 4400}\n",
      "{'loss': 0.51109375, 'learning_rate': 2.2752463054187193e-05, 'epoch': 3.814655172413793, 'step': 4425}\n",
      "{'loss': 0.47802734375, 'learning_rate': 2.2598522167487684e-05, 'epoch': 3.836206896551724, 'step': 4450}\n",
      "{'loss': 0.34548828125, 'learning_rate': 2.244458128078818e-05, 'epoch': 3.8577586206896552, 'step': 4475}\n",
      "{'loss': 0.442890625, 'learning_rate': 2.229064039408867e-05, 'epoch': 3.8793103448275863, 'step': 4500}\n"
     ]
    },
    {
     "data": {
      "application/vnd.jupyter.widget-view+json": {
       "model_id": "ac880cdc05d843f592775c6ef1d28e32",
       "version_major": 2,
       "version_minor": 0
      },
      "text/plain": [
       "Evaluation:   0%|          | 0/72 [00:00<?, ?it/s]"
      ]
     },
     "metadata": {},
     "output_type": "display_data"
    },
    {
     "name": "stdout",
     "output_type": "stream",
     "text": [
      "{'eval_loss': 0.4975456171151664, 'eval_roc_auc': 0.8523435346015992, 'eval_threshold': 0.5979310274124146, 'eval_pr_auc': 0.6779104040282973, 'eval_recall': 0.8440860215053764, 'eval_precision': 0.6108949416342413, 'eval_f1': 0.7088036117381489, 'eval_tn': 265, 'eval_fp': 125, 'eval_fn': 21, 'eval_tp': 165, 'epoch': 3.8793103448275863, 'step': 4500}\n",
      "{'loss': 0.47353515625, 'learning_rate': 2.2136699507389163e-05, 'epoch': 3.9008620689655173, 'step': 4525}\n",
      "{'loss': 0.525361328125, 'learning_rate': 2.1982758620689654e-05, 'epoch': 3.9224137931034484, 'step': 4550}\n",
      "{'loss': 0.528974609375, 'learning_rate': 2.182881773399015e-05, 'epoch': 3.9439655172413794, 'step': 4575}\n",
      "{'loss': 0.52814453125, 'learning_rate': 2.1674876847290644e-05, 'epoch': 3.9655172413793105, 'step': 4600}\n",
      "{'loss': 0.65814453125, 'learning_rate': 2.1520935960591136e-05, 'epoch': 3.987068965517241, 'step': 4625}\n"
     ]
    },
    {
     "data": {
      "application/vnd.jupyter.widget-view+json": {
       "model_id": "6b9010e12a594a7fab0f25bc58c93f4a",
       "version_major": 2,
       "version_minor": 0
      },
      "text/plain": [
       "Iteration:   0%|          | 0/1160 [00:00<?, ?it/s]"
      ]
     },
     "metadata": {},
     "output_type": "display_data"
    },
    {
     "name": "stdout",
     "output_type": "stream",
     "text": [
      "{'loss': 0.495263671875, 'learning_rate': 2.1366995073891627e-05, 'epoch': 4.008620689655173, 'step': 4650}\n",
      "{'loss': 0.44763671875, 'learning_rate': 2.121305418719212e-05, 'epoch': 4.030172413793103, 'step': 4675}\n",
      "{'loss': 0.43103515625, 'learning_rate': 2.105911330049261e-05, 'epoch': 4.051724137931035, 'step': 4700}\n",
      "{'loss': 0.463740234375, 'learning_rate': 2.0905172413793102e-05, 'epoch': 4.073275862068965, 'step': 4725}\n",
      "{'loss': 0.61275390625, 'learning_rate': 2.0751231527093597e-05, 'epoch': 4.094827586206897, 'step': 4750}\n"
     ]
    },
    {
     "data": {
      "application/vnd.jupyter.widget-view+json": {
       "model_id": "62d4cf08b1384f889b09e02db08a7589",
       "version_major": 2,
       "version_minor": 0
      },
      "text/plain": [
       "Evaluation:   0%|          | 0/72 [00:00<?, ?it/s]"
      ]
     },
     "metadata": {},
     "output_type": "display_data"
    },
    {
     "name": "stdout",
     "output_type": "stream",
     "text": [
      "{'eval_loss': 0.4556386619288888, 'eval_roc_auc': 0.8748276812792942, 'eval_threshold': 0.5757675170898438, 'eval_pr_auc': 0.7409062544913981, 'eval_recall': 0.7741935483870968, 'eval_precision': 0.6923076923076923, 'eval_f1': 0.7309644670050761, 'eval_tn': 305, 'eval_fp': 85, 'eval_fn': 38, 'eval_tp': 148, 'epoch': 4.094827586206897, 'step': 4750}\n",
      "{'loss': 0.337265625, 'learning_rate': 2.059729064039409e-05, 'epoch': 4.116379310344827, 'step': 4775}\n",
      "{'loss': 0.53203125, 'learning_rate': 2.0443349753694584e-05, 'epoch': 4.137931034482759, 'step': 4800}\n",
      "{'loss': 0.36568359375, 'learning_rate': 2.0289408866995076e-05, 'epoch': 4.1594827586206895, 'step': 4825}\n",
      "{'loss': 0.569736328125, 'learning_rate': 2.0135467980295567e-05, 'epoch': 4.181034482758621, 'step': 4850}\n",
      "{'loss': 0.333271484375, 'learning_rate': 1.9981527093596062e-05, 'epoch': 4.202586206896552, 'step': 4875}\n",
      "{'loss': 0.469482421875, 'learning_rate': 1.9827586206896554e-05, 'epoch': 4.224137931034483, 'step': 4900}\n",
      "{'loss': 0.391142578125, 'learning_rate': 1.9673645320197045e-05, 'epoch': 4.245689655172414, 'step': 4925}\n",
      "{'loss': 0.467958984375, 'learning_rate': 1.9519704433497537e-05, 'epoch': 4.267241379310345, 'step': 4950}\n",
      "{'loss': 0.5127734375, 'learning_rate': 1.936576354679803e-05, 'epoch': 4.288793103448276, 'step': 4975}\n",
      "{'loss': 0.4869921875, 'learning_rate': 1.921182266009852e-05, 'epoch': 4.310344827586207, 'step': 5000}\n"
     ]
    },
    {
     "data": {
      "application/vnd.jupyter.widget-view+json": {
       "model_id": "d6cc71af125340a485a75e3460573890",
       "version_major": 2,
       "version_minor": 0
      },
      "text/plain": [
       "Evaluation:   0%|          | 0/72 [00:00<?, ?it/s]"
      ]
     },
     "metadata": {},
     "output_type": "display_data"
    },
    {
     "name": "stdout",
     "output_type": "stream",
     "text": [
      "{'eval_loss': 0.5169872652946247, 'eval_roc_auc': 0.8646126275158534, 'eval_threshold': 0.028015566989779472, 'eval_pr_auc': 0.704651533690468, 'eval_recall': 0.8440860215053764, 'eval_precision': 0.6624472573839663, 'eval_f1': 0.7423167848699764, 'eval_tn': 331, 'eval_fp': 59, 'eval_fn': 47, 'eval_tp': 139, 'epoch': 4.310344827586207, 'step': 5000}\n",
      "{'loss': 0.639482421875, 'learning_rate': 1.9057881773399015e-05, 'epoch': 4.331896551724138, 'step': 5025}\n",
      "{'loss': 0.634462890625, 'learning_rate': 1.890394088669951e-05, 'epoch': 4.353448275862069, 'step': 5050}\n",
      "{'loss': 0.490771484375, 'learning_rate': 1.8750000000000002e-05, 'epoch': 4.375, 'step': 5075}\n",
      "{'loss': 0.51037109375, 'learning_rate': 1.8596059113300493e-05, 'epoch': 4.396551724137931, 'step': 5100}\n",
      "{'loss': 0.563798828125, 'learning_rate': 1.8442118226600985e-05, 'epoch': 4.418103448275862, 'step': 5125}\n",
      "{'loss': 0.506962890625, 'learning_rate': 1.828817733990148e-05, 'epoch': 4.439655172413793, 'step': 5150}\n",
      "{'loss': 0.506689453125, 'learning_rate': 1.813423645320197e-05, 'epoch': 4.461206896551724, 'step': 5175}\n",
      "{'loss': 0.5646484375, 'learning_rate': 1.7980295566502463e-05, 'epoch': 4.482758620689655, 'step': 5200}\n",
      "{'loss': 0.3810546875, 'learning_rate': 1.7826354679802955e-05, 'epoch': 4.504310344827586, 'step': 5225}\n",
      "{'loss': 0.5366796875, 'learning_rate': 1.767241379310345e-05, 'epoch': 4.525862068965517, 'step': 5250}\n"
     ]
    },
    {
     "data": {
      "application/vnd.jupyter.widget-view+json": {
       "model_id": "a6edee3d71054643ab279dbd33c085dd",
       "version_major": 2,
       "version_minor": 0
      },
      "text/plain": [
       "Evaluation:   0%|          | 0/72 [00:00<?, ?it/s]"
      ]
     },
     "metadata": {},
     "output_type": "display_data"
    },
    {
     "name": "stdout",
     "output_type": "stream",
     "text": [
      "{'eval_loss': 0.5685216512324082, 'eval_roc_auc': 0.8497105045492142, 'eval_threshold': 0.06672349572181702, 'eval_pr_auc': 0.7382196415970713, 'eval_recall': 0.7365591397849462, 'eval_precision': 0.7098445595854922, 'eval_f1': 0.7229551451187335, 'eval_tn': 377, 'eval_fp': 13, 'eval_fn': 99, 'eval_tp': 87, 'epoch': 4.525862068965517, 'step': 5250}\n",
      "{'loss': 0.5515234375, 'learning_rate': 1.751847290640394e-05, 'epoch': 4.547413793103448, 'step': 5275}\n",
      "{'loss': 0.584912109375, 'learning_rate': 1.7364532019704436e-05, 'epoch': 4.568965517241379, 'step': 5300}\n",
      "{'loss': 0.515625, 'learning_rate': 1.7210591133004928e-05, 'epoch': 4.5905172413793105, 'step': 5325}\n",
      "{'loss': 0.365, 'learning_rate': 1.705665024630542e-05, 'epoch': 4.612068965517241, 'step': 5350}\n",
      "{'loss': 0.609609375, 'learning_rate': 1.690270935960591e-05, 'epoch': 4.633620689655173, 'step': 5375}\n",
      "{'loss': 0.637578125, 'learning_rate': 1.6748768472906403e-05, 'epoch': 4.655172413793103, 'step': 5400}\n",
      "{'loss': 0.530361328125, 'learning_rate': 1.6594827586206898e-05, 'epoch': 4.676724137931035, 'step': 5425}\n",
      "{'loss': 0.280009765625, 'learning_rate': 1.644088669950739e-05, 'epoch': 4.698275862068965, 'step': 5450}\n",
      "{'loss': 0.32619140625, 'learning_rate': 1.6286945812807884e-05, 'epoch': 4.719827586206897, 'step': 5475}\n",
      "{'loss': 0.512783203125, 'learning_rate': 1.6133004926108376e-05, 'epoch': 4.741379310344827, 'step': 5500}\n"
     ]
    },
    {
     "data": {
      "application/vnd.jupyter.widget-view+json": {
       "model_id": "8f2c72abf38a44899a7244efc3711e1c",
       "version_major": 2,
       "version_minor": 0
      },
      "text/plain": [
       "Evaluation:   0%|          | 0/72 [00:00<?, ?it/s]"
      ]
     },
     "metadata": {},
     "output_type": "display_data"
    },
    {
     "name": "stdout",
     "output_type": "stream",
     "text": [
      "{'eval_loss': 0.5758973348937515, 'eval_roc_auc': 0.8772539288668322, 'eval_threshold': 0.02787007763981819, 'eval_pr_auc': 0.7465627151681155, 'eval_recall': 0.8064516129032258, 'eval_precision': 0.6976744186046512, 'eval_f1': 0.7481296758104737, 'eval_tn': 363, 'eval_fp': 27, 'eval_fn': 68, 'eval_tp': 118, 'epoch': 4.741379310344827, 'step': 5500}\n",
      "{'loss': 0.892880859375, 'learning_rate': 1.5979064039408868e-05, 'epoch': 4.762931034482759, 'step': 5525}\n",
      "{'loss': 0.459482421875, 'learning_rate': 1.582512315270936e-05, 'epoch': 4.7844827586206895, 'step': 5550}\n",
      "{'loss': 0.5320703125, 'learning_rate': 1.5671182266009854e-05, 'epoch': 4.806034482758621, 'step': 5575}\n",
      "{'loss': 0.43990234375, 'learning_rate': 1.5517241379310346e-05, 'epoch': 4.827586206896552, 'step': 5600}\n",
      "{'loss': 0.344609375, 'learning_rate': 1.5363300492610837e-05, 'epoch': 4.849137931034483, 'step': 5625}\n",
      "{'loss': 0.653134765625, 'learning_rate': 1.520935960591133e-05, 'epoch': 4.870689655172414, 'step': 5650}\n",
      "{'loss': 0.600791015625, 'learning_rate': 1.5055418719211822e-05, 'epoch': 4.892241379310345, 'step': 5675}\n",
      "{'loss': 0.663291015625, 'learning_rate': 1.4901477832512317e-05, 'epoch': 4.913793103448276, 'step': 5700}\n",
      "{'loss': 0.441337890625, 'learning_rate': 1.4747536945812809e-05, 'epoch': 4.935344827586206, 'step': 5725}\n",
      "{'loss': 0.5866796875, 'learning_rate': 1.4593596059113302e-05, 'epoch': 4.956896551724138, 'step': 5750}\n"
     ]
    },
    {
     "data": {
      "application/vnd.jupyter.widget-view+json": {
       "model_id": "3585a9ad9c8b4983bd0946bc0a85cd8a",
       "version_major": 2,
       "version_minor": 0
      },
      "text/plain": [
       "Evaluation:   0%|          | 0/72 [00:00<?, ?it/s]"
      ]
     },
     "metadata": {},
     "output_type": "display_data"
    },
    {
     "name": "stdout",
     "output_type": "stream",
     "text": [
      "{'eval_loss': 0.6749545709721537, 'eval_roc_auc': 0.856368899917287, 'eval_threshold': 0.032892435789108276, 'eval_pr_auc': 0.7490765312433156, 'eval_recall': 0.7043010752688172, 'eval_precision': 0.7485714285714286, 'eval_f1': 0.7257617728531857, 'eval_tn': 368, 'eval_fp': 22, 'eval_fn': 82, 'eval_tp': 104, 'epoch': 4.956896551724138, 'step': 5750}\n",
      "{'loss': 0.625234375, 'learning_rate': 1.4439655172413794e-05, 'epoch': 4.978448275862069, 'step': 5775}\n",
      "{'loss': 0.799111328125, 'learning_rate': 1.4285714285714285e-05, 'epoch': 5.0, 'step': 5800}\n"
     ]
    },
    {
     "data": {
      "application/vnd.jupyter.widget-view+json": {
       "model_id": "5b0cdcbbf9d34e2e8e0ac5dbc6218706",
       "version_major": 2,
       "version_minor": 0
      },
      "text/plain": [
       "Iteration:   0%|          | 0/1160 [00:00<?, ?it/s]"
      ]
     },
     "metadata": {},
     "output_type": "display_data"
    },
    {
     "name": "stdout",
     "output_type": "stream",
     "text": [
      "{'loss': 0.725986328125, 'learning_rate': 1.4131773399014777e-05, 'epoch': 5.021551724137931, 'step': 5825}\n",
      "{'loss': 0.55177734375, 'learning_rate': 1.3977832512315272e-05, 'epoch': 5.043103448275862, 'step': 5850}\n",
      "{'loss': 0.492275390625, 'learning_rate': 1.3823891625615765e-05, 'epoch': 5.064655172413793, 'step': 5875}\n",
      "{'loss': 0.45455078125, 'learning_rate': 1.3669950738916257e-05, 'epoch': 5.086206896551724, 'step': 5900}\n",
      "{'loss': 0.34447265625, 'learning_rate': 1.3516009852216749e-05, 'epoch': 5.107758620689655, 'step': 5925}\n",
      "{'loss': 0.47474609375, 'learning_rate': 1.336206896551724e-05, 'epoch': 5.129310344827586, 'step': 5950}\n",
      "{'loss': 0.497333984375, 'learning_rate': 1.3208128078817735e-05, 'epoch': 5.150862068965517, 'step': 5975}\n",
      "{'loss': 0.454658203125, 'learning_rate': 1.3054187192118228e-05, 'epoch': 5.172413793103448, 'step': 6000}\n"
     ]
    },
    {
     "data": {
      "application/vnd.jupyter.widget-view+json": {
       "model_id": "ccf6345905524540b156459b30e2f280",
       "version_major": 2,
       "version_minor": 0
      },
      "text/plain": [
       "Evaluation:   0%|          | 0/72 [00:00<?, ?it/s]"
      ]
     },
     "metadata": {},
     "output_type": "display_data"
    },
    {
     "name": "stdout",
     "output_type": "stream",
     "text": [
      "{'eval_loss': 0.5532323764378412, 'eval_roc_auc': 0.8865315687896334, 'eval_threshold': 0.06656220555305481, 'eval_pr_auc': 0.753677047537662, 'eval_recall': 0.7903225806451613, 'eval_precision': 0.7424242424242424, 'eval_f1': 0.7656250000000001, 'eval_tn': 347, 'eval_fp': 43, 'eval_fn': 46, 'eval_tp': 140, 'epoch': 5.172413793103448, 'step': 6000}\n",
      "{'loss': 0.567880859375, 'learning_rate': 1.290024630541872e-05, 'epoch': 5.193965517241379, 'step': 6025}\n",
      "{'loss': 0.332763671875, 'learning_rate': 1.2746305418719212e-05, 'epoch': 5.2155172413793105, 'step': 6050}\n",
      "{'loss': 0.45935546875, 'learning_rate': 1.2592364532019705e-05, 'epoch': 5.237068965517241, 'step': 6075}\n",
      "{'loss': 0.58078125, 'learning_rate': 1.2438423645320198e-05, 'epoch': 5.258620689655173, 'step': 6100}\n",
      "{'loss': 0.7459375, 'learning_rate': 1.228448275862069e-05, 'epoch': 5.280172413793103, 'step': 6125}\n",
      "{'loss': 0.346416015625, 'learning_rate': 1.2130541871921183e-05, 'epoch': 5.301724137931035, 'step': 6150}\n",
      "{'loss': 0.55359375, 'learning_rate': 1.1976600985221675e-05, 'epoch': 5.323275862068965, 'step': 6175}\n",
      "{'loss': 0.419873046875, 'learning_rate': 1.1822660098522168e-05, 'epoch': 5.344827586206897, 'step': 6200}\n",
      "{'loss': 0.573125, 'learning_rate': 1.1668719211822661e-05, 'epoch': 5.366379310344827, 'step': 6225}\n",
      "{'loss': 0.487880859375, 'learning_rate': 1.1514778325123153e-05, 'epoch': 5.387931034482759, 'step': 6250}\n"
     ]
    },
    {
     "data": {
      "application/vnd.jupyter.widget-view+json": {
       "model_id": "529bfe1a3d924cdeb8e044a1b104a7b4",
       "version_major": 2,
       "version_minor": 0
      },
      "text/plain": [
       "Evaluation:   0%|          | 0/72 [00:00<?, ?it/s]"
      ]
     },
     "metadata": {},
     "output_type": "display_data"
    },
    {
     "name": "stdout",
     "output_type": "stream",
     "text": [
      "{'eval_loss': 0.55595020933025, 'eval_roc_auc': 0.8748276812792941, 'eval_threshold': 0.20050129294395447, 'eval_pr_auc': 0.7497009374517275, 'eval_recall': 0.7634408602150538, 'eval_precision': 0.7675675675675676, 'eval_f1': 0.7654986522911051, 'eval_tn': 347, 'eval_fp': 43, 'eval_fn': 45, 'eval_tp': 141, 'epoch': 5.387931034482759, 'step': 6250}\n",
      "{'loss': 0.671044921875, 'learning_rate': 1.1360837438423645e-05, 'epoch': 5.4094827586206895, 'step': 6275}\n",
      "{'loss': 0.3534375, 'learning_rate': 1.1206896551724138e-05, 'epoch': 5.431034482758621, 'step': 6300}\n",
      "{'loss': 0.47353515625, 'learning_rate': 1.1052955665024631e-05, 'epoch': 5.452586206896552, 'step': 6325}\n",
      "{'loss': 0.620458984375, 'learning_rate': 1.0899014778325124e-05, 'epoch': 5.474137931034483, 'step': 6350}\n",
      "{'loss': 0.71244140625, 'learning_rate': 1.0745073891625616e-05, 'epoch': 5.495689655172414, 'step': 6375}\n",
      "{'loss': 0.378056640625, 'learning_rate': 1.0591133004926108e-05, 'epoch': 5.517241379310345, 'step': 6400}\n",
      "{'loss': 0.928232421875, 'learning_rate': 1.0437192118226603e-05, 'epoch': 5.538793103448276, 'step': 6425}\n",
      "{'loss': 0.52658203125, 'learning_rate': 1.0283251231527094e-05, 'epoch': 5.560344827586206, 'step': 6450}\n",
      "{'loss': 0.718212890625, 'learning_rate': 1.0129310344827586e-05, 'epoch': 5.581896551724138, 'step': 6475}\n",
      "{'loss': 0.71623046875, 'learning_rate': 9.97536945812808e-06, 'epoch': 5.603448275862069, 'step': 6500}\n"
     ]
    },
    {
     "data": {
      "application/vnd.jupyter.widget-view+json": {
       "model_id": "ec4f2a1247c94358861d8f1a1a9b57c3",
       "version_major": 2,
       "version_minor": 0
      },
      "text/plain": [
       "Evaluation:   0%|          | 0/72 [00:00<?, ?it/s]"
      ]
     },
     "metadata": {},
     "output_type": "display_data"
    },
    {
     "name": "stdout",
     "output_type": "stream",
     "text": [
      "{'eval_loss': 0.48086353130121195, 'eval_roc_auc': 0.8793631100082713, 'eval_threshold': 0.06676262617111206, 'eval_pr_auc': 0.7789063346314855, 'eval_recall': 0.7365591397849462, 'eval_precision': 0.8058823529411765, 'eval_f1': 0.7696629213483146, 'eval_tn': 365, 'eval_fp': 25, 'eval_fn': 58, 'eval_tp': 128, 'epoch': 5.603448275862069, 'step': 6500}\n",
      "{'loss': 0.445263671875, 'learning_rate': 9.821428571428573e-06, 'epoch': 5.625, 'step': 6525}\n",
      "{'loss': 0.53009765625, 'learning_rate': 9.667487684729066e-06, 'epoch': 5.646551724137931, 'step': 6550}\n",
      "{'loss': 0.302900390625, 'learning_rate': 9.513546798029557e-06, 'epoch': 5.668103448275862, 'step': 6575}\n",
      "{'loss': 0.4135546875, 'learning_rate': 9.359605911330049e-06, 'epoch': 5.689655172413794, 'step': 6600}\n",
      "{'loss': 0.637666015625, 'learning_rate': 9.205665024630542e-06, 'epoch': 5.711206896551724, 'step': 6625}\n",
      "{'loss': 0.49921875, 'learning_rate': 9.051724137931036e-06, 'epoch': 5.732758620689655, 'step': 6650}\n",
      "{'loss': 0.647216796875, 'learning_rate': 8.897783251231527e-06, 'epoch': 5.754310344827586, 'step': 6675}\n",
      "{'loss': 0.300498046875, 'learning_rate': 8.74384236453202e-06, 'epoch': 5.775862068965517, 'step': 6700}\n",
      "{'loss': 0.63666015625, 'learning_rate': 8.589901477832512e-06, 'epoch': 5.797413793103448, 'step': 6725}\n",
      "{'loss': 0.50646484375, 'learning_rate': 8.435960591133005e-06, 'epoch': 5.818965517241379, 'step': 6750}\n"
     ]
    },
    {
     "data": {
      "application/vnd.jupyter.widget-view+json": {
       "model_id": "f619ef2dcb4946938069e1010b451910",
       "version_major": 2,
       "version_minor": 0
      },
      "text/plain": [
       "Evaluation:   0%|          | 0/72 [00:00<?, ?it/s]"
      ]
     },
     "metadata": {},
     "output_type": "display_data"
    },
    {
     "name": "stdout",
     "output_type": "stream",
     "text": [
      "{'eval_loss': 1.379079156451755, 'eval_roc_auc': 0.7807416597739179, 'eval_threshold': 0.9042877554893494, 'eval_pr_auc': 0.71571191769907, 'eval_recall': 0.7150537634408602, 'eval_precision': 0.7823529411764706, 'eval_f1': 0.747191011235955, 'eval_tn': 78, 'eval_fp': 312, 'eval_fn': 34, 'eval_tp': 152, 'epoch': 5.818965517241379, 'step': 6750}\n",
      "{'loss': 0.389287109375, 'learning_rate': 8.282019704433499e-06, 'epoch': 5.8405172413793105, 'step': 6775}\n",
      "{'loss': 0.671455078125, 'learning_rate': 8.12807881773399e-06, 'epoch': 5.862068965517241, 'step': 6800}\n",
      "{'loss': 0.6459375, 'learning_rate': 7.974137931034484e-06, 'epoch': 5.883620689655173, 'step': 6825}\n",
      "{'loss': 0.56134765625, 'learning_rate': 7.820197044334975e-06, 'epoch': 5.905172413793103, 'step': 6850}\n",
      "{'loss': 0.492099609375, 'learning_rate': 7.666256157635469e-06, 'epoch': 5.926724137931035, 'step': 6875}\n",
      "{'loss': 0.569150390625, 'learning_rate': 7.512315270935962e-06, 'epoch': 5.948275862068965, 'step': 6900}\n",
      "{'loss': 0.56271484375, 'learning_rate': 7.3583743842364535e-06, 'epoch': 5.969827586206897, 'step': 6925}\n",
      "{'loss': 0.47005859375, 'learning_rate': 7.204433497536946e-06, 'epoch': 5.991379310344827, 'step': 6950}\n"
     ]
    },
    {
     "data": {
      "application/vnd.jupyter.widget-view+json": {
       "model_id": "4ab7d4d3cde34d199a8cf59361d82662",
       "version_major": 2,
       "version_minor": 0
      },
      "text/plain": [
       "Iteration:   0%|          | 0/1160 [00:00<?, ?it/s]"
      ]
     },
     "metadata": {},
     "output_type": "display_data"
    },
    {
     "name": "stdout",
     "output_type": "stream",
     "text": [
      "{'loss': 0.335634765625, 'learning_rate': 7.050492610837439e-06, 'epoch': 6.012931034482759, 'step': 6975}\n",
      "{'loss': 0.507880859375, 'learning_rate': 6.896551724137932e-06, 'epoch': 6.0344827586206895, 'step': 7000}\n"
     ]
    },
    {
     "data": {
      "application/vnd.jupyter.widget-view+json": {
       "model_id": "d54b9be1f90148598b8a405ee1aa110c",
       "version_major": 2,
       "version_minor": 0
      },
      "text/plain": [
       "Evaluation:   0%|          | 0/72 [00:00<?, ?it/s]"
      ]
     },
     "metadata": {},
     "output_type": "display_data"
    },
    {
     "name": "stdout",
     "output_type": "stream",
     "text": [
      "{'eval_loss': 0.6492021766801676, 'eval_roc_auc': 0.8220567962503447, 'eval_threshold': 0.9369513988494873, 'eval_pr_auc': 0.7159982631344622, 'eval_recall': 0.7526881720430108, 'eval_precision': 0.7329842931937173, 'eval_f1': 0.7427055702917773, 'eval_tn': 311, 'eval_fp': 79, 'eval_fn': 31, 'eval_tp': 155, 'epoch': 6.0344827586206895, 'step': 7000}\n",
      "{'loss': 0.50826171875, 'learning_rate': 6.742610837438423e-06, 'epoch': 6.056034482758621, 'step': 7025}\n",
      "{'loss': 0.29529296875, 'learning_rate': 6.5886699507389166e-06, 'epoch': 6.077586206896552, 'step': 7050}\n",
      "{'loss': 0.39466796875, 'learning_rate': 6.434729064039409e-06, 'epoch': 6.099137931034483, 'step': 7075}\n",
      "{'loss': 0.497900390625, 'learning_rate': 6.280788177339902e-06, 'epoch': 6.120689655172414, 'step': 7100}\n",
      "{'loss': 0.328203125, 'learning_rate': 6.126847290640395e-06, 'epoch': 6.142241379310345, 'step': 7125}\n",
      "{'loss': 0.51177734375, 'learning_rate': 5.972906403940887e-06, 'epoch': 6.163793103448276, 'step': 7150}\n",
      "{'loss': 0.58029296875, 'learning_rate': 5.81896551724138e-06, 'epoch': 6.185344827586207, 'step': 7175}\n",
      "{'loss': 0.64150390625, 'learning_rate': 5.665024630541872e-06, 'epoch': 6.206896551724138, 'step': 7200}\n",
      "{'loss': 0.388466796875, 'learning_rate': 5.511083743842365e-06, 'epoch': 6.228448275862069, 'step': 7225}\n",
      "{'loss': 0.484423828125, 'learning_rate': 5.357142857142857e-06, 'epoch': 6.25, 'step': 7250}\n"
     ]
    },
    {
     "data": {
      "application/vnd.jupyter.widget-view+json": {
       "model_id": "db7b3792cfd845e4b2e6aaf4cc79d048",
       "version_major": 2,
       "version_minor": 0
      },
      "text/plain": [
       "Evaluation:   0%|          | 0/72 [00:00<?, ?it/s]"
      ]
     },
     "metadata": {},
     "output_type": "display_data"
    },
    {
     "name": "stdout",
     "output_type": "stream",
     "text": [
      "{'eval_loss': 0.4470876540678243, 'eval_roc_auc': 0.8831541218637993, 'eval_threshold': 0.06987116485834122, 'eval_pr_auc': 0.6874782232058522, 'eval_recall': 0.8978494623655914, 'eval_precision': 0.6929460580912863, 'eval_f1': 0.7822014051522249, 'eval_tn': 323, 'eval_fp': 67, 'eval_fn': 31, 'eval_tp': 155, 'epoch': 6.25, 'step': 7250}\n",
      "{'loss': 0.5339453125, 'learning_rate': 5.2032019704433495e-06, 'epoch': 6.271551724137931, 'step': 7275}\n",
      "{'loss': 0.45201171875, 'learning_rate': 5.049261083743843e-06, 'epoch': 6.293103448275862, 'step': 7300}\n",
      "{'loss': 0.488017578125, 'learning_rate': 4.895320197044335e-06, 'epoch': 6.314655172413793, 'step': 7325}\n",
      "{'loss': 0.370537109375, 'learning_rate': 4.741379310344828e-06, 'epoch': 6.336206896551724, 'step': 7350}\n",
      "{'loss': 0.31990234375, 'learning_rate': 4.58743842364532e-06, 'epoch': 6.357758620689655, 'step': 7375}\n",
      "{'loss': 0.424130859375, 'learning_rate': 4.4334975369458135e-06, 'epoch': 6.379310344827586, 'step': 7400}\n",
      "{'loss': 0.637509765625, 'learning_rate': 4.279556650246306e-06, 'epoch': 6.400862068965517, 'step': 7425}\n",
      "{'loss': 0.304677734375, 'learning_rate': 4.125615763546798e-06, 'epoch': 6.422413793103448, 'step': 7450}\n",
      "{'loss': 0.58685546875, 'learning_rate': 3.971674876847291e-06, 'epoch': 6.443965517241379, 'step': 7475}\n",
      "{'loss': 0.555830078125, 'learning_rate': 3.817733990147783e-06, 'epoch': 6.4655172413793105, 'step': 7500}\n"
     ]
    },
    {
     "data": {
      "application/vnd.jupyter.widget-view+json": {
       "model_id": "f22847cecc0240eb911155df97b2f892",
       "version_major": 2,
       "version_minor": 0
      },
      "text/plain": [
       "Evaluation:   0%|          | 0/72 [00:00<?, ?it/s]"
      ]
     },
     "metadata": {},
     "output_type": "display_data"
    },
    {
     "name": "stdout",
     "output_type": "stream",
     "text": [
      "{'eval_loss': 0.5060471477659626, 'eval_roc_auc': 0.8935001378549765, 'eval_threshold': 0.101682148873806, 'eval_pr_auc': 0.745817038830868, 'eval_recall': 0.8548387096774194, 'eval_precision': 0.7429906542056075, 'eval_f1': 0.795, 'eval_tn': 342, 'eval_fp': 48, 'eval_fn': 40, 'eval_tp': 146, 'epoch': 6.4655172413793105, 'step': 7500}\n",
      "{'loss': 0.295908203125, 'learning_rate': 3.6637931034482757e-06, 'epoch': 6.487068965517241, 'step': 7525}\n",
      "{'loss': 0.315927734375, 'learning_rate': 3.5098522167487686e-06, 'epoch': 6.508620689655173, 'step': 7550}\n",
      "{'loss': 0.579580078125, 'learning_rate': 3.3559113300492615e-06, 'epoch': 6.530172413793103, 'step': 7575}\n",
      "{'loss': 0.483779296875, 'learning_rate': 3.201970443349754e-06, 'epoch': 6.551724137931035, 'step': 7600}\n",
      "{'loss': 0.259345703125, 'learning_rate': 3.0480295566502464e-06, 'epoch': 6.573275862068965, 'step': 7625}\n",
      "{'loss': 0.44958984375, 'learning_rate': 2.894088669950739e-06, 'epoch': 6.594827586206897, 'step': 7650}\n",
      "{'loss': 0.41419921875, 'learning_rate': 2.7401477832512317e-06, 'epoch': 6.616379310344827, 'step': 7675}\n",
      "{'loss': 0.52318359375, 'learning_rate': 2.586206896551724e-06, 'epoch': 6.637931034482759, 'step': 7700}\n",
      "{'loss': 0.413955078125, 'learning_rate': 2.432266009852217e-06, 'epoch': 6.6594827586206895, 'step': 7725}\n",
      "{'loss': 0.515625, 'learning_rate': 2.2783251231527095e-06, 'epoch': 6.681034482758621, 'step': 7750}\n"
     ]
    },
    {
     "data": {
      "application/vnd.jupyter.widget-view+json": {
       "model_id": "fc13a2e2f26e4045a91440c5e0dc0ea6",
       "version_major": 2,
       "version_minor": 0
      },
      "text/plain": [
       "Evaluation:   0%|          | 0/72 [00:00<?, ?it/s]"
      ]
     },
     "metadata": {},
     "output_type": "display_data"
    },
    {
     "name": "stdout",
     "output_type": "stream",
     "text": [
      "{'eval_loss': 0.545825412729755, 'eval_roc_auc': 0.8860904328646263, 'eval_threshold': 0.04786735773086548, 'eval_pr_auc': 0.7358323935900215, 'eval_recall': 0.8655913978494624, 'eval_precision': 0.706140350877193, 'eval_f1': 0.7777777777777778, 'eval_tn': 341, 'eval_fp': 49, 'eval_fn': 44, 'eval_tp': 142, 'epoch': 6.681034482758621, 'step': 7750}\n",
      "{'loss': 0.476474609375, 'learning_rate': 2.124384236453202e-06, 'epoch': 6.702586206896552, 'step': 7775}\n",
      "{'loss': 0.49689453125, 'learning_rate': 1.970443349753695e-06, 'epoch': 6.724137931034483, 'step': 7800}\n",
      "{'loss': 0.438505859375, 'learning_rate': 1.816502463054187e-06, 'epoch': 6.745689655172414, 'step': 7825}\n",
      "{'loss': 0.677421875, 'learning_rate': 1.66256157635468e-06, 'epoch': 6.767241379310345, 'step': 7850}\n",
      "{'loss': 0.5513671875, 'learning_rate': 1.5086206896551726e-06, 'epoch': 6.788793103448276, 'step': 7875}\n",
      "{'loss': 0.315, 'learning_rate': 1.3546798029556653e-06, 'epoch': 6.810344827586206, 'step': 7900}\n",
      "{'loss': 0.33255859375, 'learning_rate': 1.2007389162561575e-06, 'epoch': 6.831896551724138, 'step': 7925}\n",
      "{'loss': 0.4578125, 'learning_rate': 1.0467980295566502e-06, 'epoch': 6.853448275862069, 'step': 7950}\n",
      "{'loss': 0.8660546875, 'learning_rate': 8.928571428571428e-07, 'epoch': 6.875, 'step': 7975}\n",
      "{'loss': 0.34322265625, 'learning_rate': 7.389162561576355e-07, 'epoch': 6.896551724137931, 'step': 8000}\n"
     ]
    },
    {
     "data": {
      "application/vnd.jupyter.widget-view+json": {
       "model_id": "c7b1f2404e5e43a38bcb6cb79a7482a6",
       "version_major": 2,
       "version_minor": 0
      },
      "text/plain": [
       "Evaluation:   0%|          | 0/72 [00:00<?, ?it/s]"
      ]
     },
     "metadata": {},
     "output_type": "display_data"
    },
    {
     "name": "stdout",
     "output_type": "stream",
     "text": [
      "{'eval_loss': 0.5048482806370076, 'eval_roc_auc': 0.8961538461538461, 'eval_threshold': 0.0877491757273674, 'eval_pr_auc': 0.7455978384892411, 'eval_recall': 0.8763440860215054, 'eval_precision': 0.7244444444444444, 'eval_f1': 0.7931873479318734, 'eval_tn': 337, 'eval_fp': 53, 'eval_fn': 38, 'eval_tp': 148, 'epoch': 6.896551724137931, 'step': 8000}\n",
      "{'loss': 0.45513671875, 'learning_rate': 5.849753694581281e-07, 'epoch': 6.918103448275862, 'step': 8025}\n",
      "{'loss': 0.2897265625, 'learning_rate': 4.3103448275862073e-07, 'epoch': 6.939655172413794, 'step': 8050}\n",
      "{'loss': 0.34822265625, 'learning_rate': 2.7709359605911334e-07, 'epoch': 6.961206896551724, 'step': 8075}\n",
      "{'loss': 0.6094140625, 'learning_rate': 1.2315270935960593e-07, 'epoch': 6.982758620689655, 'step': 8100}\n",
      "CPU times: user 1h 35min 9s, sys: 30min 58s, total: 2h 6min 8s\n",
      "Wall time: 2h 7min 54s\n"
     ]
    },
    {
     "data": {
      "text/plain": [
       "TrainOutput(global_step=8120, training_loss=0.5218131831126848)"
      ]
     },
     "execution_count": 16,
     "metadata": {},
     "output_type": "execute_result"
    }
   ],
   "source": [
    "%%time\n",
    "trainer.train()"
   ]
  },
  {
   "cell_type": "code",
   "execution_count": 17,
   "id": "blind-syntax",
   "metadata": {},
   "outputs": [],
   "source": [
    "# Load TensorBoard notebook extension\n",
    "%load_ext tensorboard"
   ]
  },
  {
   "cell_type": "code",
   "execution_count": 18,
   "id": "continued-identifier",
   "metadata": {},
   "outputs": [
    {
     "data": {
      "text/html": [
       "\n",
       "      <iframe id=\"tensorboard-frame-1c80317fa3b1799d\" width=\"100%\" height=\"800\" frameborder=\"0\">\n",
       "      </iframe>\n",
       "      <script>\n",
       "        (function() {\n",
       "          const frame = document.getElementById(\"tensorboard-frame-1c80317fa3b1799d\");\n",
       "          const url = new URL(\"/\", window.location);\n",
       "          const port = 6006;\n",
       "          if (port) {\n",
       "            url.port = port;\n",
       "          }\n",
       "          frame.src = url;\n",
       "        })();\n",
       "      </script>\n",
       "    "
      ],
      "text/plain": [
       "<IPython.core.display.HTML object>"
      ]
     },
     "metadata": {},
     "output_type": "display_data"
    }
   ],
   "source": [
    "%tensorboard --logdir ./logs/runs"
   ]
  },
  {
   "cell_type": "code",
   "execution_count": 19,
   "id": "agreed-throw",
   "metadata": {},
   "outputs": [],
   "source": [
    "trainer.save_model(\"./multimodal_bert/multimodal_bert_v37\")"
   ]
  },
  {
   "cell_type": "markdown",
   "id": "meaningful-casino",
   "metadata": {},
   "source": [
    "### Inference"
   ]
  },
  {
   "cell_type": "code",
   "execution_count": 20,
   "id": "absent-maryland",
   "metadata": {},
   "outputs": [],
   "source": [
    "# Need to reload trainer because drop_last = True was set during training \n",
    "# Otherwise the inference would not work on how test sets\n",
    "pred_trained = Trainer(\n",
    "    model=model\n",
    ")"
   ]
  },
  {
   "cell_type": "code",
   "execution_count": 21,
   "id": "average-assist",
   "metadata": {},
   "outputs": [
    {
     "data": {
      "application/vnd.jupyter.widget-view+json": {
       "model_id": "01a6c5f925a547c0b8251c374de797b1",
       "version_major": 2,
       "version_minor": 0
      },
      "text/plain": [
       "Prediction:   0%|          | 0/73 [00:00<?, ?it/s]"
      ]
     },
     "metadata": {},
     "output_type": "display_data"
    }
   ],
   "source": [
    "result = pred_trained.predict(test_dataset=test_dataset).predictions"
   ]
  },
  {
   "cell_type": "code",
   "execution_count": 22,
   "id": "connected-cleaner",
   "metadata": {},
   "outputs": [],
   "source": [
    "from scipy.special import softmax\n",
    "\n",
    "pred_labels = np.argmax(result, axis=1)\n",
    "pred_scores = softmax(result, axis=1)[:, 1]"
   ]
  },
  {
   "cell_type": "code",
   "execution_count": 23,
   "id": "exact-rover",
   "metadata": {},
   "outputs": [],
   "source": [
    "predicted_labels = [dataloader.convert_prediction(pred) for pred in pred_labels]"
   ]
  },
  {
   "cell_type": "code",
   "execution_count": 24,
   "id": "surface-consistency",
   "metadata": {},
   "outputs": [
    {
     "data": {
      "text/html": [
       "<div>\n",
       "<style scoped>\n",
       "    .dataframe tbody tr th:only-of-type {\n",
       "        vertical-align: middle;\n",
       "    }\n",
       "\n",
       "    .dataframe tbody tr th {\n",
       "        vertical-align: top;\n",
       "    }\n",
       "\n",
       "    .dataframe thead th {\n",
       "        text-align: right;\n",
       "    }\n",
       "</style>\n",
       "<table border=\"1\" class=\"dataframe\">\n",
       "  <thead>\n",
       "    <tr style=\"text-align: right;\">\n",
       "      <th></th>\n",
       "      <th>id</th>\n",
       "      <th>target</th>\n",
       "    </tr>\n",
       "  </thead>\n",
       "  <tbody>\n",
       "    <tr>\n",
       "      <th>0</th>\n",
       "      <td>544382249178001408</td>\n",
       "      <td>rumour</td>\n",
       "    </tr>\n",
       "    <tr>\n",
       "      <th>1</th>\n",
       "      <td>525027317551079424</td>\n",
       "      <td>rumour</td>\n",
       "    </tr>\n",
       "    <tr>\n",
       "      <th>2</th>\n",
       "      <td>544273220128739329</td>\n",
       "      <td>rumour</td>\n",
       "    </tr>\n",
       "    <tr>\n",
       "      <th>3</th>\n",
       "      <td>499571799764770816</td>\n",
       "      <td>non-rumour</td>\n",
       "    </tr>\n",
       "    <tr>\n",
       "      <th>4</th>\n",
       "      <td>552844104418091008</td>\n",
       "      <td>non-rumour</td>\n",
       "    </tr>\n",
       "    <tr>\n",
       "      <th>...</th>\n",
       "      <td>...</td>\n",
       "      <td>...</td>\n",
       "    </tr>\n",
       "    <tr>\n",
       "      <th>576</th>\n",
       "      <td>553581227165642752</td>\n",
       "      <td>non-rumour</td>\n",
       "    </tr>\n",
       "    <tr>\n",
       "      <th>577</th>\n",
       "      <td>552816302780579840</td>\n",
       "      <td>non-rumour</td>\n",
       "    </tr>\n",
       "    <tr>\n",
       "      <th>578</th>\n",
       "      <td>580350000074457088</td>\n",
       "      <td>rumour</td>\n",
       "    </tr>\n",
       "    <tr>\n",
       "      <th>579</th>\n",
       "      <td>498584409055174656</td>\n",
       "      <td>non-rumour</td>\n",
       "    </tr>\n",
       "    <tr>\n",
       "      <th>580</th>\n",
       "      <td>524961070465945600</td>\n",
       "      <td>non-rumour</td>\n",
       "    </tr>\n",
       "  </tbody>\n",
       "</table>\n",
       "<p>581 rows × 2 columns</p>\n",
       "</div>"
      ],
      "text/plain": [
       "                     id      target\n",
       "0    544382249178001408      rumour\n",
       "1    525027317551079424      rumour\n",
       "2    544273220128739329      rumour\n",
       "3    499571799764770816  non-rumour\n",
       "4    552844104418091008  non-rumour\n",
       "..                  ...         ...\n",
       "576  553581227165642752  non-rumour\n",
       "577  552816302780579840  non-rumour\n",
       "578  580350000074457088      rumour\n",
       "579  498584409055174656  non-rumour\n",
       "580  524961070465945600  non-rumour\n",
       "\n",
       "[581 rows x 2 columns]"
      ]
     },
     "execution_count": 24,
     "metadata": {},
     "output_type": "execute_result"
    }
   ],
   "source": [
    "output = pd.DataFrame({'id':test_df.id,'target':predicted_labels})\n",
    "output"
   ]
  },
  {
   "cell_type": "code",
   "execution_count": 25,
   "id": "front-school",
   "metadata": {},
   "outputs": [],
   "source": [
    "submission = pd.Series(output.target.values,index=output.id).to_dict()\n",
    "with open('test-output.json', 'w') as f:\n",
    "    json.dump(submission, f)"
   ]
  },
  {
   "cell_type": "code",
   "execution_count": null,
   "id": "complex-playing",
   "metadata": {},
   "outputs": [],
   "source": []
  }
 ],
 "metadata": {
  "environment": {
   "name": "tf2-gpu.2-3.m65",
   "type": "gcloud",
   "uri": "gcr.io/deeplearning-platform-release/tf2-gpu.2-3:m65"
  },
  "kernelspec": {
   "display_name": "Python 3",
   "language": "python",
   "name": "python3"
  },
  "language_info": {
   "codemirror_mode": {
    "name": "ipython",
    "version": 3
   },
   "file_extension": ".py",
   "mimetype": "text/x-python",
   "name": "python",
   "nbconvert_exporter": "python",
   "pygments_lexer": "ipython3",
   "version": "3.7.10"
  }
 },
 "nbformat": 4,
 "nbformat_minor": 5
}
