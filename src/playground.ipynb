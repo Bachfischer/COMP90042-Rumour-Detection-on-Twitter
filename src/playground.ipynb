{
 "cells": [
  {
   "cell_type": "code",
   "execution_count": null,
   "id": "introductory-finish",
   "metadata": {},
   "outputs": [],
   "source": [
    "import json\n",
    "import re\n",
    "import sys\n",
    "import pandas as pd\n",
    "import numpy as np\n",
    "\n",
    "# TODO: Check whether spacy is allowed\n",
    "import spacy"
   ]
  },
  {
   "cell_type": "code",
   "execution_count": null,
   "id": "faced-islam",
   "metadata": {},
   "outputs": [],
   "source": [
    "# TODO: Load latest multimodal_transformers from GitHub to allow dataframes"
   ]
  },
  {
   "cell_type": "code",
   "execution_count": null,
   "id": "ranking-locator",
   "metadata": {},
   "outputs": [],
   "source": [
    "from dataclasses import dataclass, field\n",
    "import json\n",
    "import logging\n",
    "import os\n",
    "from typing import Optional\n",
    "\n",
    "from transformers import (\n",
    "    AutoTokenizer,\n",
    "    AutoConfig,\n",
    "    Trainer,\n",
    "    EvalPrediction,\n",
    "    set_seed\n",
    ")\n",
    "from transformers.training_args import TrainingArguments\n",
    "\n",
    "from multimodal_transformers.data import load_data_from_folder\n",
    "from multimodal_transformers.model import TabularConfig\n",
    "from multimodal_transformers.model import AutoModelWithTabular\n",
    "\n",
    "logging.basicConfig(level=logging.INFO)\n",
    "os.environ['COMET_MODE'] = 'DISABLED'\n"
   ]
  },
  {
   "cell_type": "code",
   "execution_count": null,
   "id": "alike-message",
   "metadata": {},
   "outputs": [],
   "source": [
    "def convert_label(label):\n",
    "    if label == \"rumour\":\n",
    "        return 1\n",
    "    elif label == \"non-rumour\":\n",
    "        return 0\n",
    "    else:\n",
    "        raise Exception(\"label classes must be 'rumour' or 'non-rumour'\")"
   ]
  },
  {
   "cell_type": "code",
   "execution_count": null,
   "id": "perfect-intent",
   "metadata": {},
   "outputs": [],
   "source": [
    "def convert_prediction(pred):\n",
    "    if pred == 1:\n",
    "        return \"rumour\"\n",
    "    elif pred == 0:\n",
    "        return \"non-rumour\"\n",
    "    else:\n",
    "        raise Exception(\"prediction classes must be '0' or '1'\")"
   ]
  },
  {
   "cell_type": "code",
   "execution_count": null,
   "id": "closing-concentration",
   "metadata": {},
   "outputs": [],
   "source": [
    "def extract_features(tweet):\n",
    "    tweet_features = {}\n",
    "    \n",
    "    ### Tweet features\n",
    "    tweet_features['text'] = tweet['text']\n",
    "    \n",
    "    # Number of retweets\n",
    "    tweet_features['retweet_count'] = tweet['retweet_count']\n",
    "    #Number of favorites\n",
    "    tweet_features['favorite_count'] = tweet['favorite_count']\n",
    "    \n",
    "    #Whether tweet has a question mark\n",
    "    tweet_features['question_mark'] = '?' in tweet['text']\n",
    "    \n",
    "    #Whether tweet contains URLs\n",
    "    if 'urls' in tweet['entities']:\n",
    "        number_of_urls = len(tweet['entities']['urls'])\n",
    "    else: \n",
    "        number_of_urls = 0\n",
    "        \n",
    "    tweet_features['contains_url'] = True if number_of_urls > 0 else False\n",
    "    \n",
    "    #Number of URLs embedded in tweet\n",
    "    tweet_features['number_urls'] =  number_of_urls\n",
    "    \n",
    "    #Whether tweet has native media\n",
    "    if 'media' in tweet['entities']:\n",
    "        number_of_media = len(tweet['entities']['media'])\n",
    "    else: \n",
    "        number_of_media = 0\n",
    "        \n",
    "    tweet_features['contains_media'] = True if number_of_media > 0 else False\n",
    "    \n",
    "    \n",
    "    ### User features\n",
    "    user_features = {}\n",
    "    \n",
    "    # Number of posts user has posted\n",
    "    user_features['statuses_count'] = tweet['user']['statuses_count']\n",
    "    \n",
    "    #Number of public lists user belongs to\n",
    "    user_features['listed_count'] = tweet['user']['listed_count']\n",
    "\n",
    "\n",
    "    #Number of followers\n",
    "    user_features['followers_count'] = tweet['user']['followers_count']\n",
    "\n",
    "    #Number of followings\n",
    "    user_features['friends_count'] = tweet['user']['friends_count']\n",
    "\n",
    "    #Whether user has a background profile image\n",
    "    if 'profile_background_image_url' in tweet['user']:\n",
    "        profile_background_image_url = True\n",
    "    else:\n",
    "        profile_background_image_url = False\n",
    "    \n",
    "    user_features['contains_profile_background_image'] = profile_background_image_url\n",
    "    \n",
    "    #User reputation (i.e., followers/(followings+1))\n",
    "    user_features['reputation_score_1'] = user_features['followers_count'] / ( user_features['friends_count'] +1)\n",
    "    \n",
    "    #User reputation (i.e., followers/(followings+followers+1))\n",
    "    user_features['reputation_score_2'] = user_features['followers_count'] /(user_features['followers_count'] +\n",
    "                                                                              user_features['friends_count'] +1)\n",
    "\n",
    "    # Number of tweets user has liked so far (aka ”user favorites”)\n",
    "    user_features['favourites_count'] = tweet['user']['favourites_count']\n",
    "\n",
    "    # Account age in days\n",
    "    # TODO\n",
    "    \n",
    "    # Following rate (i.e., followings / (account age+1))\n",
    "    # TODO\n",
    "    \n",
    "    # Favorite rate (i.e., user favorites / (account age+1))\n",
    "    # TODO\n",
    "    \n",
    "    # User engagement (i.e., # posts / (account age+1))\n",
    "    # TODO\n",
    "    \n",
    "    # Response time decay (time difference between context and source tweet in mins)\n",
    "    # TODO\n",
    "    \n",
    "    # Whether user is verified\n",
    "    user_features['verified'] = tweet['user']['verified']\n",
    "\n",
    "    # Whether geolocation is enabled\n",
    "    user_features['geo_enabled'] = tweet['user']['geo_enabled']\n",
    "\n",
    "    # Number of words in user description\n",
    "    if 'description' in tweet['user'] and tweet['user']['description'] != None:\n",
    "        length_description = len(tweet['user']['description'])\n",
    "    else:\n",
    "        length_description = 0\n",
    "        \n",
    "    # Whether user has a description\n",
    "    user_features['has_description'] = True if length_description > 0 else False\n",
    "        \n",
    "    user_features['length_description'] = length_description\n",
    "\n",
    "    \n",
    "    # Merge features\n",
    "    tweet_features.update(user_features)\n",
    "    return tweet_features\n",
    "\n",
    "\n",
    "    "
   ]
  },
  {
   "cell_type": "markdown",
   "id": "rubber-classroom",
   "metadata": {},
   "source": [
    "## Preprocessing\n",
    "\n",
    "1--> Removing Contraction (Decontraction)\n",
    "\n",
    "2--> Dealing with HashTags\n",
    "\n",
    "3--> Removing URLs and Email\n",
    "\n",
    "4--> Removing Stopwords and Lemmatization"
   ]
  },
  {
   "cell_type": "code",
   "execution_count": null,
   "id": "blind-priest",
   "metadata": {},
   "outputs": [],
   "source": [
    "def decontracted(phrase):\n",
    "    # specific\n",
    "    phrase = re.sub(r\"won\\'t\", \"will not\", phrase)\n",
    "    phrase = re.sub(r\"can\\'t\", \"can not\", phrase)\n",
    "\n",
    "    # general\n",
    "    phrase = re.sub(r\"n\\'t\", \" not\", phrase)\n",
    "    phrase = re.sub(r\"\\'re\", \" are\", phrase)\n",
    "    phrase = re.sub(r\"\\'s\", \" is\", phrase)\n",
    "    phrase = re.sub(r\"\\'d\", \" would\", phrase)\n",
    "    phrase = re.sub(r\"\\'ll\", \" will\", phrase)\n",
    "    phrase = re.sub(r\"\\'t\", \" not\", phrase)\n",
    "    phrase = re.sub(r\"\\'ve\", \" have\", phrase)\n",
    "    phrase = re.sub(r\"\\'m\", \" am\", phrase)\n",
    "    return phrase"
   ]
  },
  {
   "cell_type": "code",
   "execution_count": null,
   "id": "premium-hundred",
   "metadata": {},
   "outputs": [],
   "source": [
    "import spacy\n",
    "import re\n",
    "nlp = spacy.load(\"en_core_web_sm\")\n",
    "\n",
    "def preprocessing(text):\n",
    "    text = text.replace('#','')\n",
    "    text = decontracted(text)\n",
    "    text = re.sub('\\S*@\\S*\\s?','',text)\n",
    "    text = re.sub('http[s]?:(?:[a-zA-Z]|[0-9]|[$-_@.&+]|[!*\\(\\),]|(?:%[0-9a-fA-F][0-9a-fA-F]))+','',text)\n",
    "\n",
    "    token=[]\n",
    "    result=''\n",
    "    text = re.sub('[^A-z]', ' ',text.lower())\n",
    "\n",
    "    text = nlp(text)\n",
    "    for t in text:\n",
    "        if not t.is_stop and len(t)>2:  \n",
    "            token.append(t.lemma_)\n",
    "    result = ' '.join([i for i in token])\n",
    "\n",
    "    return result.strip()"
   ]
  },
  {
   "cell_type": "code",
   "execution_count": null,
   "id": "official-hygiene",
   "metadata": {},
   "outputs": [],
   "source": [
    "def load_data(data_file, label_file):\n",
    "    \n",
    "    if label_file != None:\n",
    "        y_true = json.load(open(label_file))\n",
    "    \n",
    "    with open(data_file, 'r') as data_train:\n",
    "        raw_list = list(data_train)\n",
    "\n",
    "    data_list = []\n",
    "\n",
    "\n",
    "    for event in raw_list:\n",
    "        tweets_in_event = json.loads(event)\n",
    "\n",
    "        tweet = {}\n",
    "\n",
    "        tweet['id'] = tweets_in_event[0]['id']\n",
    "        tweet.update(extract_features(tweets_in_event[0]))\n",
    "        \n",
    "\n",
    "        # append text from follow-up tweets in tweet chain\n",
    "        follow_up_tweets = \"\"\n",
    "        for i in range(1, len(tweets_in_event)):\n",
    "            #follow_tweet_features = extract_features(tweets_in_event[i])\n",
    "            follow_up_tweets = follow_up_tweets + preprocessing(tweets_in_event[i]['text']) + \" [SEP] \"\n",
    "        \n",
    "        # TODO: Edit\n",
    "        #tweet['follow_up_tweets'] = follow_up_tweets\n",
    "        tweet['text'] = preprocessing(tweet['text']) + \" [SEP] \" + follow_up_tweets\n",
    "        \n",
    "        if label_file != None:\n",
    "            tweet['label'] = convert_label(y_true[str(tweet['id'])])\n",
    "        \n",
    "        data_list.append(tweet)\n",
    "\n",
    "    df = pd.DataFrame(data_list)\n",
    "\n",
    "    return df\n",
    "\n",
    "\n",
    "    "
   ]
  },
  {
   "cell_type": "code",
   "execution_count": null,
   "id": "comparative-cemetery",
   "metadata": {},
   "outputs": [],
   "source": [
    "train_df = load_data(data_file = '../data/train.data.jsonl', label_file = '../data/train.label.json')\n",
    "dev_df = load_data(data_file = '../data/dev.data.jsonl', label_file = '../data/dev.label.json')\n"
   ]
  },
  {
   "cell_type": "code",
   "execution_count": null,
   "id": "distinguished-pasta",
   "metadata": {},
   "outputs": [],
   "source": [
    "# Workaround to make size of training dataset even \n",
    "# Better to set drop_last = True in Pytorch DataLoader\n",
    "\n",
    "#train_df.drop(train_df.tail(1).index,inplace=True)\n",
    "#len(train_df)"
   ]
  },
  {
   "cell_type": "code",
   "execution_count": null,
   "id": "stable-viewer",
   "metadata": {},
   "outputs": [],
   "source": [
    "test_df = load_data(data_file = '../data/test.data.jsonl', label_file = None)"
   ]
  },
  {
   "cell_type": "code",
   "execution_count": null,
   "id": "listed-fitting",
   "metadata": {},
   "outputs": [],
   "source": [
    "# Pre-processing applied directly\n",
    "#train_df.text = train_df.text.apply(lambda x : preprocessing(x))\n",
    "#dev_df.text = dev_df.text.apply(lambda x : preprocessing(x))\n",
    "#test_df.text = test_df.text.apply(lambda x : preprocessing(x))\n",
    "\n",
    "#train_df.text = train_df.follow_up_tweets.apply(lambda x : preprocessing(x))\n",
    "#dev_df.text = dev_df.follow_up_tweets.apply(lambda x : preprocessing(x))\n",
    "#test_df.text = test_df.follow_up_tweets.apply(lambda x : preprocessing(x))"
   ]
  },
  {
   "cell_type": "code",
   "execution_count": null,
   "id": "arabic-ensemble",
   "metadata": {},
   "outputs": [],
   "source": [
    "#train_df.to_csv('train.csv')\n",
    "#dev_df.to_csv('val.csv')\n",
    "#test_df.to_csv('test.csv')"
   ]
  },
  {
   "cell_type": "code",
   "execution_count": null,
   "id": "guilty-conclusion",
   "metadata": {},
   "outputs": [],
   "source": [
    "import matplotlib.pyplot as plt\n",
    "plt.title('Train Data')\n",
    "plt.xlabel('Target Distribution')\n",
    "plt.ylabel('Samples')\n",
    "plt.hist(train_df.label)\n",
    "plt.show()"
   ]
  },
  {
   "cell_type": "code",
   "execution_count": null,
   "id": "nominated-equilibrium",
   "metadata": {},
   "outputs": [],
   "source": [
    "combined_df = train_df.append(dev_df, ignore_index = True)\n",
    "combined_df"
   ]
  },
  {
   "cell_type": "code",
   "execution_count": null,
   "id": "suitable-commerce",
   "metadata": {},
   "outputs": [],
   "source": [
    "combined_df['text'][0]"
   ]
  },
  {
   "cell_type": "markdown",
   "id": "existing-sunday",
   "metadata": {},
   "source": [
    "## Multi-modal BERT"
   ]
  },
  {
   "cell_type": "code",
   "execution_count": 18,
   "id": "dietary-mother",
   "metadata": {},
   "outputs": [],
   "source": [
    "@dataclass\n",
    "class ModelArguments:\n",
    "    \"\"\"\n",
    "    Arguments pertaining to which model/config/tokenizer we are going to fine-tune from.\n",
    "    \"\"\"\n",
    "    model_name_or_path: str = field(\n",
    "      metadata={\"help\": \"Path to pretrained model or model identifier from huggingface.co/models\"}\n",
    "    )\n",
    "    config_name: Optional[str] = field(\n",
    "      default=None, metadata={\"help\": \"Pretrained config name or path if not the same as model_name\"}\n",
    "    )\n",
    "    tokenizer_name: Optional[str] = field(\n",
    "      default=None, metadata={\"help\": \"Pretrained tokenizer name or path if not the same as model_name\"}\n",
    "    )\n",
    "    cache_dir: Optional[str] = field(\n",
    "      default=None, metadata={\"help\": \"Where do you want to store the pretrained models downloaded from s3\"}\n",
    "    )\n",
    "\n",
    "\n",
    "@dataclass\n",
    "class MultimodalDataTrainingArguments:\n",
    "    \"\"\"\n",
    "    Arguments pertaining to how we combine tabular features\n",
    "    Using `HfArgumentParser` we can turn this class\n",
    "    into argparse arguments to be able to specify them on\n",
    "    the command line.\n",
    "    \"\"\"\n",
    "\n",
    "    data_path: str = field(metadata={\n",
    "                            'help': 'the path to the csv file containing the dataset'\n",
    "                        })\n",
    "    column_info_path: str = field(\n",
    "      default=None,\n",
    "      metadata={\n",
    "          'help': 'the path to the json file detailing which columns are text, categorical, numerical, and the label'\n",
    "    })\n",
    "\n",
    "    column_info: dict = field(\n",
    "      default=None,\n",
    "      metadata={\n",
    "          'help': 'a dict referencing the text, categorical, numerical, and label columns'\n",
    "                  'its keys are text_cols, num_cols, cat_cols, and label_col'\n",
    "    })\n",
    "\n",
    "    categorical_encode_type: str = field(default='ohe',\n",
    "                                        metadata={\n",
    "                                            'help': 'sklearn encoder to use for categorical data',\n",
    "                                            'choices': ['ohe', 'binary', 'label', 'none']\n",
    "                                        })\n",
    "    numerical_transformer_method: str = field(default='yeo_johnson',\n",
    "                                            metadata={\n",
    "                                                'help': 'sklearn numerical transformer to preprocess numerical data',\n",
    "                                                'choices': ['yeo_johnson', 'box_cox', 'quantile_normal', 'none']\n",
    "                                            })\n",
    "    task: str = field(default=\"classification\",\n",
    "                    metadata={\n",
    "                        \"help\": \"The downstream training task\",\n",
    "                        \"choices\": [\"classification\", \"regression\"]\n",
    "                    })\n",
    "\n",
    "    mlp_division: int = field(default=4,\n",
    "                            metadata={\n",
    "                                'help': 'the ratio of the number of '\n",
    "                                        'hidden dims in a current layer to the next MLP layer'\n",
    "                            })\n",
    "    combine_feat_method: str = field(default='individual_mlps_on_cat_and_numerical_feats_then_concat',\n",
    "                                    metadata={\n",
    "                                        'help': 'method to combine categorical and numerical features, '\n",
    "                                                'see README for all the method'\n",
    "                                    })\n",
    "    mlp_dropout: float = field(default=0.1,\n",
    "                              metadata={\n",
    "                                'help': 'dropout ratio used for MLP layers'\n",
    "                              })\n",
    "    numerical_bn: bool = field(default=True,\n",
    "                              metadata={\n",
    "                                  'help': 'whether to use batchnorm on numerical features'\n",
    "                              })\n",
    "    use_simple_classifier: str = field(default=True,\n",
    "                                      metadata={\n",
    "                                          'help': 'whether to use single layer or MLP as final classifier'\n",
    "                                      })\n",
    "    mlp_act: str = field(default='relu',\n",
    "                        metadata={\n",
    "                            'help': 'the activation function to use for finetuning layers',\n",
    "                            'choices': ['relu', 'prelu', 'sigmoid', 'tanh', 'linear']\n",
    "                        })\n",
    "    gating_beta: float = field(default=0.2,\n",
    "                              metadata={\n",
    "                                  'help': \"the beta hyperparameters used for gating tabular data \"\n",
    "                                          \"see https://www.aclweb.org/anthology/2020.acl-main.214.pdf\"\n",
    "                              })\n",
    "\n",
    "    def __post_init__(self):\n",
    "        assert self.column_info != self.column_info_path\n",
    "        if self.column_info is None and self.column_info_path:\n",
    "            with open(self.column_info_path, 'r') as f:\n",
    "                self.column_info = json.load(f)"
   ]
  },
  {
   "cell_type": "code",
   "execution_count": 136,
   "id": "personal-rebound",
   "metadata": {},
   "outputs": [],
   "source": [
    "text_cols = ['text']\n",
    "cat_cols = ['question_mark', 'contains_url', 'contains_media', 'contains_profile_background_image', 'verified', 'geo_enabled', 'has_description']\n",
    "numerical_cols = ['retweet_count', 'favorite_count', 'number_urls','statuses_count', 'listed_count', 'reputation_score_1', 'reputation_score_2', 'favourites_count','length_description','follow_tweets']\n",
    "\n",
    "column_info_dict = {\n",
    "    'text_cols': text_cols,\n",
    "    'num_cols': numerical_cols,\n",
    "    'cat_cols': cat_cols,\n",
    "    'label_col': 'label',\n",
    "    'label_list': [0, 1]\n",
    "}\n",
    "\n",
    "\n",
    "model_args = ModelArguments(\n",
    "    model_name_or_path='bert-base-uncased'\n",
    ")\n",
    "\n",
    "data_args = MultimodalDataTrainingArguments(\n",
    "    data_path='.',\n",
    "    combine_feat_method='gating_on_cat_and_num_feats_then_sum',\n",
    "    column_info=column_info_dict,\n",
    "    task='classification'\n",
    ")\n",
    "\n",
    "training_args = TrainingArguments(\n",
    "    output_dir=\"./logs/model_name\",\n",
    "    logging_dir=\"./logs/runs\",\n",
    "    overwrite_output_dir=True,\n",
    "    do_train=True,\n",
    "    do_eval=True,\n",
    "    per_device_train_batch_size=4,\n",
    "    num_train_epochs=5,\n",
    "    evaluate_during_training=True,\n",
    "    logging_steps=25,\n",
    "    eval_steps=250,\n",
    "    dataloader_drop_last=True\n",
    ")\n",
    "\n",
    "set_seed(training_args.seed)"
   ]
  },
  {
   "cell_type": "code",
   "execution_count": 137,
   "id": "emotional-animal",
   "metadata": {},
   "outputs": [
    {
     "name": "stdout",
     "output_type": "stream",
     "text": [
      "Specified tokenizer:  bert-base-uncased\n"
     ]
    }
   ],
   "source": [
    "tokenizer_path_or_name = model_args.tokenizer_name if model_args.tokenizer_name else model_args.model_name_or_path\n",
    "print('Specified tokenizer: ', tokenizer_path_or_name)\n",
    "\n",
    "# TODO: Check if tokens should be converted to lower-case?!\n",
    "tokenizer = AutoTokenizer.from_pretrained(\n",
    "    tokenizer_path_or_name,\n",
    "    cache_dir=model_args.cache_dir\n",
    ")"
   ]
  },
  {
   "cell_type": "code",
   "execution_count": 138,
   "id": "recreational-jerusalem",
   "metadata": {},
   "outputs": [
    {
     "name": "stderr",
     "output_type": "stream",
     "text": [
      "INFO:multimodal_transformers.data.data_utils:9 numerical columns\n",
      "/opt/conda/lib/python3.7/site-packages/pandas/core/frame.py:3191: SettingWithCopyWarning: \n",
      "A value is trying to be set on a copy of a slice from a DataFrame.\n",
      "Try using .loc[row_indexer,col_indexer] = value instead\n",
      "\n",
      "See the caveats in the documentation: https://pandas.pydata.org/pandas-docs/stable/user_guide/indexing.html#returning-a-view-versus-a-copy\n",
      "  self[k1] = value[k2]\n",
      "INFO:multimodal_transformers.data.data_utils:20 categorical columns\n",
      "INFO:multimodal_transformers.data.data_utils:9 numerical columns\n",
      "/opt/conda/lib/python3.7/site-packages/pandas/core/frame.py:3191: SettingWithCopyWarning: \n",
      "A value is trying to be set on a copy of a slice from a DataFrame.\n",
      "Try using .loc[row_indexer,col_indexer] = value instead\n",
      "\n",
      "See the caveats in the documentation: https://pandas.pydata.org/pandas-docs/stable/user_guide/indexing.html#returning-a-view-versus-a-copy\n",
      "  self[k1] = value[k2]\n",
      "INFO:multimodal_transformers.data.load_data:Text columns: ['text']\n",
      "INFO:multimodal_transformers.data.load_data:Raw text example: sep jews label like anti semite campaign person company finish sep sep imcharliehebdo sep ditto sep innocent muslim ought find insulting atrocity commit sodding cartoon sep yes sep insult people people genuinely offend drawing sep think little actual muslim sep like jew bye bye sep kid benign stuff      wham like river shite sep good point sep sep organise jewry mean actual people hate ancestor sep     sep explore sep case problem sep point insult billion innocent muslim thumb nose bunch lunatic worth sep dear     see tweet     block sep learn offend sep token jew black irish people learn offend sep      defend right free speech broad context sep record way shape form defend atrocity sep yes remind time jew bomb guardian sep know give creep sep lot dodgy twitter account benign real     sep people insult important feel identity attack sep remarkable quickly come woodwork sep correct response brutality offend lot people support brutality\n",
      "INFO:multimodal_transformers.data.data_utils:20 categorical columns\n",
      "INFO:multimodal_transformers.data.data_utils:9 numerical columns\n",
      "/opt/conda/lib/python3.7/site-packages/pandas/core/frame.py:3191: SettingWithCopyWarning: \n",
      "A value is trying to be set on a copy of a slice from a DataFrame.\n",
      "Try using .loc[row_indexer,col_indexer] = value instead\n",
      "\n",
      "See the caveats in the documentation: https://pandas.pydata.org/pandas-docs/stable/user_guide/indexing.html#returning-a-view-versus-a-copy\n",
      "  self[k1] = value[k2]\n",
      "INFO:multimodal_transformers.data.load_data:Text columns: ['text']\n",
      "INFO:multimodal_transformers.data.load_data:Raw text example: sep fucking terrorist sep                                                                                                                                         sep                                                                                                          sep people able sydney cafe hostage situation      sep finger look broken sep otage libre people able sydney cafe       sep definitely add tweet sep people able sydney cafe hostage situation      cuba usa sep stop show face go trouble forever link event sep sure hope hostage taker get foot room temp sep people able sydney cafe hostage situation      sep dear swat team guy want choose long rifle precise shot csi miami vice sep radical islam spread terror sep sep muslim fanatical zealot isis syndeysiege sep connection long free democratic nation go allow terrorist state sponsor terror dictate\n",
      "INFO:multimodal_transformers.data.data_utils:20 categorical columns\n",
      "INFO:multimodal_transformers.data.data_utils:9 numerical columns\n",
      "/opt/conda/lib/python3.7/site-packages/pandas/core/frame.py:3191: SettingWithCopyWarning: \n",
      "A value is trying to be set on a copy of a slice from a DataFrame.\n",
      "Try using .loc[row_indexer,col_indexer] = value instead\n",
      "\n",
      "See the caveats in the documentation: https://pandas.pydata.org/pandas-docs/stable/user_guide/indexing.html#returning-a-view-versus-a-copy\n",
      "  self[k1] = value[k2]\n",
      "INFO:multimodal_transformers.data.load_data:Text columns: ['text']\n",
      "INFO:multimodal_transformers.data.load_data:Raw text example: sep unfortunate get want die martyr glad french people sep suck think big picture need know know work sep break report     brother suspect charlie hebdo attack dead go hell sep get kill one order kill journalist right guess     sep     sep break report     brother suspect charlie hebdo attack dead jesuischarlie sep break report     brother suspect charlie hebdo attack dead good     sep break report     brother suspect charlie hebdo attack dead sep break report     brother suspect charlie hebdo attack dead sep give hear favorite radio station area thank write\n"
     ]
    }
   ],
   "source": [
    "# Get Datasets\n",
    "train_dataset, dev_dataset, test_dataset = load_data_from_folder(train_df, dev_df, test_df,\n",
    "    data_args.column_info['text_cols'],\n",
    "    tokenizer,\n",
    "    label_col=data_args.column_info['label_col'],\n",
    "    label_list=data_args.column_info['label_list'],\n",
    "    categorical_cols=data_args.column_info['cat_cols'],\n",
    "    numerical_cols=data_args.column_info['num_cols'],\n",
    "    sep_text_token_str=tokenizer.sep_token\n",
    ")"
   ]
  },
  {
   "cell_type": "code",
   "execution_count": 139,
   "id": "worthy-prairie",
   "metadata": {},
   "outputs": [
    {
     "data": {
      "text/plain": [
       "<multimodal_transformers.data.tabular_torch_dataset.TorchTabularTextDataset at 0x7fc68ba77110>"
      ]
     },
     "execution_count": 139,
     "metadata": {},
     "output_type": "execute_result"
    }
   ],
   "source": [
    "dev_dataset"
   ]
  },
  {
   "cell_type": "code",
   "execution_count": 140,
   "id": "adaptive-transition",
   "metadata": {},
   "outputs": [
    {
     "data": {
      "text/plain": [
       "2"
      ]
     },
     "execution_count": 140,
     "metadata": {},
     "output_type": "execute_result"
    }
   ],
   "source": [
    "num_labels = len(np.unique(train_dataset.labels))\n",
    "num_labels"
   ]
  },
  {
   "cell_type": "code",
   "execution_count": 141,
   "id": "oriental-springer",
   "metadata": {},
   "outputs": [],
   "source": [
    "config = AutoConfig.from_pretrained(\n",
    "        model_args.config_name if model_args.config_name else model_args.model_name_or_path,\n",
    "        cache_dir=model_args.cache_dir,\n",
    "    )\n",
    "tabular_config = TabularConfig(num_labels=num_labels,\n",
    "                               cat_feat_dim=train_dataset.cat_feats.shape[1],\n",
    "                               numerical_feat_dim=train_dataset.numerical_feats.shape[1],\n",
    "                               **vars(data_args))\n",
    "config.tabular_config = tabular_config"
   ]
  },
  {
   "cell_type": "code",
   "execution_count": 142,
   "id": "annoying-consumption",
   "metadata": {},
   "outputs": [
    {
     "name": "stderr",
     "output_type": "stream",
     "text": [
      "Some weights of the model checkpoint at bert-base-uncased were not used when initializing BertWithTabular: ['cls.predictions.bias', 'cls.predictions.transform.dense.weight', 'cls.predictions.transform.dense.bias', 'cls.predictions.decoder.weight', 'cls.seq_relationship.weight', 'cls.seq_relationship.bias', 'cls.predictions.transform.LayerNorm.weight', 'cls.predictions.transform.LayerNorm.bias']\n",
      "- This IS expected if you are initializing BertWithTabular from the checkpoint of a model trained on another task or with another architecture (e.g. initializing a BertForSequenceClassification model from a BertForPretraining model).\n",
      "- This IS NOT expected if you are initializing BertWithTabular from the checkpoint of a model that you expect to be exactly identical (initializing a BertForSequenceClassification model from a BertForSequenceClassification model).\n",
      "Some weights of BertWithTabular were not initialized from the model checkpoint at bert-base-uncased and are newly initialized: ['classifier.weight', 'classifier.bias', 'tabular_combiner.h_bias', 'tabular_combiner.num_bn.weight', 'tabular_combiner.num_bn.bias', 'tabular_combiner.num_bn.running_mean', 'tabular_combiner.num_bn.running_var', 'tabular_combiner.g_cat_layer.weight', 'tabular_combiner.g_cat_layer.bias', 'tabular_combiner.h_cat_layer.weight', 'tabular_combiner.g_num_layer.weight', 'tabular_combiner.g_num_layer.bias', 'tabular_combiner.h_num_layer.weight', 'tabular_combiner.layer_norm.weight', 'tabular_combiner.layer_norm.bias', 'tabular_classifier.weight', 'tabular_classifier.bias']\n",
      "You should probably TRAIN this model on a down-stream task to be able to use it for predictions and inference.\n"
     ]
    }
   ],
   "source": [
    "model = AutoModelWithTabular.from_pretrained(\n",
    "        model_args.config_name if model_args.config_name else model_args.model_name_or_path,\n",
    "        config=config,\n",
    "        cache_dir=model_args.cache_dir\n",
    "    )"
   ]
  },
  {
   "cell_type": "code",
   "execution_count": 143,
   "id": "attended-phase",
   "metadata": {},
   "outputs": [],
   "source": [
    "import numpy as np\n",
    "from scipy.special import softmax\n",
    "from sklearn.metrics import (\n",
    "    auc,\n",
    "    precision_recall_curve,\n",
    "    roc_auc_score,\n",
    "    f1_score,\n",
    "    confusion_matrix,\n",
    "    matthews_corrcoef,\n",
    ")\n",
    "\n",
    "def calc_classification_metrics(p: EvalPrediction):\n",
    "    pred_labels = np.argmax(p.predictions, axis=1)\n",
    "    pred_scores = softmax(p.predictions, axis=1)[:, 1]\n",
    "    labels = p.label_ids\n",
    "    if len(np.unique(labels)) == 2:  # binary classification\n",
    "        roc_auc_pred_score = roc_auc_score(labels, pred_scores)\n",
    "        precisions, recalls, thresholds = precision_recall_curve(labels,\n",
    "                                                                pred_scores)\n",
    "        fscore = (2 * precisions * recalls) / (precisions + recalls)\n",
    "        fscore[np.isnan(fscore)] = 0\n",
    "        ix = np.argmax(fscore)\n",
    "        threshold = thresholds[ix].item()\n",
    "        pr_auc = auc(recalls, precisions)\n",
    "        tn, fp, fn, tp = confusion_matrix(labels, pred_labels, labels=[0, 1]).ravel()\n",
    "        result = {'roc_auc': roc_auc_pred_score,\n",
    "                'threshold': threshold,\n",
    "                'pr_auc': pr_auc,\n",
    "                'recall': recalls[ix].item(),\n",
    "                'precision': precisions[ix].item(), 'f1': fscore[ix].item(),\n",
    "                'tn': tn.item(), 'fp': fp.item(), 'fn': fn.item(), 'tp': tp.item()\n",
    "                }\n",
    "    else:\n",
    "        acc = (pred_labels == labels).mean()\n",
    "        f1 = f1_score(y_true=labels, y_pred=pred_labels)\n",
    "        result = {\n",
    "          \"acc\": acc,\n",
    "          \"f1\": f1,\n",
    "          \"acc_and_f1\": (acc + f1) / 2,\n",
    "          \"mcc\": matthews_corrcoef(labels, pred_labels)\n",
    "        }\n",
    "\n",
    "    return result"
   ]
  },
  {
   "cell_type": "code",
   "execution_count": 144,
   "id": "coordinated-strand",
   "metadata": {},
   "outputs": [],
   "source": [
    "# TODO: Verify dataloader_drop_last = True\n",
    "\n",
    "trainer = Trainer(\n",
    "    model=model,\n",
    "    args=training_args,\n",
    "    train_dataset=train_dataset,\n",
    "    eval_dataset=dev_dataset,\n",
    "    compute_metrics=calc_classification_metrics\n",
    ")"
   ]
  },
  {
   "cell_type": "code",
   "execution_count": 145,
   "id": "informal-employee",
   "metadata": {},
   "outputs": [],
   "source": [
    "torch.cuda.empty_cache()"
   ]
  },
  {
   "cell_type": "code",
   "execution_count": 146,
   "id": "fiscal-jungle",
   "metadata": {},
   "outputs": [
    {
     "data": {
      "application/vnd.jupyter.widget-view+json": {
       "model_id": "b522d74b38a5483d80563f3e22c8911c",
       "version_major": 2,
       "version_minor": 0
      },
      "text/plain": [
       "Epoch:   0%|          | 0/5 [00:00<?, ?it/s]"
      ]
     },
     "metadata": {},
     "output_type": "display_data"
    },
    {
     "data": {
      "application/vnd.jupyter.widget-view+json": {
       "model_id": "70c8d87633c44e05994afcd2ad0a1e1a",
       "version_major": 2,
       "version_minor": 0
      },
      "text/plain": [
       "Iteration:   0%|          | 0/1160 [00:00<?, ?it/s]"
      ]
     },
     "metadata": {},
     "output_type": "display_data"
    },
    {
     "name": "stdout",
     "output_type": "stream",
     "text": [
      "{'loss': 0.7329568481445312, 'learning_rate': 4.978448275862069e-05, 'epoch': 0.021551724137931036, 'step': 25}\n",
      "{'loss': 0.6096640014648438, 'learning_rate': 4.9568965517241384e-05, 'epoch': 0.04310344827586207, 'step': 50}\n",
      "{'loss': 0.6685610961914062, 'learning_rate': 4.935344827586207e-05, 'epoch': 0.06465517241379311, 'step': 75}\n",
      "{'loss': 0.6038140869140625, 'learning_rate': 4.913793103448276e-05, 'epoch': 0.08620689655172414, 'step': 100}\n",
      "{'loss': 0.642603759765625, 'learning_rate': 4.892241379310345e-05, 'epoch': 0.10775862068965517, 'step': 125}\n",
      "{'loss': 0.6176510620117187, 'learning_rate': 4.870689655172414e-05, 'epoch': 0.12931034482758622, 'step': 150}\n",
      "{'loss': 0.6286431884765625, 'learning_rate': 4.849137931034483e-05, 'epoch': 0.15086206896551724, 'step': 175}\n",
      "{'loss': 0.5317636108398438, 'learning_rate': 4.827586206896552e-05, 'epoch': 0.1724137931034483, 'step': 200}\n",
      "{'loss': 0.6091281127929687, 'learning_rate': 4.806034482758621e-05, 'epoch': 0.1939655172413793, 'step': 225}\n",
      "{'loss': 0.6392254638671875, 'learning_rate': 4.78448275862069e-05, 'epoch': 0.21551724137931033, 'step': 250}\n"
     ]
    },
    {
     "data": {
      "application/vnd.jupyter.widget-view+json": {
       "model_id": "788ae7c6a4a646e79064992f4069e876",
       "version_major": 2,
       "version_minor": 0
      },
      "text/plain": [
       "Evaluation:   0%|          | 0/72 [00:00<?, ?it/s]"
      ]
     },
     "metadata": {},
     "output_type": "display_data"
    },
    {
     "name": "stdout",
     "output_type": "stream",
     "text": [
      "{'eval_loss': 0.571140755381849, 'eval_roc_auc': 0.7157981803143094, 'eval_threshold': 0.39266160130500793, 'eval_pr_auc': 0.538579544613773, 'eval_recall': 0.6505376344086021, 'eval_precision': 0.5170940170940171, 'eval_f1': 0.5761904761904763, 'eval_tn': 330, 'eval_fp': 60, 'eval_fn': 112, 'eval_tp': 74, 'epoch': 0.21551724137931033, 'step': 250}\n",
      "{'loss': 0.63719970703125, 'learning_rate': 4.762931034482759e-05, 'epoch': 0.23706896551724138, 'step': 275}\n",
      "{'loss': 0.57749755859375, 'learning_rate': 4.741379310344828e-05, 'epoch': 0.25862068965517243, 'step': 300}\n",
      "{'loss': 0.6854901123046875, 'learning_rate': 4.719827586206897e-05, 'epoch': 0.2801724137931034, 'step': 325}\n",
      "{'loss': 0.6259033203125, 'learning_rate': 4.698275862068966e-05, 'epoch': 0.3017241379310345, 'step': 350}\n",
      "{'loss': 0.6268218994140625, 'learning_rate': 4.6767241379310346e-05, 'epoch': 0.3232758620689655, 'step': 375}\n",
      "{'loss': 0.540374755859375, 'learning_rate': 4.655172413793104e-05, 'epoch': 0.3448275862068966, 'step': 400}\n",
      "{'loss': 0.48593017578125, 'learning_rate': 4.633620689655173e-05, 'epoch': 0.36637931034482757, 'step': 425}\n",
      "{'loss': 0.6775341796875, 'learning_rate': 4.612068965517242e-05, 'epoch': 0.3879310344827586, 'step': 450}\n",
      "{'loss': 0.538551025390625, 'learning_rate': 4.590517241379311e-05, 'epoch': 0.40948275862068967, 'step': 475}\n",
      "{'loss': 0.568388671875, 'learning_rate': 4.5689655172413794e-05, 'epoch': 0.43103448275862066, 'step': 500}\n"
     ]
    },
    {
     "data": {
      "application/vnd.jupyter.widget-view+json": {
       "model_id": "fa91fad1e8fc47a9bd852eccf9ac4b50",
       "version_major": 2,
       "version_minor": 0
      },
      "text/plain": [
       "Evaluation:   0%|          | 0/72 [00:00<?, ?it/s]"
      ]
     },
     "metadata": {},
     "output_type": "display_data"
    },
    {
     "name": "stderr",
     "output_type": "stream",
     "text": [
      "/opt/conda/lib/python3.7/site-packages/ipykernel_launcher.py:20: RuntimeWarning: invalid value encountered in true_divide\n"
     ]
    },
    {
     "name": "stdout",
     "output_type": "stream",
     "text": [
      "{'eval_loss': 0.5854036925981442, 'eval_roc_auc': 0.7018748276812793, 'eval_threshold': 0.2108280509710312, 'eval_pr_auc': 0.5062255826405996, 'eval_recall': 0.7634408602150538, 'eval_precision': 0.461038961038961, 'eval_f1': 0.5748987854251013, 'eval_tn': 329, 'eval_fp': 61, 'eval_fn': 123, 'eval_tp': 63, 'epoch': 0.43103448275862066, 'step': 500}\n",
      "{'loss': 0.64150390625, 'learning_rate': 4.5474137931034485e-05, 'epoch': 0.4525862068965517, 'step': 525}\n",
      "{'loss': 0.522335205078125, 'learning_rate': 4.5258620689655176e-05, 'epoch': 0.47413793103448276, 'step': 550}\n",
      "{'loss': 0.650234375, 'learning_rate': 4.504310344827587e-05, 'epoch': 0.4956896551724138, 'step': 575}\n",
      "{'loss': 0.626070556640625, 'learning_rate': 4.482758620689655e-05, 'epoch': 0.5172413793103449, 'step': 600}\n",
      "{'loss': 0.642850341796875, 'learning_rate': 4.461206896551724e-05, 'epoch': 0.5387931034482759, 'step': 625}\n",
      "{'loss': 0.655572509765625, 'learning_rate': 4.4396551724137933e-05, 'epoch': 0.5603448275862069, 'step': 650}\n",
      "{'loss': 0.584095458984375, 'learning_rate': 4.418103448275862e-05, 'epoch': 0.5818965517241379, 'step': 675}\n",
      "{'loss': 0.657681884765625, 'learning_rate': 4.396551724137931e-05, 'epoch': 0.603448275862069, 'step': 700}\n",
      "{'loss': 0.5616162109375, 'learning_rate': 4.375e-05, 'epoch': 0.625, 'step': 725}\n",
      "{'loss': 0.63243408203125, 'learning_rate': 4.353448275862069e-05, 'epoch': 0.646551724137931, 'step': 750}\n"
     ]
    },
    {
     "data": {
      "application/vnd.jupyter.widget-view+json": {
       "model_id": "27097a3da5bd4fc0a5f8e7753fa70766",
       "version_major": 2,
       "version_minor": 0
      },
      "text/plain": [
       "Evaluation:   0%|          | 0/72 [00:00<?, ?it/s]"
      ]
     },
     "metadata": {},
     "output_type": "display_data"
    },
    {
     "name": "stderr",
     "output_type": "stream",
     "text": [
      "/opt/conda/lib/python3.7/site-packages/ipykernel_launcher.py:20: RuntimeWarning: invalid value encountered in true_divide\n"
     ]
    },
    {
     "name": "stdout",
     "output_type": "stream",
     "text": [
      "{'eval_loss': 0.5469962555087275, 'eval_roc_auc': 0.7555004135649298, 'eval_threshold': 0.23558713495731354, 'eval_pr_auc': 0.5979558263838503, 'eval_recall': 0.7688172043010753, 'eval_precision': 0.5070921985815603, 'eval_f1': 0.611111111111111, 'eval_tn': 372, 'eval_fp': 18, 'eval_fn': 142, 'eval_tp': 44, 'epoch': 0.646551724137931, 'step': 750}\n",
      "{'loss': 0.760955810546875, 'learning_rate': 4.331896551724138e-05, 'epoch': 0.6681034482758621, 'step': 775}\n",
      "{'loss': 0.56223388671875, 'learning_rate': 4.3103448275862066e-05, 'epoch': 0.6896551724137931, 'step': 800}\n",
      "{'loss': 0.5667236328125, 'learning_rate': 4.288793103448276e-05, 'epoch': 0.7112068965517241, 'step': 825}\n",
      "{'loss': 0.672664794921875, 'learning_rate': 4.267241379310345e-05, 'epoch': 0.7327586206896551, 'step': 850}\n",
      "{'loss': 0.5685498046875, 'learning_rate': 4.245689655172414e-05, 'epoch': 0.7543103448275862, 'step': 875}\n",
      "{'loss': 0.59909912109375, 'learning_rate': 4.224137931034483e-05, 'epoch': 0.7758620689655172, 'step': 900}\n",
      "{'loss': 0.61183837890625, 'learning_rate': 4.202586206896552e-05, 'epoch': 0.7974137931034483, 'step': 925}\n",
      "{'loss': 0.72556396484375, 'learning_rate': 4.1810344827586205e-05, 'epoch': 0.8189655172413793, 'step': 950}\n",
      "{'loss': 0.60178466796875, 'learning_rate': 4.1594827586206896e-05, 'epoch': 0.8405172413793104, 'step': 975}\n",
      "{'loss': 0.62427001953125, 'learning_rate': 4.1379310344827587e-05, 'epoch': 0.8620689655172413, 'step': 1000}\n"
     ]
    },
    {
     "data": {
      "application/vnd.jupyter.widget-view+json": {
       "model_id": "65c5f45c6c7e470e9bb693272d9b3728",
       "version_major": 2,
       "version_minor": 0
      },
      "text/plain": [
       "Evaluation:   0%|          | 0/72 [00:00<?, ?it/s]"
      ]
     },
     "metadata": {},
     "output_type": "display_data"
    },
    {
     "name": "stderr",
     "output_type": "stream",
     "text": [
      "/opt/conda/lib/python3.7/site-packages/ipykernel_launcher.py:20: RuntimeWarning: invalid value encountered in true_divide\n"
     ]
    },
    {
     "name": "stdout",
     "output_type": "stream",
     "text": [
      "{'eval_loss': 0.5283502750098705, 'eval_roc_auc': 0.7745795423214777, 'eval_threshold': 0.29524073004722595, 'eval_pr_auc': 0.6061894631737952, 'eval_recall': 0.7688172043010753, 'eval_precision': 0.5375939849624061, 'eval_f1': 0.6327433628318584, 'eval_tn': 359, 'eval_fp': 31, 'eval_fn': 118, 'eval_tp': 68, 'epoch': 0.8620689655172413, 'step': 1000}\n",
      "{'loss': 0.59927734375, 'learning_rate': 4.116379310344828e-05, 'epoch': 0.8836206896551724, 'step': 1025}\n",
      "{'loss': 0.5568017578125, 'learning_rate': 4.094827586206897e-05, 'epoch': 0.9051724137931034, 'step': 1050}\n",
      "{'loss': 0.570390625, 'learning_rate': 4.073275862068966e-05, 'epoch': 0.9267241379310345, 'step': 1075}\n",
      "{'loss': 0.60729248046875, 'learning_rate': 4.0517241379310344e-05, 'epoch': 0.9482758620689655, 'step': 1100}\n",
      "{'loss': 0.5515869140625, 'learning_rate': 4.0301724137931035e-05, 'epoch': 0.9698275862068966, 'step': 1125}\n",
      "{'loss': 0.5043212890625, 'learning_rate': 4.0086206896551726e-05, 'epoch': 0.9913793103448276, 'step': 1150}\n"
     ]
    },
    {
     "data": {
      "application/vnd.jupyter.widget-view+json": {
       "model_id": "81735dbfa5a041a9aa5fc9301c9140bb",
       "version_major": 2,
       "version_minor": 0
      },
      "text/plain": [
       "Iteration:   0%|          | 0/1160 [00:00<?, ?it/s]"
      ]
     },
     "metadata": {},
     "output_type": "display_data"
    },
    {
     "name": "stdout",
     "output_type": "stream",
     "text": [
      "{'loss': 0.57208251953125, 'learning_rate': 3.9870689655172416e-05, 'epoch': 1.0129310344827587, 'step': 1175}\n",
      "{'loss': 0.55347900390625, 'learning_rate': 3.965517241379311e-05, 'epoch': 1.0344827586206897, 'step': 1200}\n",
      "{'loss': 0.48760986328125, 'learning_rate': 3.94396551724138e-05, 'epoch': 1.0560344827586208, 'step': 1225}\n",
      "{'loss': 0.63018798828125, 'learning_rate': 3.922413793103448e-05, 'epoch': 1.0775862068965518, 'step': 1250}\n"
     ]
    },
    {
     "data": {
      "application/vnd.jupyter.widget-view+json": {
       "model_id": "d2bb1507ef614ed38ba4ff322c9d23fa",
       "version_major": 2,
       "version_minor": 0
      },
      "text/plain": [
       "Evaluation:   0%|          | 0/72 [00:00<?, ?it/s]"
      ]
     },
     "metadata": {},
     "output_type": "display_data"
    },
    {
     "name": "stdout",
     "output_type": "stream",
     "text": [
      "{'eval_loss': 0.5352216431250175, 'eval_roc_auc': 0.7588089330024815, 'eval_threshold': 0.26584872603416443, 'eval_pr_auc': 0.5922371253809741, 'eval_recall': 0.7795698924731183, 'eval_precision': 0.5197132616487455, 'eval_f1': 0.6236559139784947, 'eval_tn': 355, 'eval_fp': 35, 'eval_fn': 119, 'eval_tp': 67, 'epoch': 1.0775862068965518, 'step': 1250}\n",
      "{'loss': 0.53931396484375, 'learning_rate': 3.9008620689655174e-05, 'epoch': 1.0991379310344827, 'step': 1275}\n",
      "{'loss': 0.62081787109375, 'learning_rate': 3.8793103448275865e-05, 'epoch': 1.1206896551724137, 'step': 1300}\n",
      "{'loss': 0.60524169921875, 'learning_rate': 3.8577586206896555e-05, 'epoch': 1.1422413793103448, 'step': 1325}\n",
      "{'loss': 0.6106298828125, 'learning_rate': 3.8362068965517246e-05, 'epoch': 1.1637931034482758, 'step': 1350}\n",
      "{'loss': 0.52974853515625, 'learning_rate': 3.814655172413794e-05, 'epoch': 1.1853448275862069, 'step': 1375}\n",
      "{'loss': 0.6096630859375, 'learning_rate': 3.793103448275862e-05, 'epoch': 1.206896551724138, 'step': 1400}\n",
      "{'loss': 0.52392333984375, 'learning_rate': 3.771551724137931e-05, 'epoch': 1.228448275862069, 'step': 1425}\n",
      "{'loss': 0.60351806640625, 'learning_rate': 3.7500000000000003e-05, 'epoch': 1.25, 'step': 1450}\n",
      "{'loss': 0.586845703125, 'learning_rate': 3.7284482758620694e-05, 'epoch': 1.271551724137931, 'step': 1475}\n",
      "{'loss': 0.55825439453125, 'learning_rate': 3.7068965517241385e-05, 'epoch': 1.293103448275862, 'step': 1500}\n"
     ]
    },
    {
     "data": {
      "application/vnd.jupyter.widget-view+json": {
       "model_id": "a1986dd6ad4246f985044e9fc0fed01f",
       "version_major": 2,
       "version_minor": 0
      },
      "text/plain": [
       "Evaluation:   0%|          | 0/72 [00:00<?, ?it/s]"
      ]
     },
     "metadata": {},
     "output_type": "display_data"
    },
    {
     "name": "stdout",
     "output_type": "stream",
     "text": [
      "{'eval_loss': 0.529348997813132, 'eval_roc_auc': 0.7674524400330853, 'eval_threshold': 0.36584705114364624, 'eval_pr_auc': 0.6051101215550081, 'eval_recall': 0.6344086021505376, 'eval_precision': 0.6178010471204188, 'eval_f1': 0.6259946949602122, 'eval_tn': 359, 'eval_fp': 31, 'eval_fn': 116, 'eval_tp': 70, 'epoch': 1.293103448275862, 'step': 1500}\n",
      "{'loss': 0.679052734375, 'learning_rate': 3.685344827586207e-05, 'epoch': 1.3146551724137931, 'step': 1525}\n",
      "{'loss': 0.62488525390625, 'learning_rate': 3.663793103448276e-05, 'epoch': 1.3362068965517242, 'step': 1550}\n",
      "{'loss': 0.547412109375, 'learning_rate': 3.642241379310345e-05, 'epoch': 1.3577586206896552, 'step': 1575}\n",
      "{'loss': 0.66468505859375, 'learning_rate': 3.620689655172414e-05, 'epoch': 1.3793103448275863, 'step': 1600}\n",
      "{'loss': 0.65642578125, 'learning_rate': 3.5991379310344833e-05, 'epoch': 1.4008620689655173, 'step': 1625}\n",
      "{'loss': 0.6310986328125, 'learning_rate': 3.5775862068965524e-05, 'epoch': 1.4224137931034484, 'step': 1650}\n",
      "{'loss': 0.5741064453125, 'learning_rate': 3.556034482758621e-05, 'epoch': 1.4439655172413794, 'step': 1675}\n",
      "{'loss': 0.617783203125, 'learning_rate': 3.53448275862069e-05, 'epoch': 1.4655172413793103, 'step': 1700}\n",
      "{'loss': 0.5218408203125, 'learning_rate': 3.512931034482759e-05, 'epoch': 1.4870689655172413, 'step': 1725}\n",
      "{'loss': 0.579814453125, 'learning_rate': 3.4913793103448275e-05, 'epoch': 1.5086206896551724, 'step': 1750}\n"
     ]
    },
    {
     "data": {
      "application/vnd.jupyter.widget-view+json": {
       "model_id": "5fd81651597e4055a9d461f0f606ef1d",
       "version_major": 2,
       "version_minor": 0
      },
      "text/plain": [
       "Evaluation:   0%|          | 0/72 [00:00<?, ?it/s]"
      ]
     },
     "metadata": {},
     "output_type": "display_data"
    },
    {
     "name": "stderr",
     "output_type": "stream",
     "text": [
      "/opt/conda/lib/python3.7/site-packages/ipykernel_launcher.py:20: RuntimeWarning: invalid value encountered in true_divide\n"
     ]
    },
    {
     "name": "stdout",
     "output_type": "stream",
     "text": [
      "{'eval_loss': 0.5372722078528669, 'eval_roc_auc': 0.7675765095119934, 'eval_threshold': 0.3246932923793793, 'eval_pr_auc': 0.6059458167644938, 'eval_recall': 0.6182795698924731, 'eval_precision': 0.6149732620320856, 'eval_f1': 0.6166219839142091, 'eval_tn': 371, 'eval_fp': 19, 'eval_fn': 133, 'eval_tp': 53, 'epoch': 1.5086206896551724, 'step': 1750}\n",
      "{'loss': 0.72595703125, 'learning_rate': 3.4698275862068966e-05, 'epoch': 1.5301724137931034, 'step': 1775}\n",
      "{'loss': 0.585771484375, 'learning_rate': 3.4482758620689657e-05, 'epoch': 1.5517241379310345, 'step': 1800}\n",
      "{'loss': 0.5639697265625, 'learning_rate': 3.426724137931035e-05, 'epoch': 1.5732758620689655, 'step': 1825}\n",
      "{'loss': 0.553359375, 'learning_rate': 3.405172413793103e-05, 'epoch': 1.5948275862068966, 'step': 1850}\n",
      "{'loss': 0.5990087890625, 'learning_rate': 3.383620689655172e-05, 'epoch': 1.6163793103448276, 'step': 1875}\n",
      "{'loss': 0.660166015625, 'learning_rate': 3.3620689655172414e-05, 'epoch': 1.6379310344827587, 'step': 1900}\n"
     ]
    },
    {
     "ename": "KeyboardInterrupt",
     "evalue": "",
     "output_type": "error",
     "traceback": [
      "\u001b[0;31m---------------------------------------------------------------------------\u001b[0m",
      "\u001b[0;31mKeyboardInterrupt\u001b[0m                         Traceback (most recent call last)",
      "\u001b[0;32m<timed eval>\u001b[0m in \u001b[0;36m<module>\u001b[0;34m\u001b[0m\n",
      "\u001b[0;32m/opt/conda/lib/python3.7/site-packages/transformers/trainer.py\u001b[0m in \u001b[0;36mtrain\u001b[0;34m(self, model_path, trial)\u001b[0m\n\u001b[1;32m    705\u001b[0m                     \u001b[0;32mcontinue\u001b[0m\u001b[0;34m\u001b[0m\u001b[0;34m\u001b[0m\u001b[0m\n\u001b[1;32m    706\u001b[0m \u001b[0;34m\u001b[0m\u001b[0m\n\u001b[0;32m--> 707\u001b[0;31m                 \u001b[0mtr_loss\u001b[0m \u001b[0;34m+=\u001b[0m \u001b[0mself\u001b[0m\u001b[0;34m.\u001b[0m\u001b[0mtraining_step\u001b[0m\u001b[0;34m(\u001b[0m\u001b[0mmodel\u001b[0m\u001b[0;34m,\u001b[0m \u001b[0minputs\u001b[0m\u001b[0;34m)\u001b[0m\u001b[0;34m\u001b[0m\u001b[0;34m\u001b[0m\u001b[0m\n\u001b[0m\u001b[1;32m    708\u001b[0m \u001b[0;34m\u001b[0m\u001b[0m\n\u001b[1;32m    709\u001b[0m                 if (step + 1) % self.args.gradient_accumulation_steps == 0 or (\n",
      "\u001b[0;32m/opt/conda/lib/python3.7/site-packages/transformers/trainer.py\u001b[0m in \u001b[0;36mtraining_step\u001b[0;34m(self, model, inputs)\u001b[0m\n\u001b[1;32m   1011\u001b[0m                 \u001b[0mscaled_loss\u001b[0m\u001b[0;34m.\u001b[0m\u001b[0mbackward\u001b[0m\u001b[0;34m(\u001b[0m\u001b[0;34m)\u001b[0m\u001b[0;34m\u001b[0m\u001b[0;34m\u001b[0m\u001b[0m\n\u001b[1;32m   1012\u001b[0m         \u001b[0;32melse\u001b[0m\u001b[0;34m:\u001b[0m\u001b[0;34m\u001b[0m\u001b[0;34m\u001b[0m\u001b[0m\n\u001b[0;32m-> 1013\u001b[0;31m             \u001b[0mloss\u001b[0m\u001b[0;34m.\u001b[0m\u001b[0mbackward\u001b[0m\u001b[0;34m(\u001b[0m\u001b[0;34m)\u001b[0m\u001b[0;34m\u001b[0m\u001b[0;34m\u001b[0m\u001b[0m\n\u001b[0m\u001b[1;32m   1014\u001b[0m \u001b[0;34m\u001b[0m\u001b[0m\n\u001b[1;32m   1015\u001b[0m         \u001b[0;32mreturn\u001b[0m \u001b[0mloss\u001b[0m\u001b[0;34m\u001b[0m\u001b[0;34m\u001b[0m\u001b[0m\n",
      "\u001b[0;32m/opt/conda/lib/python3.7/site-packages/torch/tensor.py\u001b[0m in \u001b[0;36mbackward\u001b[0;34m(self, gradient, retain_graph, create_graph, inputs)\u001b[0m\n\u001b[1;32m    243\u001b[0m                 \u001b[0mcreate_graph\u001b[0m\u001b[0;34m=\u001b[0m\u001b[0mcreate_graph\u001b[0m\u001b[0;34m,\u001b[0m\u001b[0;34m\u001b[0m\u001b[0;34m\u001b[0m\u001b[0m\n\u001b[1;32m    244\u001b[0m                 inputs=inputs)\n\u001b[0;32m--> 245\u001b[0;31m         \u001b[0mtorch\u001b[0m\u001b[0;34m.\u001b[0m\u001b[0mautograd\u001b[0m\u001b[0;34m.\u001b[0m\u001b[0mbackward\u001b[0m\u001b[0;34m(\u001b[0m\u001b[0mself\u001b[0m\u001b[0;34m,\u001b[0m \u001b[0mgradient\u001b[0m\u001b[0;34m,\u001b[0m \u001b[0mretain_graph\u001b[0m\u001b[0;34m,\u001b[0m \u001b[0mcreate_graph\u001b[0m\u001b[0;34m,\u001b[0m \u001b[0minputs\u001b[0m\u001b[0;34m=\u001b[0m\u001b[0minputs\u001b[0m\u001b[0;34m)\u001b[0m\u001b[0;34m\u001b[0m\u001b[0;34m\u001b[0m\u001b[0m\n\u001b[0m\u001b[1;32m    246\u001b[0m \u001b[0;34m\u001b[0m\u001b[0m\n\u001b[1;32m    247\u001b[0m     \u001b[0;32mdef\u001b[0m \u001b[0mregister_hook\u001b[0m\u001b[0;34m(\u001b[0m\u001b[0mself\u001b[0m\u001b[0;34m,\u001b[0m \u001b[0mhook\u001b[0m\u001b[0;34m)\u001b[0m\u001b[0;34m:\u001b[0m\u001b[0;34m\u001b[0m\u001b[0;34m\u001b[0m\u001b[0m\n",
      "\u001b[0;32m/opt/conda/lib/python3.7/site-packages/torch/autograd/__init__.py\u001b[0m in \u001b[0;36mbackward\u001b[0;34m(tensors, grad_tensors, retain_graph, create_graph, grad_variables, inputs)\u001b[0m\n\u001b[1;32m    145\u001b[0m     Variable._execution_engine.run_backward(\n\u001b[1;32m    146\u001b[0m         \u001b[0mtensors\u001b[0m\u001b[0;34m,\u001b[0m \u001b[0mgrad_tensors_\u001b[0m\u001b[0;34m,\u001b[0m \u001b[0mretain_graph\u001b[0m\u001b[0;34m,\u001b[0m \u001b[0mcreate_graph\u001b[0m\u001b[0;34m,\u001b[0m \u001b[0minputs\u001b[0m\u001b[0;34m,\u001b[0m\u001b[0;34m\u001b[0m\u001b[0;34m\u001b[0m\u001b[0m\n\u001b[0;32m--> 147\u001b[0;31m         allow_unreachable=True, accumulate_grad=True)  # allow_unreachable flag\n\u001b[0m\u001b[1;32m    148\u001b[0m \u001b[0;34m\u001b[0m\u001b[0m\n\u001b[1;32m    149\u001b[0m \u001b[0;34m\u001b[0m\u001b[0m\n",
      "\u001b[0;31mKeyboardInterrupt\u001b[0m: "
     ]
    }
   ],
   "source": [
    "%%time\n",
    "trainer.train()"
   ]
  },
  {
   "cell_type": "code",
   "execution_count": 147,
   "id": "killing-slide",
   "metadata": {},
   "outputs": [
    {
     "name": "stdout",
     "output_type": "stream",
     "text": [
      "The tensorboard extension is already loaded. To reload it, use:\n",
      "  %reload_ext tensorboard\n"
     ]
    }
   ],
   "source": [
    "# Load the TensorBoard notebook extension\n",
    "%load_ext tensorboard"
   ]
  },
  {
   "cell_type": "code",
   "execution_count": 148,
   "id": "dietary-dallas",
   "metadata": {},
   "outputs": [
    {
     "data": {
      "text/html": [
       "\n",
       "      <iframe id=\"tensorboard-frame-1c80317fa3b1799d\" width=\"100%\" height=\"800\" frameborder=\"0\">\n",
       "      </iframe>\n",
       "      <script>\n",
       "        (function() {\n",
       "          const frame = document.getElementById(\"tensorboard-frame-1c80317fa3b1799d\");\n",
       "          const url = new URL(\"/\", window.location);\n",
       "          const port = 6006;\n",
       "          if (port) {\n",
       "            url.port = port;\n",
       "          }\n",
       "          frame.src = url;\n",
       "        })();\n",
       "      </script>\n",
       "    "
      ],
      "text/plain": [
       "<IPython.core.display.HTML object>"
      ]
     },
     "metadata": {},
     "output_type": "display_data"
    }
   ],
   "source": [
    "%tensorboard --logdir ./logs/runs"
   ]
  },
  {
   "cell_type": "code",
   "execution_count": null,
   "id": "split-diversity",
   "metadata": {},
   "outputs": [],
   "source": []
  },
  {
   "cell_type": "markdown",
   "id": "particular-ambassador",
   "metadata": {},
   "source": [
    "### Inference"
   ]
  },
  {
   "cell_type": "code",
   "execution_count": 149,
   "id": "official-hours",
   "metadata": {},
   "outputs": [
    {
     "data": {
      "application/vnd.jupyter.widget-view+json": {
       "model_id": "87c3309e92d5448d9548a2d1a6399f96",
       "version_major": 2,
       "version_minor": 0
      },
      "text/plain": [
       "Prediction:   0%|          | 0/72 [00:00<?, ?it/s]"
      ]
     },
     "metadata": {},
     "output_type": "display_data"
    },
    {
     "ename": "ValueError",
     "evalue": "Input contains NaN, infinity or a value too large for dtype('float64').",
     "output_type": "error",
     "traceback": [
      "\u001b[0;31m---------------------------------------------------------------------------\u001b[0m",
      "\u001b[0;31mValueError\u001b[0m                                Traceback (most recent call last)",
      "\u001b[0;32m<ipython-input-149-4befca776f55>\u001b[0m in \u001b[0;36m<module>\u001b[0;34m\u001b[0m\n\u001b[0;32m----> 1\u001b[0;31m \u001b[0mresult\u001b[0m \u001b[0;34m=\u001b[0m \u001b[0mtrainer\u001b[0m\u001b[0;34m.\u001b[0m\u001b[0mpredict\u001b[0m\u001b[0;34m(\u001b[0m\u001b[0mtest_dataset\u001b[0m\u001b[0;34m=\u001b[0m\u001b[0mtest_dataset\u001b[0m\u001b[0;34m)\u001b[0m\u001b[0;34m\u001b[0m\u001b[0;34m\u001b[0m\u001b[0m\n\u001b[0m",
      "\u001b[0;32m/opt/conda/lib/python3.7/site-packages/transformers/trainer.py\u001b[0m in \u001b[0;36mpredict\u001b[0;34m(self, test_dataset)\u001b[0m\n\u001b[1;32m   1188\u001b[0m         \u001b[0mtest_dataloader\u001b[0m \u001b[0;34m=\u001b[0m \u001b[0mself\u001b[0m\u001b[0;34m.\u001b[0m\u001b[0mget_test_dataloader\u001b[0m\u001b[0;34m(\u001b[0m\u001b[0mtest_dataset\u001b[0m\u001b[0;34m)\u001b[0m\u001b[0;34m\u001b[0m\u001b[0;34m\u001b[0m\u001b[0m\n\u001b[1;32m   1189\u001b[0m \u001b[0;34m\u001b[0m\u001b[0m\n\u001b[0;32m-> 1190\u001b[0;31m         \u001b[0;32mreturn\u001b[0m \u001b[0mself\u001b[0m\u001b[0;34m.\u001b[0m\u001b[0mprediction_loop\u001b[0m\u001b[0;34m(\u001b[0m\u001b[0mtest_dataloader\u001b[0m\u001b[0;34m,\u001b[0m \u001b[0mdescription\u001b[0m\u001b[0;34m=\u001b[0m\u001b[0;34m\"Prediction\"\u001b[0m\u001b[0;34m)\u001b[0m\u001b[0;34m\u001b[0m\u001b[0;34m\u001b[0m\u001b[0m\n\u001b[0m\u001b[1;32m   1191\u001b[0m \u001b[0;34m\u001b[0m\u001b[0m\n\u001b[1;32m   1192\u001b[0m     def prediction_loop(\n",
      "\u001b[0;32m/opt/conda/lib/python3.7/site-packages/transformers/trainer.py\u001b[0m in \u001b[0;36mprediction_loop\u001b[0;34m(self, dataloader, description, prediction_loss_only)\u001b[0m\n\u001b[1;32m   1274\u001b[0m \u001b[0;34m\u001b[0m\u001b[0m\n\u001b[1;32m   1275\u001b[0m         \u001b[0;32mif\u001b[0m \u001b[0mself\u001b[0m\u001b[0;34m.\u001b[0m\u001b[0mcompute_metrics\u001b[0m \u001b[0;32mis\u001b[0m \u001b[0;32mnot\u001b[0m \u001b[0;32mNone\u001b[0m \u001b[0;32mand\u001b[0m \u001b[0mpreds\u001b[0m \u001b[0;32mis\u001b[0m \u001b[0;32mnot\u001b[0m \u001b[0;32mNone\u001b[0m \u001b[0;32mand\u001b[0m \u001b[0mlabel_ids\u001b[0m \u001b[0;32mis\u001b[0m \u001b[0;32mnot\u001b[0m \u001b[0;32mNone\u001b[0m\u001b[0;34m:\u001b[0m\u001b[0;34m\u001b[0m\u001b[0;34m\u001b[0m\u001b[0m\n\u001b[0;32m-> 1276\u001b[0;31m             \u001b[0mmetrics\u001b[0m \u001b[0;34m=\u001b[0m \u001b[0mself\u001b[0m\u001b[0;34m.\u001b[0m\u001b[0mcompute_metrics\u001b[0m\u001b[0;34m(\u001b[0m\u001b[0mEvalPrediction\u001b[0m\u001b[0;34m(\u001b[0m\u001b[0mpredictions\u001b[0m\u001b[0;34m=\u001b[0m\u001b[0mpreds\u001b[0m\u001b[0;34m,\u001b[0m \u001b[0mlabel_ids\u001b[0m\u001b[0;34m=\u001b[0m\u001b[0mlabel_ids\u001b[0m\u001b[0;34m)\u001b[0m\u001b[0;34m)\u001b[0m\u001b[0;34m\u001b[0m\u001b[0;34m\u001b[0m\u001b[0m\n\u001b[0m\u001b[1;32m   1277\u001b[0m         \u001b[0;32melse\u001b[0m\u001b[0;34m:\u001b[0m\u001b[0;34m\u001b[0m\u001b[0;34m\u001b[0m\u001b[0m\n\u001b[1;32m   1278\u001b[0m             \u001b[0mmetrics\u001b[0m \u001b[0;34m=\u001b[0m \u001b[0;34m{\u001b[0m\u001b[0;34m}\u001b[0m\u001b[0;34m\u001b[0m\u001b[0;34m\u001b[0m\u001b[0m\n",
      "\u001b[0;32m<ipython-input-143-6fd2e5c57715>\u001b[0m in \u001b[0;36mcalc_classification_metrics\u001b[0;34m(p)\u001b[0m\n\u001b[1;32m     33\u001b[0m     \u001b[0;32melse\u001b[0m\u001b[0;34m:\u001b[0m\u001b[0;34m\u001b[0m\u001b[0;34m\u001b[0m\u001b[0m\n\u001b[1;32m     34\u001b[0m         \u001b[0macc\u001b[0m \u001b[0;34m=\u001b[0m \u001b[0;34m(\u001b[0m\u001b[0mpred_labels\u001b[0m \u001b[0;34m==\u001b[0m \u001b[0mlabels\u001b[0m\u001b[0;34m)\u001b[0m\u001b[0;34m.\u001b[0m\u001b[0mmean\u001b[0m\u001b[0;34m(\u001b[0m\u001b[0;34m)\u001b[0m\u001b[0;34m\u001b[0m\u001b[0;34m\u001b[0m\u001b[0m\n\u001b[0;32m---> 35\u001b[0;31m         \u001b[0mf1\u001b[0m \u001b[0;34m=\u001b[0m \u001b[0mf1_score\u001b[0m\u001b[0;34m(\u001b[0m\u001b[0my_true\u001b[0m\u001b[0;34m=\u001b[0m\u001b[0mlabels\u001b[0m\u001b[0;34m,\u001b[0m \u001b[0my_pred\u001b[0m\u001b[0;34m=\u001b[0m\u001b[0mpred_labels\u001b[0m\u001b[0;34m)\u001b[0m\u001b[0;34m\u001b[0m\u001b[0;34m\u001b[0m\u001b[0m\n\u001b[0m\u001b[1;32m     36\u001b[0m         result = {\n\u001b[1;32m     37\u001b[0m           \u001b[0;34m\"acc\"\u001b[0m\u001b[0;34m:\u001b[0m \u001b[0macc\u001b[0m\u001b[0;34m,\u001b[0m\u001b[0;34m\u001b[0m\u001b[0;34m\u001b[0m\u001b[0m\n",
      "\u001b[0;32m/opt/conda/lib/python3.7/site-packages/sklearn/utils/validation.py\u001b[0m in \u001b[0;36minner_f\u001b[0;34m(*args, **kwargs)\u001b[0m\n\u001b[1;32m     61\u001b[0m             \u001b[0mextra_args\u001b[0m \u001b[0;34m=\u001b[0m \u001b[0mlen\u001b[0m\u001b[0;34m(\u001b[0m\u001b[0margs\u001b[0m\u001b[0;34m)\u001b[0m \u001b[0;34m-\u001b[0m \u001b[0mlen\u001b[0m\u001b[0;34m(\u001b[0m\u001b[0mall_args\u001b[0m\u001b[0;34m)\u001b[0m\u001b[0;34m\u001b[0m\u001b[0;34m\u001b[0m\u001b[0m\n\u001b[1;32m     62\u001b[0m             \u001b[0;32mif\u001b[0m \u001b[0mextra_args\u001b[0m \u001b[0;34m<=\u001b[0m \u001b[0;36m0\u001b[0m\u001b[0;34m:\u001b[0m\u001b[0;34m\u001b[0m\u001b[0;34m\u001b[0m\u001b[0m\n\u001b[0;32m---> 63\u001b[0;31m                 \u001b[0;32mreturn\u001b[0m \u001b[0mf\u001b[0m\u001b[0;34m(\u001b[0m\u001b[0;34m*\u001b[0m\u001b[0margs\u001b[0m\u001b[0;34m,\u001b[0m \u001b[0;34m**\u001b[0m\u001b[0mkwargs\u001b[0m\u001b[0;34m)\u001b[0m\u001b[0;34m\u001b[0m\u001b[0;34m\u001b[0m\u001b[0m\n\u001b[0m\u001b[1;32m     64\u001b[0m \u001b[0;34m\u001b[0m\u001b[0m\n\u001b[1;32m     65\u001b[0m             \u001b[0;31m# extra_args > 0\u001b[0m\u001b[0;34m\u001b[0m\u001b[0;34m\u001b[0m\u001b[0;34m\u001b[0m\u001b[0m\n",
      "\u001b[0;32m/opt/conda/lib/python3.7/site-packages/sklearn/metrics/_classification.py\u001b[0m in \u001b[0;36mf1_score\u001b[0;34m(y_true, y_pred, labels, pos_label, average, sample_weight, zero_division)\u001b[0m\n\u001b[1;32m   1069\u001b[0m                        \u001b[0mpos_label\u001b[0m\u001b[0;34m=\u001b[0m\u001b[0mpos_label\u001b[0m\u001b[0;34m,\u001b[0m \u001b[0maverage\u001b[0m\u001b[0;34m=\u001b[0m\u001b[0maverage\u001b[0m\u001b[0;34m,\u001b[0m\u001b[0;34m\u001b[0m\u001b[0;34m\u001b[0m\u001b[0m\n\u001b[1;32m   1070\u001b[0m                        \u001b[0msample_weight\u001b[0m\u001b[0;34m=\u001b[0m\u001b[0msample_weight\u001b[0m\u001b[0;34m,\u001b[0m\u001b[0;34m\u001b[0m\u001b[0;34m\u001b[0m\u001b[0m\n\u001b[0;32m-> 1071\u001b[0;31m                        zero_division=zero_division)\n\u001b[0m\u001b[1;32m   1072\u001b[0m \u001b[0;34m\u001b[0m\u001b[0m\n\u001b[1;32m   1073\u001b[0m \u001b[0;34m\u001b[0m\u001b[0m\n",
      "\u001b[0;32m/opt/conda/lib/python3.7/site-packages/sklearn/utils/validation.py\u001b[0m in \u001b[0;36minner_f\u001b[0;34m(*args, **kwargs)\u001b[0m\n\u001b[1;32m     61\u001b[0m             \u001b[0mextra_args\u001b[0m \u001b[0;34m=\u001b[0m \u001b[0mlen\u001b[0m\u001b[0;34m(\u001b[0m\u001b[0margs\u001b[0m\u001b[0;34m)\u001b[0m \u001b[0;34m-\u001b[0m \u001b[0mlen\u001b[0m\u001b[0;34m(\u001b[0m\u001b[0mall_args\u001b[0m\u001b[0;34m)\u001b[0m\u001b[0;34m\u001b[0m\u001b[0;34m\u001b[0m\u001b[0m\n\u001b[1;32m     62\u001b[0m             \u001b[0;32mif\u001b[0m \u001b[0mextra_args\u001b[0m \u001b[0;34m<=\u001b[0m \u001b[0;36m0\u001b[0m\u001b[0;34m:\u001b[0m\u001b[0;34m\u001b[0m\u001b[0;34m\u001b[0m\u001b[0m\n\u001b[0;32m---> 63\u001b[0;31m                 \u001b[0;32mreturn\u001b[0m \u001b[0mf\u001b[0m\u001b[0;34m(\u001b[0m\u001b[0;34m*\u001b[0m\u001b[0margs\u001b[0m\u001b[0;34m,\u001b[0m \u001b[0;34m**\u001b[0m\u001b[0mkwargs\u001b[0m\u001b[0;34m)\u001b[0m\u001b[0;34m\u001b[0m\u001b[0;34m\u001b[0m\u001b[0m\n\u001b[0m\u001b[1;32m     64\u001b[0m \u001b[0;34m\u001b[0m\u001b[0m\n\u001b[1;32m     65\u001b[0m             \u001b[0;31m# extra_args > 0\u001b[0m\u001b[0;34m\u001b[0m\u001b[0;34m\u001b[0m\u001b[0;34m\u001b[0m\u001b[0m\n",
      "\u001b[0;32m/opt/conda/lib/python3.7/site-packages/sklearn/metrics/_classification.py\u001b[0m in \u001b[0;36mfbeta_score\u001b[0;34m(y_true, y_pred, beta, labels, pos_label, average, sample_weight, zero_division)\u001b[0m\n\u001b[1;32m   1197\u001b[0m                                                  \u001b[0mwarn_for\u001b[0m\u001b[0;34m=\u001b[0m\u001b[0;34m(\u001b[0m\u001b[0;34m'f-score'\u001b[0m\u001b[0;34m,\u001b[0m\u001b[0;34m)\u001b[0m\u001b[0;34m,\u001b[0m\u001b[0;34m\u001b[0m\u001b[0;34m\u001b[0m\u001b[0m\n\u001b[1;32m   1198\u001b[0m                                                  \u001b[0msample_weight\u001b[0m\u001b[0;34m=\u001b[0m\u001b[0msample_weight\u001b[0m\u001b[0;34m,\u001b[0m\u001b[0;34m\u001b[0m\u001b[0;34m\u001b[0m\u001b[0m\n\u001b[0;32m-> 1199\u001b[0;31m                                                  zero_division=zero_division)\n\u001b[0m\u001b[1;32m   1200\u001b[0m     \u001b[0;32mreturn\u001b[0m \u001b[0mf\u001b[0m\u001b[0;34m\u001b[0m\u001b[0;34m\u001b[0m\u001b[0m\n\u001b[1;32m   1201\u001b[0m \u001b[0;34m\u001b[0m\u001b[0m\n",
      "\u001b[0;32m/opt/conda/lib/python3.7/site-packages/sklearn/utils/validation.py\u001b[0m in \u001b[0;36minner_f\u001b[0;34m(*args, **kwargs)\u001b[0m\n\u001b[1;32m     61\u001b[0m             \u001b[0mextra_args\u001b[0m \u001b[0;34m=\u001b[0m \u001b[0mlen\u001b[0m\u001b[0;34m(\u001b[0m\u001b[0margs\u001b[0m\u001b[0;34m)\u001b[0m \u001b[0;34m-\u001b[0m \u001b[0mlen\u001b[0m\u001b[0;34m(\u001b[0m\u001b[0mall_args\u001b[0m\u001b[0;34m)\u001b[0m\u001b[0;34m\u001b[0m\u001b[0;34m\u001b[0m\u001b[0m\n\u001b[1;32m     62\u001b[0m             \u001b[0;32mif\u001b[0m \u001b[0mextra_args\u001b[0m \u001b[0;34m<=\u001b[0m \u001b[0;36m0\u001b[0m\u001b[0;34m:\u001b[0m\u001b[0;34m\u001b[0m\u001b[0;34m\u001b[0m\u001b[0m\n\u001b[0;32m---> 63\u001b[0;31m                 \u001b[0;32mreturn\u001b[0m \u001b[0mf\u001b[0m\u001b[0;34m(\u001b[0m\u001b[0;34m*\u001b[0m\u001b[0margs\u001b[0m\u001b[0;34m,\u001b[0m \u001b[0;34m**\u001b[0m\u001b[0mkwargs\u001b[0m\u001b[0;34m)\u001b[0m\u001b[0;34m\u001b[0m\u001b[0;34m\u001b[0m\u001b[0m\n\u001b[0m\u001b[1;32m     64\u001b[0m \u001b[0;34m\u001b[0m\u001b[0m\n\u001b[1;32m     65\u001b[0m             \u001b[0;31m# extra_args > 0\u001b[0m\u001b[0;34m\u001b[0m\u001b[0;34m\u001b[0m\u001b[0;34m\u001b[0m\u001b[0m\n",
      "\u001b[0;32m/opt/conda/lib/python3.7/site-packages/sklearn/metrics/_classification.py\u001b[0m in \u001b[0;36mprecision_recall_fscore_support\u001b[0;34m(y_true, y_pred, beta, labels, pos_label, average, warn_for, sample_weight, zero_division)\u001b[0m\n\u001b[1;32m   1460\u001b[0m         \u001b[0;32mraise\u001b[0m \u001b[0mValueError\u001b[0m\u001b[0;34m(\u001b[0m\u001b[0;34m\"beta should be >=0 in the F-beta score\"\u001b[0m\u001b[0;34m)\u001b[0m\u001b[0;34m\u001b[0m\u001b[0;34m\u001b[0m\u001b[0m\n\u001b[1;32m   1461\u001b[0m     labels = _check_set_wise_labels(y_true, y_pred, average, labels,\n\u001b[0;32m-> 1462\u001b[0;31m                                     pos_label)\n\u001b[0m\u001b[1;32m   1463\u001b[0m \u001b[0;34m\u001b[0m\u001b[0m\n\u001b[1;32m   1464\u001b[0m     \u001b[0;31m# Calculate tp_sum, pred_sum, true_sum ###\u001b[0m\u001b[0;34m\u001b[0m\u001b[0;34m\u001b[0m\u001b[0;34m\u001b[0m\u001b[0m\n",
      "\u001b[0;32m/opt/conda/lib/python3.7/site-packages/sklearn/metrics/_classification.py\u001b[0m in \u001b[0;36m_check_set_wise_labels\u001b[0;34m(y_true, y_pred, average, labels, pos_label)\u001b[0m\n\u001b[1;32m   1272\u001b[0m                          str(average_options))\n\u001b[1;32m   1273\u001b[0m \u001b[0;34m\u001b[0m\u001b[0m\n\u001b[0;32m-> 1274\u001b[0;31m     \u001b[0my_type\u001b[0m\u001b[0;34m,\u001b[0m \u001b[0my_true\u001b[0m\u001b[0;34m,\u001b[0m \u001b[0my_pred\u001b[0m \u001b[0;34m=\u001b[0m \u001b[0m_check_targets\u001b[0m\u001b[0;34m(\u001b[0m\u001b[0my_true\u001b[0m\u001b[0;34m,\u001b[0m \u001b[0my_pred\u001b[0m\u001b[0;34m)\u001b[0m\u001b[0;34m\u001b[0m\u001b[0;34m\u001b[0m\u001b[0m\n\u001b[0m\u001b[1;32m   1275\u001b[0m     \u001b[0;31m# Convert to Python primitive type to avoid NumPy type / Python str\u001b[0m\u001b[0;34m\u001b[0m\u001b[0;34m\u001b[0m\u001b[0;34m\u001b[0m\u001b[0m\n\u001b[1;32m   1276\u001b[0m     \u001b[0;31m# comparison. See https://github.com/numpy/numpy/issues/6784\u001b[0m\u001b[0;34m\u001b[0m\u001b[0;34m\u001b[0m\u001b[0;34m\u001b[0m\u001b[0m\n",
      "\u001b[0;32m/opt/conda/lib/python3.7/site-packages/sklearn/metrics/_classification.py\u001b[0m in \u001b[0;36m_check_targets\u001b[0;34m(y_true, y_pred)\u001b[0m\n\u001b[1;32m     82\u001b[0m     \"\"\"\n\u001b[1;32m     83\u001b[0m     \u001b[0mcheck_consistent_length\u001b[0m\u001b[0;34m(\u001b[0m\u001b[0my_true\u001b[0m\u001b[0;34m,\u001b[0m \u001b[0my_pred\u001b[0m\u001b[0;34m)\u001b[0m\u001b[0;34m\u001b[0m\u001b[0;34m\u001b[0m\u001b[0m\n\u001b[0;32m---> 84\u001b[0;31m     \u001b[0mtype_true\u001b[0m \u001b[0;34m=\u001b[0m \u001b[0mtype_of_target\u001b[0m\u001b[0;34m(\u001b[0m\u001b[0my_true\u001b[0m\u001b[0;34m)\u001b[0m\u001b[0;34m\u001b[0m\u001b[0;34m\u001b[0m\u001b[0m\n\u001b[0m\u001b[1;32m     85\u001b[0m     \u001b[0mtype_pred\u001b[0m \u001b[0;34m=\u001b[0m \u001b[0mtype_of_target\u001b[0m\u001b[0;34m(\u001b[0m\u001b[0my_pred\u001b[0m\u001b[0;34m)\u001b[0m\u001b[0;34m\u001b[0m\u001b[0;34m\u001b[0m\u001b[0m\n\u001b[1;32m     86\u001b[0m \u001b[0;34m\u001b[0m\u001b[0m\n",
      "\u001b[0;32m/opt/conda/lib/python3.7/site-packages/sklearn/utils/multiclass.py\u001b[0m in \u001b[0;36mtype_of_target\u001b[0;34m(y)\u001b[0m\n\u001b[1;32m    301\u001b[0m     \u001b[0;32mif\u001b[0m \u001b[0my\u001b[0m\u001b[0;34m.\u001b[0m\u001b[0mdtype\u001b[0m\u001b[0;34m.\u001b[0m\u001b[0mkind\u001b[0m \u001b[0;34m==\u001b[0m \u001b[0;34m'f'\u001b[0m \u001b[0;32mand\u001b[0m \u001b[0mnp\u001b[0m\u001b[0;34m.\u001b[0m\u001b[0many\u001b[0m\u001b[0;34m(\u001b[0m\u001b[0my\u001b[0m \u001b[0;34m!=\u001b[0m \u001b[0my\u001b[0m\u001b[0;34m.\u001b[0m\u001b[0mastype\u001b[0m\u001b[0;34m(\u001b[0m\u001b[0mint\u001b[0m\u001b[0;34m)\u001b[0m\u001b[0;34m)\u001b[0m\u001b[0;34m:\u001b[0m\u001b[0;34m\u001b[0m\u001b[0;34m\u001b[0m\u001b[0m\n\u001b[1;32m    302\u001b[0m         \u001b[0;31m# [.1, .2, 3] or [[.1, .2, 3]] or [[1., .2]] and not [1., 2., 3.]\u001b[0m\u001b[0;34m\u001b[0m\u001b[0;34m\u001b[0m\u001b[0;34m\u001b[0m\u001b[0m\n\u001b[0;32m--> 303\u001b[0;31m         \u001b[0m_assert_all_finite\u001b[0m\u001b[0;34m(\u001b[0m\u001b[0my\u001b[0m\u001b[0;34m)\u001b[0m\u001b[0;34m\u001b[0m\u001b[0;34m\u001b[0m\u001b[0m\n\u001b[0m\u001b[1;32m    304\u001b[0m         \u001b[0;32mreturn\u001b[0m \u001b[0;34m'continuous'\u001b[0m \u001b[0;34m+\u001b[0m \u001b[0msuffix\u001b[0m\u001b[0;34m\u001b[0m\u001b[0;34m\u001b[0m\u001b[0m\n\u001b[1;32m    305\u001b[0m \u001b[0;34m\u001b[0m\u001b[0m\n",
      "\u001b[0;32m/opt/conda/lib/python3.7/site-packages/sklearn/utils/validation.py\u001b[0m in \u001b[0;36m_assert_all_finite\u001b[0;34m(X, allow_nan, msg_dtype)\u001b[0m\n\u001b[1;32m    104\u001b[0m                     \u001b[0mmsg_err\u001b[0m\u001b[0;34m.\u001b[0m\u001b[0mformat\u001b[0m\u001b[0;34m\u001b[0m\u001b[0;34m\u001b[0m\u001b[0m\n\u001b[1;32m    105\u001b[0m                     (type_err,\n\u001b[0;32m--> 106\u001b[0;31m                      msg_dtype if msg_dtype is not None else X.dtype)\n\u001b[0m\u001b[1;32m    107\u001b[0m             )\n\u001b[1;32m    108\u001b[0m     \u001b[0;31m# for object dtype data, we only check for NaNs (GH-13254)\u001b[0m\u001b[0;34m\u001b[0m\u001b[0;34m\u001b[0m\u001b[0;34m\u001b[0m\u001b[0m\n",
      "\u001b[0;31mValueError\u001b[0m: Input contains NaN, infinity or a value too large for dtype('float64')."
     ]
    }
   ],
   "source": [
    "result = trainer.predict(test_dataset=test_dataset)"
   ]
  },
  {
   "cell_type": "code",
   "execution_count": null,
   "id": "adjusted-assault",
   "metadata": {},
   "outputs": [],
   "source": [
    "result"
   ]
  },
  {
   "cell_type": "code",
   "execution_count": null,
   "id": "whole-broadcasting",
   "metadata": {},
   "outputs": [],
   "source": [
    "predicted_labels = [convert_prediction(pred) for pred in result]\n"
   ]
  },
  {
   "cell_type": "code",
   "execution_count": null,
   "id": "monetary-accident",
   "metadata": {},
   "outputs": [],
   "source": [
    "output = pd.DataFrame({'id':test_df.id,'target':predicted_labels})\n",
    "output"
   ]
  },
  {
   "cell_type": "code",
   "execution_count": null,
   "id": "absent-reading",
   "metadata": {},
   "outputs": [],
   "source": [
    "submission = pd.Series(output.target.values,index=output.id).to_dict()\n",
    "with open('test-output.json', 'w') as f:\n",
    "    json.dump(submission, f)"
   ]
  },
  {
   "cell_type": "markdown",
   "id": "graphic-danger",
   "metadata": {},
   "source": [
    "## Text-only BERT"
   ]
  },
  {
   "cell_type": "markdown",
   "id": "gorgeous-russell",
   "metadata": {},
   "source": [
    "## Loading BertTokenizer\n",
    "\n",
    "Load tokenizer based on wordpiece approach"
   ]
  },
  {
   "cell_type": "code",
   "execution_count": null,
   "id": "developmental-fitness",
   "metadata": {},
   "outputs": [],
   "source": [
    "# TODO: Check whether transformerss is allowed\n",
    "from transformers import BertTokenizer\n",
    "\n",
    "tokenizer = BertTokenizer.from_pretrained('bert-base-uncased', do_lower_case=True)"
   ]
  },
  {
   "cell_type": "code",
   "execution_count": null,
   "id": "confirmed-blogger",
   "metadata": {},
   "outputs": [],
   "source": [
    "import numpy as np\n",
    "import tensorflow as tf "
   ]
  },
  {
   "cell_type": "markdown",
   "id": "returning-simpson",
   "metadata": {},
   "source": [
    "## BERT encoding\n",
    "\n",
    "Data is encoded according to BERT requirement.There is a very helpful function called encode_plus provided in the Tokenizer class. It can seamlessly perform the following operations:\n",
    "\n",
    "Tokenize the text\n",
    "Add special tokens - [CLS] and [SEP]\n",
    "\n",
    "Add special tokens - [CLS] and [SEP]\n",
    "\n",
    "create token IDs\n",
    "\n",
    "Pad the sentences to a common length\n",
    "\n",
    "Create attention masks for the above PAD tokens"
   ]
  },
  {
   "cell_type": "code",
   "execution_count": null,
   "id": "standard-family",
   "metadata": {},
   "outputs": [],
   "source": [
    "def bert_encode(data,maximum_length) :\n",
    "    input_ids = []\n",
    "    attention_masks = []\n",
    "\n",
    "\n",
    "    for i in range(len(data.text)):\n",
    "        encoded = tokenizer.encode_plus(\n",
    "            data.text[i],\n",
    "            add_special_tokens=True,\n",
    "            max_length=maximum_length,\n",
    "            pad_to_max_length=True,\n",
    "            return_attention_mask=True,\n",
    "            truncation = True\n",
    "\n",
    "        )\n",
    "\n",
    "        input_ids.append(encoded['input_ids'])\n",
    "        attention_masks.append(encoded['attention_mask'])\n",
    "    return np.array(input_ids),np.array(attention_masks)"
   ]
  },
  {
   "cell_type": "markdown",
   "id": "exotic-facility",
   "metadata": {},
   "source": [
    "Input are 2 Numpy array. Let me briefly go over them:\n",
    "\n",
    "1) input_ids : list of token ids to be fed to a model\n",
    "\n",
    "2) attention_masks: list of indices specifying which tokens should be attended to by the model.The input sequences are denoted by 1 and the padded ones by 0. These masks help to differentiate between the two.\n",
    "\n",
    "Note : Token Ids are not necessary as it is used Two Sentence Problem (To differentiate two sentence)"
   ]
  },
  {
   "cell_type": "code",
   "execution_count": null,
   "id": "infinite-commissioner",
   "metadata": {},
   "outputs": [],
   "source": [
    "combined_input_ids,combined_attention_masks = bert_encode(combined_df,512)\n",
    "test_input_ids,test_attention_masks = bert_encode(test_df,512)"
   ]
  },
  {
   "cell_type": "code",
   "execution_count": null,
   "id": "composed-detection",
   "metadata": {},
   "outputs": [],
   "source": [
    "combined_input_ids"
   ]
  },
  {
   "cell_type": "code",
   "execution_count": null,
   "id": "joined-trance",
   "metadata": {},
   "outputs": [],
   "source": [
    "len(combined_input_ids)"
   ]
  },
  {
   "cell_type": "markdown",
   "id": "framed-footage",
   "metadata": {},
   "source": [
    "## Creating Custom Model\n",
    "\n",
    "Base TFBert Model with Dense layer and sigmoid activation as head."
   ]
  },
  {
   "cell_type": "code",
   "execution_count": null,
   "id": "entire-discipline",
   "metadata": {},
   "outputs": [],
   "source": [
    "import tensorflow as tf\n",
    "import tensorflow_addons as tfa\n",
    "from tensorflow.keras.optimizers import Adam\n",
    "\n",
    "def create_model(bert_model):\n",
    "    input_ids = tf.keras.Input(shape=(512,),dtype='int32')\n",
    "    attention_masks = tf.keras.Input(shape=(512,),dtype='int32')\n",
    "\n",
    "    output = bert_model([input_ids,attention_masks])\n",
    "    output = output[1]\n",
    "    output = tf.keras.layers.Dense(32,activation='relu')(output)\n",
    "    output = tf.keras.layers.Dropout(0.2)(output)\n",
    "\n",
    "    output = tf.keras.layers.Dense(1,activation='sigmoid')(output)\n",
    "    model = tf.keras.models.Model(inputs = [input_ids,attention_masks],outputs = output)\n",
    "    model.compile(Adam(lr=6e-6), loss='binary_crossentropy', metrics=['accuracy', tf.keras.metrics.Precision(), tf.keras.metrics.Recall()])\n",
    "    return model"
   ]
  },
  {
   "cell_type": "markdown",
   "id": "regulated-homeless",
   "metadata": {},
   "source": [
    "## TFBertModel\n",
    "\n",
    "The bare Bert Model transformer outputing raw hidden-states without any specific head on top. https://huggingface.co/transformers/model_doc/bert.html#tfbertmodel"
   ]
  },
  {
   "cell_type": "code",
   "execution_count": null,
   "id": "associate-partnership",
   "metadata": {},
   "outputs": [],
   "source": [
    "#torch.cuda.empty_cache()"
   ]
  },
  {
   "cell_type": "code",
   "execution_count": null,
   "id": "hungry-burst",
   "metadata": {},
   "outputs": [],
   "source": [
    "from transformers import TFBertModel\n",
    "\n",
    "bert_model = TFBertModel.from_pretrained('bert-base-uncased')"
   ]
  },
  {
   "cell_type": "markdown",
   "id": "neural-california",
   "metadata": {},
   "source": [
    "## Implementing custom model"
   ]
  },
  {
   "cell_type": "code",
   "execution_count": null,
   "id": "preceding-webster",
   "metadata": {},
   "outputs": [],
   "source": [
    "model = create_model(bert_model)\n",
    "model.summary()"
   ]
  },
  {
   "cell_type": "markdown",
   "id": "disabled-puppy",
   "metadata": {},
   "source": [
    "## Training\n",
    "\n",
    "Fit for **5 epochs**:"
   ]
  },
  {
   "cell_type": "code",
   "execution_count": null,
   "id": "liked-album",
   "metadata": {},
   "outputs": [],
   "source": [
    "callback = tf.keras.callbacks.EarlyStopping(monitor='loss', patience=3)"
   ]
  },
  {
   "cell_type": "code",
   "execution_count": null,
   "id": "limiting-lotus",
   "metadata": {},
   "outputs": [],
   "source": [
    "history = model.fit([combined_input_ids,combined_attention_masks],combined_df.label,validation_split=0.1,callbacks=[callback], epochs=5,batch_size=4)"
   ]
  },
  {
   "cell_type": "code",
   "execution_count": null,
   "id": "dress-foster",
   "metadata": {},
   "outputs": [],
   "source": [
    "acc = history.history['accuracy']\n",
    "val_acc = history.history['val_accuracy']\n",
    "loss = history.history['loss']\n",
    "val_loss = history.history['val_loss']"
   ]
  },
  {
   "cell_type": "code",
   "execution_count": null,
   "id": "featured-antarctica",
   "metadata": {},
   "outputs": [],
   "source": [
    "import matplotlib.pyplot as plt\n",
    "\n",
    "epochs = range(1, len(acc) + 1)\n",
    "\n",
    "plt.plot(epochs, acc, 'bo', label='Training acc')\n",
    "plt.plot(epochs, val_acc, 'b', label='Validation acc')\n",
    "plt.title('Training and validation accuracy')\n",
    "plt.legend()\n",
    "\n",
    "plt.figure()\n",
    "\n",
    "plt.plot(epochs, loss, 'bo', label='Training loss')\n",
    "plt.plot(epochs, val_loss, 'b', label='Validation loss')\n",
    "plt.title('Training and validation loss')\n",
    "plt.legend()\n",
    "\n",
    "\n",
    "plt.show()"
   ]
  },
  {
   "cell_type": "markdown",
   "id": "amateur-boards",
   "metadata": {},
   "source": [
    "## Testing"
   ]
  },
  {
   "cell_type": "code",
   "execution_count": null,
   "id": "olive-static",
   "metadata": {},
   "outputs": [],
   "source": [
    "result = model.predict([test_input_ids,test_attention_masks])\n",
    "result = np.round(result).astype(int)"
   ]
  },
  {
   "cell_type": "code",
   "execution_count": null,
   "id": "studied-logging",
   "metadata": {},
   "outputs": [],
   "source": [
    "predicted_labels = [convert_prediction(pred) for pred in result]"
   ]
  },
  {
   "cell_type": "code",
   "execution_count": null,
   "id": "advised-plate",
   "metadata": {},
   "outputs": [],
   "source": [
    "output = pd.DataFrame({'id':test_df.id,'target':predicted_labels})\n",
    "output"
   ]
  },
  {
   "cell_type": "code",
   "execution_count": null,
   "id": "rolled-knight",
   "metadata": {},
   "outputs": [],
   "source": [
    "submission = pd.Series(output.target.values,index=output.id).to_dict()\n",
    "with open('test-output.json', 'w') as f:\n",
    "    json.dump(submission, f)"
   ]
  },
  {
   "cell_type": "code",
   "execution_count": null,
   "id": "adverse-analyst",
   "metadata": {},
   "outputs": [],
   "source": []
  },
  {
   "cell_type": "code",
   "execution_count": null,
   "id": "identical-parker",
   "metadata": {},
   "outputs": [],
   "source": []
  },
  {
   "cell_type": "code",
   "execution_count": null,
   "id": "infrared-google",
   "metadata": {},
   "outputs": [],
   "source": []
  }
 ],
 "metadata": {
  "environment": {
   "name": "tf2-gpu.2-3.m65",
   "type": "gcloud",
   "uri": "gcr.io/deeplearning-platform-release/tf2-gpu.2-3:m65"
  },
  "kernelspec": {
   "display_name": "Python 3",
   "language": "python",
   "name": "python3"
  },
  "language_info": {
   "codemirror_mode": {
    "name": "ipython",
    "version": 3
   },
   "file_extension": ".py",
   "mimetype": "text/x-python",
   "name": "python",
   "nbconvert_exporter": "python",
   "pygments_lexer": "ipython3",
   "version": "3.7.10"
  }
 },
 "nbformat": 4,
 "nbformat_minor": 5
}
