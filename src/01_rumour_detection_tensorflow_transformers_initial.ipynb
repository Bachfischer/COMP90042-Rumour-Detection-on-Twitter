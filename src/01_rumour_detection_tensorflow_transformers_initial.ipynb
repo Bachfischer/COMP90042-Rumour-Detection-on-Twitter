{
 "cells": [
  {
   "cell_type": "code",
   "execution_count": 1,
   "id": "subtle-purple",
   "metadata": {},
   "outputs": [],
   "source": [
    "import json\n",
    "import re\n",
    "import sys\n",
    "import pandas as pd\n",
    "import numpy as np"
   ]
  },
  {
   "cell_type": "markdown",
   "id": "funky-testing",
   "metadata": {},
   "source": [
    "## Preprocessing"
   ]
  },
  {
   "cell_type": "code",
   "execution_count": null,
   "id": "defined-integration",
   "metadata": {},
   "outputs": [],
   "source": [
    "import load_data"
   ]
  },
  {
   "cell_type": "code",
   "execution_count": 17,
   "id": "intelligent-tracy",
   "metadata": {},
   "outputs": [],
   "source": [
    "train_df = load_data(data_file = '../data/train.data.jsonl', label_file = '../data/train.label.json', perform_stemming = False)\n",
    "dev_df = load_data(data_file = '../data/dev.data.jsonl', label_file = '../data/dev.label.json', perform_stemming = False)\n",
    "test_df = load_data(data_file = '../data/test.data.jsonl', label_file = None, perform_stemming = False)"
   ]
  },
  {
   "cell_type": "code",
   "execution_count": 19,
   "id": "intended-drill",
   "metadata": {},
   "outputs": [
    {
     "data": {
      "image/png": "[encoded data removed]",
      "text/plain": [
       "<Figure size 432x288 with 1 Axes>"
      ]
     },
     "metadata": {
      "needs_background": "light"
     },
     "output_type": "display_data"
    }
   ],
   "source": [
    "import matplotlib.pyplot as plt\n",
    "plt.title('Train Data')\n",
    "plt.xlabel('Target Distribution')\n",
    "plt.ylabel('Samples')\n",
    "plt.hist(train_df.label)\n",
    "plt.show()"
   ]
  },
  {
   "cell_type": "code",
   "execution_count": 20,
   "id": "exciting-newsletter",
   "metadata": {},
   "outputs": [
    {
     "data": {
      "text/html": [
       "<div>\n",
       "<style scoped>\n",
       "    .dataframe tbody tr th:only-of-type {\n",
       "        vertical-align: middle;\n",
       "    }\n",
       "\n",
       "    .dataframe tbody tr th {\n",
       "        vertical-align: top;\n",
       "    }\n",
       "\n",
       "    .dataframe thead th {\n",
       "        text-align: right;\n",
       "    }\n",
       "</style>\n",
       "<table border=\"1\" class=\"dataframe\">\n",
       "  <thead>\n",
       "    <tr style=\"text-align: right;\">\n",
       "      <th></th>\n",
       "      <th>id</th>\n",
       "      <th>text</th>\n",
       "      <th>retweet_count</th>\n",
       "      <th>favorite_count</th>\n",
       "      <th>question_mark</th>\n",
       "      <th>contains_url</th>\n",
       "      <th>number_urls</th>\n",
       "      <th>contains_media</th>\n",
       "      <th>statuses_count</th>\n",
       "      <th>listed_count</th>\n",
       "      <th>...</th>\n",
       "      <th>friends_count</th>\n",
       "      <th>contains_profile_background_image</th>\n",
       "      <th>reputation_score_1</th>\n",
       "      <th>reputation_score_2</th>\n",
       "      <th>favourites_count</th>\n",
       "      <th>verified</th>\n",
       "      <th>geo_enabled</th>\n",
       "      <th>has_description</th>\n",
       "      <th>length_description</th>\n",
       "      <th>label</th>\n",
       "    </tr>\n",
       "  </thead>\n",
       "  <tbody>\n",
       "    <tr>\n",
       "      <th>0</th>\n",
       "      <td>552800070199148544</td>\n",
       "      <td>How to respond to the murderous attack on Char...</td>\n",
       "      <td>228</td>\n",
       "      <td>77</td>\n",
       "      <td>True</td>\n",
       "      <td>False</td>\n",
       "      <td>0</td>\n",
       "      <td>True</td>\n",
       "      <td>27923</td>\n",
       "      <td>185</td>\n",
       "      <td>...</td>\n",
       "      <td>414</td>\n",
       "      <td>True</td>\n",
       "      <td>9.985542</td>\n",
       "      <td>0.908971</td>\n",
       "      <td>500</td>\n",
       "      <td>False</td>\n",
       "      <td>False</td>\n",
       "      <td>True</td>\n",
       "      <td>46</td>\n",
       "      <td>0</td>\n",
       "    </tr>\n",
       "    <tr>\n",
       "      <th>1</th>\n",
       "      <td>544388259359387648</td>\n",
       "      <td>You can not condemn an entire race, nation or ...</td>\n",
       "      <td>352</td>\n",
       "      <td>252</td>\n",
       "      <td>False</td>\n",
       "      <td>False</td>\n",
       "      <td>0</td>\n",
       "      <td>False</td>\n",
       "      <td>745</td>\n",
       "      <td>2</td>\n",
       "      <td>...</td>\n",
       "      <td>222</td>\n",
       "      <td>True</td>\n",
       "      <td>0.704036</td>\n",
       "      <td>0.413158</td>\n",
       "      <td>428</td>\n",
       "      <td>False</td>\n",
       "      <td>False</td>\n",
       "      <td>True</td>\n",
       "      <td>115</td>\n",
       "      <td>0</td>\n",
       "    </tr>\n",
       "    <tr>\n",
       "      <th>2</th>\n",
       "      <td>552805970536333314</td>\n",
       "      <td>Attempts to extend blame for this to all Musli...</td>\n",
       "      <td>876</td>\n",
       "      <td>400</td>\n",
       "      <td>False</td>\n",
       "      <td>False</td>\n",
       "      <td>0</td>\n",
       "      <td>False</td>\n",
       "      <td>74137</td>\n",
       "      <td>1431</td>\n",
       "      <td>...</td>\n",
       "      <td>1658</td>\n",
       "      <td>True</td>\n",
       "      <td>21.040989</td>\n",
       "      <td>0.954630</td>\n",
       "      <td>6423</td>\n",
       "      <td>False</td>\n",
       "      <td>True</td>\n",
       "      <td>True</td>\n",
       "      <td>149</td>\n",
       "      <td>0</td>\n",
       "    </tr>\n",
       "    <tr>\n",
       "      <th>3</th>\n",
       "      <td>525071376084791297</td>\n",
       "      <td>Rest in Peace, Cpl. Nathan Cirillo. Killed tod...</td>\n",
       "      <td>112</td>\n",
       "      <td>96</td>\n",
       "      <td>False</td>\n",
       "      <td>True</td>\n",
       "      <td>1</td>\n",
       "      <td>True</td>\n",
       "      <td>28103</td>\n",
       "      <td>418</td>\n",
       "      <td>...</td>\n",
       "      <td>1052</td>\n",
       "      <td>True</td>\n",
       "      <td>14.048433</td>\n",
       "      <td>0.933548</td>\n",
       "      <td>2140</td>\n",
       "      <td>True</td>\n",
       "      <td>True</td>\n",
       "      <td>True</td>\n",
       "      <td>157</td>\n",
       "      <td>1</td>\n",
       "    </tr>\n",
       "    <tr>\n",
       "      <th>4</th>\n",
       "      <td>498355319979143168</td>\n",
       "      <td>People DEBATING whether MikeBrown shoplifted o...</td>\n",
       "      <td>802</td>\n",
       "      <td>298</td>\n",
       "      <td>False</td>\n",
       "      <td>False</td>\n",
       "      <td>0</td>\n",
       "      <td>False</td>\n",
       "      <td>55920</td>\n",
       "      <td>65</td>\n",
       "      <td>...</td>\n",
       "      <td>914</td>\n",
       "      <td>True</td>\n",
       "      <td>2.114754</td>\n",
       "      <td>0.678947</td>\n",
       "      <td>25389</td>\n",
       "      <td>False</td>\n",
       "      <td>False</td>\n",
       "      <td>True</td>\n",
       "      <td>156</td>\n",
       "      <td>0</td>\n",
       "    </tr>\n",
       "    <tr>\n",
       "      <th>...</th>\n",
       "      <td>...</td>\n",
       "      <td>...</td>\n",
       "      <td>...</td>\n",
       "      <td>...</td>\n",
       "      <td>...</td>\n",
       "      <td>...</td>\n",
       "      <td>...</td>\n",
       "      <td>...</td>\n",
       "      <td>...</td>\n",
       "      <td>...</td>\n",
       "      <td>...</td>\n",
       "      <td>...</td>\n",
       "      <td>...</td>\n",
       "      <td>...</td>\n",
       "      <td>...</td>\n",
       "      <td>...</td>\n",
       "      <td>...</td>\n",
       "      <td>...</td>\n",
       "      <td>...</td>\n",
       "      <td>...</td>\n",
       "      <td>...</td>\n",
       "    </tr>\n",
       "    <tr>\n",
       "      <th>5216</th>\n",
       "      <td>525025279803424768</td>\n",
       "      <td>The soldier shot dead in Wednesday is Ottawa a...</td>\n",
       "      <td>119</td>\n",
       "      <td>36</td>\n",
       "      <td>False</td>\n",
       "      <td>False</td>\n",
       "      <td>0</td>\n",
       "      <td>True</td>\n",
       "      <td>88483</td>\n",
       "      <td>306</td>\n",
       "      <td>...</td>\n",
       "      <td>2454</td>\n",
       "      <td>True</td>\n",
       "      <td>2.663951</td>\n",
       "      <td>0.727071</td>\n",
       "      <td>1903</td>\n",
       "      <td>True</td>\n",
       "      <td>True</td>\n",
       "      <td>True</td>\n",
       "      <td>101</td>\n",
       "      <td>1</td>\n",
       "    </tr>\n",
       "    <tr>\n",
       "      <th>5217</th>\n",
       "      <td>552784600502915072</td>\n",
       "      <td>Charlie Hebdo became well known for publishing...</td>\n",
       "      <td>202</td>\n",
       "      <td>41</td>\n",
       "      <td>False</td>\n",
       "      <td>False</td>\n",
       "      <td>0</td>\n",
       "      <td>False</td>\n",
       "      <td>15128</td>\n",
       "      <td>1657</td>\n",
       "      <td>...</td>\n",
       "      <td>2268</td>\n",
       "      <td>True</td>\n",
       "      <td>18.330101</td>\n",
       "      <td>0.948267</td>\n",
       "      <td>0</td>\n",
       "      <td>True</td>\n",
       "      <td>True</td>\n",
       "      <td>True</td>\n",
       "      <td>158</td>\n",
       "      <td>0</td>\n",
       "    </tr>\n",
       "    <tr>\n",
       "      <th>5218</th>\n",
       "      <td>499696525808001024</td>\n",
       "      <td>We got through. That is a sniper on top of a t...</td>\n",
       "      <td>432</td>\n",
       "      <td>55</td>\n",
       "      <td>False</td>\n",
       "      <td>True</td>\n",
       "      <td>1</td>\n",
       "      <td>False</td>\n",
       "      <td>61902</td>\n",
       "      <td>1627</td>\n",
       "      <td>...</td>\n",
       "      <td>521</td>\n",
       "      <td>True</td>\n",
       "      <td>54.639847</td>\n",
       "      <td>0.982027</td>\n",
       "      <td>1163</td>\n",
       "      <td>False</td>\n",
       "      <td>True</td>\n",
       "      <td>True</td>\n",
       "      <td>159</td>\n",
       "      <td>0</td>\n",
       "    </tr>\n",
       "    <tr>\n",
       "      <th>5219</th>\n",
       "      <td>580320612155060224</td>\n",
       "      <td>Last position of Germanwings flight 4U9525 at ...</td>\n",
       "      <td>3092</td>\n",
       "      <td>480</td>\n",
       "      <td>False</td>\n",
       "      <td>True</td>\n",
       "      <td>1</td>\n",
       "      <td>True</td>\n",
       "      <td>7991</td>\n",
       "      <td>2384</td>\n",
       "      <td>...</td>\n",
       "      <td>369</td>\n",
       "      <td>True</td>\n",
       "      <td>578.891892</td>\n",
       "      <td>0.998276</td>\n",
       "      <td>1131</td>\n",
       "      <td>True</td>\n",
       "      <td>True</td>\n",
       "      <td>True</td>\n",
       "      <td>146</td>\n",
       "      <td>1</td>\n",
       "    </tr>\n",
       "    <tr>\n",
       "      <th>5220</th>\n",
       "      <td>553218279557582849</td>\n",
       "      <td>Kudos to Google for donating €250,000 to help ...</td>\n",
       "      <td>151</td>\n",
       "      <td>100</td>\n",
       "      <td>False</td>\n",
       "      <td>True</td>\n",
       "      <td>1</td>\n",
       "      <td>False</td>\n",
       "      <td>133992</td>\n",
       "      <td>4642</td>\n",
       "      <td>...</td>\n",
       "      <td>3524</td>\n",
       "      <td>True</td>\n",
       "      <td>17.401135</td>\n",
       "      <td>0.945656</td>\n",
       "      <td>36328</td>\n",
       "      <td>True</td>\n",
       "      <td>True</td>\n",
       "      <td>True</td>\n",
       "      <td>159</td>\n",
       "      <td>0</td>\n",
       "    </tr>\n",
       "  </tbody>\n",
       "</table>\n",
       "<p>5221 rows × 21 columns</p>\n",
       "</div>"
      ],
      "text/plain": [
       "                      id                                               text  \\\n",
       "0     552800070199148544  How to respond to the murderous attack on Char...   \n",
       "1     544388259359387648  You can not condemn an entire race, nation or ...   \n",
       "2     552805970536333314  Attempts to extend blame for this to all Musli...   \n",
       "3     525071376084791297  Rest in Peace, Cpl. Nathan Cirillo. Killed tod...   \n",
       "4     498355319979143168  People DEBATING whether MikeBrown shoplifted o...   \n",
       "...                  ...                                                ...   \n",
       "5216  525025279803424768  The soldier shot dead in Wednesday is Ottawa a...   \n",
       "5217  552784600502915072  Charlie Hebdo became well known for publishing...   \n",
       "5218  499696525808001024  We got through. That is a sniper on top of a t...   \n",
       "5219  580320612155060224  Last position of Germanwings flight 4U9525 at ...   \n",
       "5220  553218279557582849  Kudos to Google for donating €250,000 to help ...   \n",
       "\n",
       "      retweet_count  favorite_count  question_mark  contains_url  number_urls  \\\n",
       "0               228              77           True         False            0   \n",
       "1               352             252          False         False            0   \n",
       "2               876             400          False         False            0   \n",
       "3               112              96          False          True            1   \n",
       "4               802             298          False         False            0   \n",
       "...             ...             ...            ...           ...          ...   \n",
       "5216            119              36          False         False            0   \n",
       "5217            202              41          False         False            0   \n",
       "5218            432              55          False          True            1   \n",
       "5219           3092             480          False          True            1   \n",
       "5220            151             100          False          True            1   \n",
       "\n",
       "      contains_media  statuses_count  listed_count  ...  friends_count  \\\n",
       "0               True           27923           185  ...            414   \n",
       "1              False             745             2  ...            222   \n",
       "2              False           74137          1431  ...           1658   \n",
       "3               True           28103           418  ...           1052   \n",
       "4              False           55920            65  ...            914   \n",
       "...              ...             ...           ...  ...            ...   \n",
       "5216            True           88483           306  ...           2454   \n",
       "5217           False           15128          1657  ...           2268   \n",
       "5218           False           61902          1627  ...            521   \n",
       "5219            True            7991          2384  ...            369   \n",
       "5220           False          133992          4642  ...           3524   \n",
       "\n",
       "      contains_profile_background_image  reputation_score_1  \\\n",
       "0                                  True            9.985542   \n",
       "1                                  True            0.704036   \n",
       "2                                  True           21.040989   \n",
       "3                                  True           14.048433   \n",
       "4                                  True            2.114754   \n",
       "...                                 ...                 ...   \n",
       "5216                               True            2.663951   \n",
       "5217                               True           18.330101   \n",
       "5218                               True           54.639847   \n",
       "5219                               True          578.891892   \n",
       "5220                               True           17.401135   \n",
       "\n",
       "      reputation_score_2  favourites_count  verified  geo_enabled  \\\n",
       "0               0.908971               500     False        False   \n",
       "1               0.413158               428     False        False   \n",
       "2               0.954630              6423     False         True   \n",
       "3               0.933548              2140      True         True   \n",
       "4               0.678947             25389     False        False   \n",
       "...                  ...               ...       ...          ...   \n",
       "5216            0.727071              1903      True         True   \n",
       "5217            0.948267                 0      True         True   \n",
       "5218            0.982027              1163     False         True   \n",
       "5219            0.998276              1131      True         True   \n",
       "5220            0.945656             36328      True         True   \n",
       "\n",
       "      has_description  length_description  label  \n",
       "0                True                  46      0  \n",
       "1                True                 115      0  \n",
       "2                True                 149      0  \n",
       "3                True                 157      1  \n",
       "4                True                 156      0  \n",
       "...               ...                 ...    ...  \n",
       "5216             True                 101      1  \n",
       "5217             True                 158      0  \n",
       "5218             True                 159      0  \n",
       "5219             True                 146      1  \n",
       "5220             True                 159      0  \n",
       "\n",
       "[5221 rows x 21 columns]"
      ]
     },
     "execution_count": 20,
     "metadata": {},
     "output_type": "execute_result"
    }
   ],
   "source": [
    "combined_df = train_df.append(dev_df, ignore_index = True)\n",
    "combined_df"
   ]
  },
  {
   "cell_type": "code",
   "execution_count": 22,
   "id": "designed-chemical",
   "metadata": {},
   "outputs": [
    {
     "data": {
      "text/plain": [
       "'Update - PA: gunman holding hostages in Paris grocery has been killed Wish we would been as decisive with the Lee Rigby killers rot in hell! Update - PA: gunman holding hostages in Paris grocery has been killed” 🙏🙏 GOOD 😃 surely you mean Islamist terrorist not gunman !! good shoot them all Paris will mourn forever Any news on the woman hostage taker? thank fuck for that! GET IN! Fucking lunatic prick Update - PA: gunman holding hostages in Paris grocery has been killed” TangoDown \"them all\" there was two.... Amen to that 👏👍 well done 🇫🇷best way to deal with the scum Hope he fucking rots in hell. good. great result ,,,,no messing french love em , we would still be fucking around if happened here , PC begrade  rule the uk ...... I hope it was VERY painful . Rot in hell. good! hope he/she rots in hell,sending thoughts to the victims and hostages at this awful time. Evil Bastards!! any news on the hostages or what? Dont care about the terrorists'"
      ]
     },
     "execution_count": 22,
     "metadata": {},
     "output_type": "execute_result"
    }
   ],
   "source": [
    "combined_df['text'][5]"
   ]
  },
  {
   "cell_type": "markdown",
   "id": "mighty-sandwich",
   "metadata": {},
   "source": [
    "## Text-only BERT (Tensorflow)"
   ]
  },
  {
   "cell_type": "markdown",
   "id": "beautiful-filter",
   "metadata": {},
   "source": [
    "## Loading BertTokenizer\n",
    "\n",
    "Load tokenizer based on wordpiece approach"
   ]
  },
  {
   "cell_type": "code",
   "execution_count": 16,
   "id": "included-mistress",
   "metadata": {},
   "outputs": [],
   "source": [
    "# TODO: Check whether transformerss is allowed\n",
    "from transformers import BertTokenizer\n",
    "\n",
    "tokenizer = BertTokenizer.from_pretrained('bert-large-uncased', do_lower_case=True)"
   ]
  },
  {
   "cell_type": "code",
   "execution_count": 17,
   "id": "positive-client",
   "metadata": {},
   "outputs": [],
   "source": [
    "import numpy as np\n",
    "import tensorflow as tf "
   ]
  },
  {
   "cell_type": "markdown",
   "id": "fatal-registrar",
   "metadata": {},
   "source": [
    "## BERT encoding\n",
    "\n",
    "Data is encoded according to BERT requirement.\n",
    "\n",
    "* Tokenize the text\n",
    "* Add special tokens - [CLS] and [SEP]\n",
    "* Pad the sentences to a common length\n",
    "* Create attention masks for the above PAD tokens"
   ]
  },
  {
   "cell_type": "code",
   "execution_count": 18,
   "id": "desperate-trance",
   "metadata": {},
   "outputs": [],
   "source": [
    "def bert_encode(data,maximum_length) :\n",
    "    input_ids = []\n",
    "    attention_masks = []\n",
    "\n",
    "\n",
    "    for i in range(len(data.text)):\n",
    "        encoded = tokenizer.encode_plus(\n",
    "            data.text[i],\n",
    "            add_special_tokens=True,\n",
    "            max_length=maximum_length,\n",
    "            pad_to_max_length=True,\n",
    "            return_attention_mask=True,\n",
    "            truncation = True\n",
    "\n",
    "        )\n",
    "\n",
    "        input_ids.append(encoded['input_ids'])\n",
    "        attention_masks.append(encoded['attention_mask'])\n",
    "    return np.array(input_ids),np.array(attention_masks)"
   ]
  },
  {
   "cell_type": "markdown",
   "id": "patient-transfer",
   "metadata": {},
   "source": [
    "Input are 2 Numpy array. Let me briefly go over them:\n",
    "\n",
    "1) input_ids : list of token ids to be fed to a model\n",
    "\n",
    "2) attention_masks: list of indices specifying which tokens should be attended to by the model.The input sequences are denoted by 1 and the padded ones by 0. These masks help to differentiate between the two."
   ]
  },
  {
   "cell_type": "code",
   "execution_count": 19,
   "id": "conventional-computer",
   "metadata": {},
   "outputs": [
    {
     "name": "stderr",
     "output_type": "stream",
     "text": [
      "/opt/conda/lib/python3.7/site-packages/transformers/tokenization_utils_base.py:1770: FutureWarning: The `pad_to_max_length` argument is deprecated and will be removed in a future version, use `padding=True` or `padding='longest'` to pad to the longest sequence in the batch, or use `padding='max_length'` to pad to a max length. In this case, you can give a specific length with `max_length` (e.g. `max_length=45`) or leave max_length to None to pad to the maximal input size of the model (e.g. 512 for Bert).\n",
      "  FutureWarning,\n"
     ]
    }
   ],
   "source": [
    "combined_input_ids,combined_attention_masks = bert_encode(combined_df,512)\n",
    "test_input_ids,test_attention_masks = bert_encode(test_df,512)"
   ]
  },
  {
   "cell_type": "code",
   "execution_count": 20,
   "id": "forty-jacket",
   "metadata": {},
   "outputs": [
    {
     "data": {
      "text/plain": [
       "array([[  101,  2129,  2000, ...,     0,     0,     0],\n",
       "       [  101,  2017,  2064, ...,  7499,  1012,   102],\n",
       "       [  101,  4740,  2000, ...,     0,     0,     0],\n",
       "       ...,\n",
       "       [  101,  2057,  2288, ...,  3808,  2034,   102],\n",
       "       [  101,  2197,  2597, ...,  7471,  3177,   102],\n",
       "       [  101, 13970, 12269, ...,     0,     0,     0]])"
      ]
     },
     "execution_count": 20,
     "metadata": {},
     "output_type": "execute_result"
    }
   ],
   "source": [
    "combined_input_ids"
   ]
  },
  {
   "cell_type": "code",
   "execution_count": 21,
   "id": "entertaining-founder",
   "metadata": {},
   "outputs": [
    {
     "data": {
      "text/plain": [
       "5221"
      ]
     },
     "execution_count": 21,
     "metadata": {},
     "output_type": "execute_result"
    }
   ],
   "source": [
    "len(combined_input_ids)"
   ]
  },
  {
   "cell_type": "markdown",
   "id": "adjusted-peeing",
   "metadata": {},
   "source": [
    "## Creating Custom Model\n",
    "\n",
    "Base TFBert Model with Dense layer and sigmoid activation as head."
   ]
  },
  {
   "cell_type": "code",
   "execution_count": 22,
   "id": "exceptional-consensus",
   "metadata": {},
   "outputs": [],
   "source": [
    "import tensorflow as tf\n",
    "import tensorflow_addons as tfa\n",
    "from tensorflow.keras.optimizers import Adam\n",
    "\n",
    "def create_model(bert_model):\n",
    "    input_ids = tf.keras.Input(shape=(512,),dtype='int32')\n",
    "    attention_masks = tf.keras.Input(shape=(512,),dtype='int32')\n",
    "\n",
    "    output = bert_model([input_ids,attention_masks])\n",
    "    output = output[1]\n",
    "    output = tf.keras.layers.Dense(32,activation='relu')(output)\n",
    "    output = tf.keras.layers.Dropout(0.2)(output)\n",
    "\n",
    "    output = tf.keras.layers.Dense(1,activation='sigmoid')(output)\n",
    "    model = tf.keras.models.Model(inputs = [input_ids,attention_masks],outputs = output)\n",
    "    model.compile(Adam(lr=6e-6), loss='binary_crossentropy', metrics=['accuracy', tf.keras.metrics.Precision(), tf.keras.metrics.Recall()])\n",
    "    return model"
   ]
  },
  {
   "cell_type": "markdown",
   "id": "blond-california",
   "metadata": {},
   "source": [
    "## TFBertModel\n",
    "\n",
    "The bare Bert Model transformer outputing raw hidden-states without any specific head on top. https://huggingface.co/transformers/model_doc/bert.html#tfbertmodel"
   ]
  },
  {
   "cell_type": "code",
   "execution_count": 24,
   "id": "optical-entity",
   "metadata": {},
   "outputs": [
    {
     "name": "stderr",
     "output_type": "stream",
     "text": [
      "Some weights of the model checkpoint at bert-large-uncased were not used when initializing TFBertModel: ['nsp___cls', 'mlm___cls']\n",
      "- This IS expected if you are initializing TFBertModel from the checkpoint of a model trained on another task or with another architecture (e.g. initializing a BertForSequenceClassification model from a BertForPretraining model).\n",
      "- This IS NOT expected if you are initializing TFBertModel from the checkpoint of a model that you expect to be exactly identical (initializing a BertForSequenceClassification model from a BertForSequenceClassification model).\n",
      "All the weights of TFBertModel were initialized from the model checkpoint at bert-large-uncased.\n",
      "If your task is similar to the task the model of the checkpoint was trained on, you can already use TFBertModel for predictions without further training.\n"
     ]
    }
   ],
   "source": [
    "from transformers import TFBertModel\n",
    "\n",
    "bert_model = TFBertModel.from_pretrained('bert-large-uncased')"
   ]
  },
  {
   "cell_type": "markdown",
   "id": "noticed-discharge",
   "metadata": {},
   "source": [
    "## Implementing custom model"
   ]
  },
  {
   "cell_type": "code",
   "execution_count": 25,
   "id": "sized-frequency",
   "metadata": {},
   "outputs": [
    {
     "name": "stdout",
     "output_type": "stream",
     "text": [
      "Model: \"functional_1\"\n",
      "__________________________________________________________________________________________________\n",
      "Layer (type)                    Output Shape         Param #     Connected to                     \n",
      "==================================================================================================\n",
      "input_1 (InputLayer)            [(None, 512)]        0                                            \n",
      "__________________________________________________________________________________________________\n",
      "input_2 (InputLayer)            [(None, 512)]        0                                            \n",
      "__________________________________________________________________________________________________\n",
      "tf_bert_model (TFBertModel)     ((None, 512, 1024),  335141888   input_1[0][0]                    \n",
      "                                                                 input_2[0][0]                    \n",
      "__________________________________________________________________________________________________\n",
      "dense (Dense)                   (None, 32)           32800       tf_bert_model[0][1]              \n",
      "__________________________________________________________________________________________________\n",
      "dropout_73 (Dropout)            (None, 32)           0           dense[0][0]                      \n",
      "__________________________________________________________________________________________________\n",
      "dense_1 (Dense)                 (None, 1)            33          dropout_73[0][0]                 \n",
      "==================================================================================================\n",
      "Total params: 335,174,721\n",
      "Trainable params: 335,174,721\n",
      "Non-trainable params: 0\n",
      "__________________________________________________________________________________________________\n"
     ]
    }
   ],
   "source": [
    "model = create_model(bert_model)\n",
    "model.summary()"
   ]
  },
  {
   "cell_type": "markdown",
   "id": "normal-intellectual",
   "metadata": {},
   "source": [
    "## Training\n",
    "\n",
    "Fit for 5 epochs:"
   ]
  },
  {
   "cell_type": "code",
   "execution_count": 26,
   "id": "intense-idaho",
   "metadata": {},
   "outputs": [],
   "source": [
    "callback = tf.keras.callbacks.EarlyStopping(monitor='loss', patience=3)"
   ]
  },
  {
   "cell_type": "code",
   "execution_count": 35,
   "id": "infrared-editor",
   "metadata": {},
   "outputs": [
    {
     "name": "stdout",
     "output_type": "stream",
     "text": [
      "Epoch 1/2\n",
      "2349/2349 [==============================] - 3801s 2s/step - loss: 0.0551 - accuracy: 0.9838 - precision: 0.9757 - recall: 0.9769 - val_loss: 0.3225 - val_accuracy: 0.8967 - val_precision: 0.8284 - val_recall: 0.8485\n",
      "Epoch 2/2\n",
      "2349/2349 [==============================] - 3797s 2s/step - loss: 0.0362 - accuracy: 0.9885 - precision: 0.9832 - recall: 0.9832 - val_loss: 0.5083 - val_accuracy: 0.8757 - val_precision: 0.7747 - val_recall: 0.8545\n"
     ]
    }
   ],
   "source": [
    "history = model.fit([combined_input_ids,combined_attention_masks],combined_df.label,validation_split=0.1,callbacks=[callback], epochs=2,batch_size=2)"
   ]
  },
  {
   "cell_type": "code",
   "execution_count": 36,
   "id": "floppy-quantum",
   "metadata": {},
   "outputs": [],
   "source": [
    "acc = history.history['accuracy']\n",
    "val_acc = history.history['val_accuracy']\n",
    "loss = history.history['loss']\n",
    "val_loss = history.history['val_loss']"
   ]
  },
  {
   "cell_type": "code",
   "execution_count": 37,
   "id": "unnecessary-limitation",
   "metadata": {},
   "outputs": [
    {
     "data": {
      "image/png": "[encoded data removed]",
      "text/plain": [
       "<Figure size 432x288 with 1 Axes>"
      ]
     },
     "metadata": {
      "needs_background": "light"
     },
     "output_type": "display_data"
    },
    {
     "data": {
      "image/png": "[encoded data removed]",
      "text/plain": [
       "<Figure size 432x288 with 1 Axes>"
      ]
     },
     "metadata": {
      "needs_background": "light"
     },
     "output_type": "display_data"
    }
   ],
   "source": [
    "import matplotlib.pyplot as plt\n",
    "\n",
    "epochs = range(1, len(acc) + 1)\n",
    "\n",
    "plt.plot(epochs, acc, 'bo', label='Training acc')\n",
    "plt.plot(epochs, val_acc, 'b', label='Validation acc')\n",
    "plt.title('Training and validation accuracy')\n",
    "plt.legend()\n",
    "\n",
    "plt.figure()\n",
    "\n",
    "plt.plot(epochs, loss, 'bo', label='Training loss')\n",
    "plt.plot(epochs, val_loss, 'b', label='Validation loss')\n",
    "plt.title('Training and validation loss')\n",
    "plt.legend()\n",
    "\n",
    "\n",
    "plt.show()"
   ]
  },
  {
   "cell_type": "code",
   "execution_count": 39,
   "id": "secondary-tomorrow",
   "metadata": {},
   "outputs": [
    {
     "name": "stdout",
     "output_type": "stream",
     "text": [
      "INFO:tensorflow:Assets written to: ./pure_bert/pure_bert_v11/assets\n"
     ]
    },
    {
     "name": "stderr",
     "output_type": "stream",
     "text": [
      "INFO:tensorflow:Assets written to: ./pure_bert/pure_bert_v11/assets\n"
     ]
    }
   ],
   "source": [
    "model.save(\"./pure_bert/pure_bert_v11\")"
   ]
  },
  {
   "cell_type": "markdown",
   "id": "international-abortion",
   "metadata": {},
   "source": [
    "## Testing"
   ]
  },
  {
   "cell_type": "code",
   "execution_count": 40,
   "id": "female-chile",
   "metadata": {},
   "outputs": [],
   "source": [
    "result = model.predict([test_input_ids,test_attention_masks])\n",
    "result = np.round(result).astype(int)\n",
    "predicted_labels = [convert_prediction(pred) for pred in result]\n",
    "output = pd.DataFrame({'id':test_df.id,'target':predicted_labels})\n",
    "output"
   ]
  },
  {
   "cell_type": "code",
   "execution_count": 41,
   "id": "judicial-storage",
   "metadata": {},
   "outputs": [],
   "source": [
    "submission = pd.Series(output.target.values,index=output.id).to_dict()\n",
    "with open('test-output.json', 'w') as f:\n",
    "    json.dump(submission, f)"
   ]
  },
  {
   "cell_type": "code",
   "execution_count": 42,
   "id": "hired-milan",
   "metadata": {},
   "outputs": [
    {
     "data": {
      "text/html": [
       "<div>\n",
       "<style scoped>\n",
       "    .dataframe tbody tr th:only-of-type {\n",
       "        vertical-align: middle;\n",
       "    }\n",
       "\n",
       "    .dataframe tbody tr th {\n",
       "        vertical-align: top;\n",
       "    }\n",
       "\n",
       "    .dataframe thead th {\n",
       "        text-align: right;\n",
       "    }\n",
       "</style>\n",
       "<table border=\"1\" class=\"dataframe\">\n",
       "  <thead>\n",
       "    <tr style=\"text-align: right;\">\n",
       "      <th></th>\n",
       "      <th>id</th>\n",
       "      <th>target</th>\n",
       "    </tr>\n",
       "  </thead>\n",
       "  <tbody>\n",
       "    <tr>\n",
       "      <th>0</th>\n",
       "      <td>544382249178001408</td>\n",
       "      <td>rumour</td>\n",
       "    </tr>\n",
       "    <tr>\n",
       "      <th>1</th>\n",
       "      <td>525027317551079424</td>\n",
       "      <td>rumour</td>\n",
       "    </tr>\n",
       "    <tr>\n",
       "      <th>2</th>\n",
       "      <td>544273220128739329</td>\n",
       "      <td>rumour</td>\n",
       "    </tr>\n",
       "    <tr>\n",
       "      <th>3</th>\n",
       "      <td>499571799764770816</td>\n",
       "      <td>non-rumour</td>\n",
       "    </tr>\n",
       "    <tr>\n",
       "      <th>4</th>\n",
       "      <td>552844104418091008</td>\n",
       "      <td>non-rumour</td>\n",
       "    </tr>\n",
       "    <tr>\n",
       "      <th>...</th>\n",
       "      <td>...</td>\n",
       "      <td>...</td>\n",
       "    </tr>\n",
       "    <tr>\n",
       "      <th>576</th>\n",
       "      <td>553581227165642752</td>\n",
       "      <td>non-rumour</td>\n",
       "    </tr>\n",
       "    <tr>\n",
       "      <th>577</th>\n",
       "      <td>552816302780579840</td>\n",
       "      <td>non-rumour</td>\n",
       "    </tr>\n",
       "    <tr>\n",
       "      <th>578</th>\n",
       "      <td>580350000074457088</td>\n",
       "      <td>rumour</td>\n",
       "    </tr>\n",
       "    <tr>\n",
       "      <th>579</th>\n",
       "      <td>498584409055174656</td>\n",
       "      <td>non-rumour</td>\n",
       "    </tr>\n",
       "    <tr>\n",
       "      <th>580</th>\n",
       "      <td>524961070465945600</td>\n",
       "      <td>non-rumour</td>\n",
       "    </tr>\n",
       "  </tbody>\n",
       "</table>\n",
       "<p>581 rows × 2 columns</p>\n",
       "</div>"
      ],
      "text/plain": [
       "                     id      target\n",
       "0    544382249178001408      rumour\n",
       "1    525027317551079424      rumour\n",
       "2    544273220128739329      rumour\n",
       "3    499571799764770816  non-rumour\n",
       "4    552844104418091008  non-rumour\n",
       "..                  ...         ...\n",
       "576  553581227165642752  non-rumour\n",
       "577  552816302780579840  non-rumour\n",
       "578  580350000074457088      rumour\n",
       "579  498584409055174656  non-rumour\n",
       "580  524961070465945600  non-rumour\n",
       "\n",
       "[581 rows x 2 columns]"
      ]
     },
     "execution_count": 42,
     "metadata": {},
     "output_type": "execute_result"
    }
   ],
   "source": []
  }
 ],
 "metadata": {
  "environment": {
   "name": "tf2-gpu.2-3.m65",
   "type": "gcloud",
   "uri": "gcr.io/deeplearning-platform-release/tf2-gpu.2-3:m65"
  },
  "kernelspec": {
   "display_name": "Python 3",
   "language": "python",
   "name": "python3"
  },
  "language_info": {
   "codemirror_mode": {
    "name": "ipython",
    "version": 3
   },
   "file_extension": ".py",
   "mimetype": "text/x-python",
   "name": "python",
   "nbconvert_exporter": "python",
   "pygments_lexer": "ipython3",
   "version": "3.8.5"
  }
 },
 "nbformat": 4,
 "nbformat_minor": 5
}
